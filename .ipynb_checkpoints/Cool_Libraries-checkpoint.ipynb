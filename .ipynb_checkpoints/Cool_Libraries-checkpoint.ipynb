{
 "cells": [
  {
   "cell_type": "code",
   "execution_count": 1,
   "metadata": {},
   "outputs": [],
   "source": [
    "from IPython.core.interactiveshell import InteractiveShell\n",
    "InteractiveShell.ast_node_interactivity = \"all\""
   ]
  },
  {
   "cell_type": "markdown",
   "metadata": {},
   "source": [
    "# Loguru — Logging made easy\n",
    "\n",
    "https://github.com/Delgan/loguru"
   ]
  },
  {
   "cell_type": "code",
   "execution_count": 4,
   "metadata": {},
   "outputs": [],
   "source": [
    "from loguru import logger"
   ]
  },
  {
   "cell_type": "code",
   "execution_count": 5,
   "metadata": {},
   "outputs": [
    {
     "name": "stderr",
     "output_type": "stream",
     "text": [
      "2019-04-23 16:36:06.397 | DEBUG    | __main__:<module>:1 - Hello, cool debugger\n"
     ]
    }
   ],
   "source": [
    "logger.debug(\"Hello, cool debugger\")"
   ]
  },
  {
   "cell_type": "markdown",
   "metadata": {},
   "source": [
    "# more-itertool"
   ]
  },
  {
   "cell_type": "code",
   "execution_count": 4,
   "metadata": {},
   "outputs": [],
   "source": [
    "from more_itertools import peekable, chunked"
   ]
  },
  {
   "cell_type": "code",
   "execution_count": 3,
   "metadata": {},
   "outputs": [
    {
     "data": {
      "text/plain": [
       "'a'"
      ]
     },
     "execution_count": 3,
     "metadata": {},
     "output_type": "execute_result"
    },
    {
     "data": {
      "text/plain": [
       "'a'"
      ]
     },
     "execution_count": 3,
     "metadata": {},
     "output_type": "execute_result"
    }
   ],
   "source": [
    " p = peekable(['a', 'b'])\n",
    " p.peek()\n",
    " next(p)"
   ]
  },
  {
   "cell_type": "code",
   "execution_count": 5,
   "metadata": {},
   "outputs": [
    {
     "data": {
      "text/plain": [
       "[[1, 2, 3], [4, 5, 6]]"
      ]
     },
     "execution_count": 5,
     "metadata": {},
     "output_type": "execute_result"
    }
   ],
   "source": [
    "list(chunked([1, 2, 3, 4, 5, 6], 3))"
   ]
  },
  {
   "cell_type": "markdown",
   "metadata": {},
   "source": [
    "# MonkeyType\n",
    "MonkeyType collects runtime types of function arguments and return values, and can automatically generate stub files or even add draft type annotations directly to your Python code based on the types collected at runtime."
   ]
  },
  {
   "cell_type": "markdown",
   "metadata": {},
   "source": [
    "# requests-async\n",
    "Brings support for async/await syntax to Python's fabulous requests library."
   ]
  },
  {
   "cell_type": "markdown",
   "metadata": {},
   "source": [
    "# pyright\n",
    "Static type checker for Python\n"
   ]
  },
  {
   "cell_type": "markdown",
   "metadata": {},
   "source": [
    "# black\n",
    "The uncompromising Python code formatter https://black.readthedocs.io/en/stable/"
   ]
  },
  {
   "cell_type": "code",
   "execution_count": null,
   "metadata": {},
   "outputs": [],
   "source": []
  },
  {
   "cell_type": "markdown",
   "metadata": {},
   "source": [
    "# Image Paste"
   ]
  },
  {
   "cell_type": "code",
   "execution_count": 46,
   "metadata": {},
   "outputs": [],
   "source": [
    "from PIL import Image"
   ]
  },
  {
   "cell_type": "code",
   "execution_count": 51,
   "metadata": {},
   "outputs": [
    {
     "name": "stdout",
     "output_type": "stream",
     "text": [
      "['im', 'mode', '_size', 'palette', 'info', 'category', 'readonly', 'pyaccess', '_min_frame', 'custom_mimetype', 'tile', 'decoderconfig', 'decodermaxblock', 'fp', 'filename', '_exclusive_fp', 'bits', 'layers', 'layer', 'huffman_dc', 'huffman_ac', 'quantization', 'app', 'applist', 'icclist', '__module__', 'format', 'format_description', '_open', 'load_read', 'draft', 'load_djpeg', '_getexif', '_getmp', '__doc__', '__init__', 'get_format_mimetype', 'verify', 'load', 'load_prepare', 'load_end', '_seek_check', '_close_exclusive_fp_after_loading', 'width', 'height', 'size', '_new', '__enter__', '__exit__', 'close', '__del__', '_copy', '_ensure_mutable', '_dump', '__eq__', '__ne__', '__repr__', '_repr_png_', '__array_interface__', '__getstate__', '__setstate__', 'tobytes', 'tostring', 'tobitmap', 'frombytes', 'fromstring', 'convert', 'quantize', 'copy', '__copy__', 'crop', '_crop', '_expand', 'filter', 'getbands', 'getbbox', 'getcolors', 'getdata', 'getextrema', 'getexif', 'getim', 'getpalette', 'getpixel', 'getprojection', 'histogram', 'entropy', 'offset', 'paste', 'alpha_composite', 'point', 'putalpha', 'putdata', 'putpalette', 'putpixel', 'remap_palette', 'resize', 'rotate', 'save', 'seek', 'show', 'split', 'getchannel', 'tell', 'thumbnail', 'transform', '_Image__transformer', 'transpose', 'effect_spread', 'toqimage', 'toqpixmap', '__dict__', '__weakref__', '__hash__', '__str__', '__getattribute__', '__setattr__', '__delattr__', '__lt__', '__le__', '__gt__', '__ge__', '__new__', '__reduce_ex__', '__reduce__', '__subclasshook__', '__init_subclass__', '__format__', '__sizeof__', '__dir__', '__class__']\n",
      "\n",
      "(678, 381)\n"
     ]
    }
   ],
   "source": [
    "with Image.open('dog.jpeg') as IMG:\n",
    "    print(IMG.__dir__())\n",
    "    print()\n",
    "    print(IMG.size)\n",
    "    IMG.save(\"dog.png\")\n",
    "    w, h = IMG.size\n",
    "    area = (0, 0, w/2, h/2)\n",
    "    IMG.crop(area).save(\"dog_crop.png\")"
   ]
  },
  {
   "cell_type": "code",
   "execution_count": 58,
   "metadata": {},
   "outputs": [],
   "source": [
    "with Image.open('dog.png') as IMG:\n",
    "    with Image.open('chn_flag.png') as IMG1:\n",
    "        IMG.paste(IMG1, (IMG.size[0] - IMG1.size[1],  IMG.size[1] - IMG1.size[1]))\n",
    "        IMG.save(\"pasted.png\")"
   ]
  },
  {
   "cell_type": "code",
   "execution_count": null,
   "metadata": {},
   "outputs": [],
   "source": []
  },
  {
   "cell_type": "markdown",
   "metadata": {},
   "source": [
    "# Crawl Alibaba products"
   ]
  },
  {
   "cell_type": "code",
   "execution_count": null,
   "metadata": {},
   "outputs": [],
   "source": [
    "import re\n",
    "import requests\n",
    "import time\n",
    "\n",
    "\n",
    "def getNowTime(form='%Y-%m-%d_%H-%M-%S'):\n",
    "    nowTime = time.strftime(form, time.localtime())\n",
    "    return nowTime\n",
    "\n",
    "# 搜索关键字\n",
    "searchKey = '零食' \n",
    "# 输出文件编码（一般是utf-8，不过我用excel打开输出的csv文件发现会乱码，就用了ansi）\n",
    "encode = 'ansi' \n",
    "# keys是我要获取的宝贝信息属性\n",
    "keys = ('raw_title','view_price','item_loc','view_sales','comment_count','nick')\n",
    "\n",
    "url = 'https://s.taobao.com/search'\n",
    "params = {'q':searchKey, 'ie':'utf8'}\n",
    "header = {\n",
    "    \"cookie\":\"cna=EYnEFeatJWUCAbfhIw4Sd0GO; x=__ll%3D-1%26_ato%3D0; hng=CN%7Czh-CN%7CCNY%7C156; uc1=cookie14=UoTaHYecARKhrA%3D%3D; uc3=vt3=F8dBy32hRyZzP%2FF7mzQ%3D&lg2=U%2BGCWk%2F75gdr5Q%3D%3D&nk2=1DsN4FjjwTp04g%3D%3D&id2=UondHPobpDVKHQ%3D%3D; t=ad1fbf51ece233cf3cf73d97af1b6a71; tracknick=%5Cu4F0F%5Cu6625%5Cu7EA22013; lid=%E4%BC%8F%E6%98%A5%E7%BA%A22013; uc4=nk4=0%401up5I07xsWKbOPxFt%2BwuLaZ8XIpO&id4=0%40UOE3EhLY%2FlTwLmADBuTfmfBbGpHG; lgc=%5Cu4F0F%5Cu6625%5Cu7EA22013; enc=ieSqdE6T%2Fa5hYS%2FmKINH0mnUFINK5Fm1ZKC0431E%2BTA9eVjdMzX9GriCY%2FI2HzyyntvFQt66JXyZslcaz0kXgg%3D%3D; _tb_token_=536fb5e55481b; cookie2=157aab0a58189205dd5030a17d89ad52; _m_h5_tk=150df19a222f0e9b600697737515f233_1565931936244; _m_h5_tk_enc=909fba72db21ef8ca51c389f65d5446c; otherx=e%3D1%26p%3D*%26s%3D0%26c%3D0%26f%3D0%26g%3D0%26t%3D0; l=cBa4gFrRqYHNUtVvBOfiquI8a17O4IJ51sPzw4_G2ICP9B5DeMDOWZezto8kCnGVL6mpR3RhSKO4BYTKIPaTlZXRFJXn9MpO.; isg=BI6ORhr9X6-NrOuY33d_XmZFy2SQp1Ju1qe4XLjXJRHsGyp1IJ9IG0kdUwfSA0oh\",\n",
    "    \"referer\":\"https://detail.tmall.com/item.htm\",\n",
    "    \"user-agent\":\"Mozilla/5.0 (Windows NT 6.1; WOW64) AppleWebKit/537.36 (KHTML, like Gecko) Chrome/55.0.2883.87 UBrowser/6.2.4098.3 Safari/537.36\"\n",
    "}\n",
    "startPage = 1 # 起始页面\n",
    "pageTotal = 3 # 爬取多少页\n",
    "waitTime = 2 # 等待时间（如果爬的速度太快可能会出事）\n",
    "rowWrited = 0\n",
    "startTime = time.time()\n",
    "print('任务启动\\n{} | 初始化存储文件...'.format(getNowTime()))\n",
    "fileName = r'tb_{}_{}_{}_{}.csv'.format(searchKey, startPage, pageTotal, getNowTime())\n",
    "with open(fileName, 'w', encoding=encode) as saveFile:\n",
    "    saveFile.write(','.join(keys) + '\\n')\n",
    "\n",
    "print('关键词:{} 起始页面:{} 爬取页面数:{}, 开始执行..'.format(searchKey, startPage, pageTotal))\n",
    "for page in range(startPage, pageTotal+1):\n",
    "    print('\\npage{}: 获取数据...'.format(page))\n",
    "    time.sleep(waitTime)\n",
    "    params['s'] = str(page * 44) if page > 1 else '1'\n",
    "    resp = requests.get(url, params, headers=header)\n",
    "    results = [re.findall(r'\"{}\":\"([^\"]+)\"'.format(key), resp.text.replace('\\n','').replace('\\r','').replace(',','').strip(), re.I) for key in keys]\n",
    "    print('page{}: 正在写入数据...'.format(page))\n",
    "    with open(fileName, 'a', encoding=encode) as saveFile:\n",
    "        for row in range(len(results[0])):\n",
    "            print('\\r写入第{}条..'.format(row+1), end='')\n",
    "            rowWrited += 1\n",
    "            for key in range(len(results)):\n",
    "                try:\n",
    "                    saveFile.write('{}{}'.format(results[key][row], ',' if key+1<len(results) else '\\n'))\n",
    "                except:\n",
    "                    saveFile.write('null{}'.format(',' if key+1<len(results) else '\\n'))\n",
    "    print('page{}完成...'.format(page, len(results[0])))\n",
    "\n",
    "print('\\n任务完成!! 页面总数: {} | 写入数据: {}条 | 用时: {:.2f}s'.format(pageTotal, rowWrited, time.time()-startTime))"
   ]
  }
 ],
 "metadata": {
  "kernelspec": {
   "display_name": "Python 3",
   "language": "python",
   "name": "python3"
  },
  "language_info": {
   "codemirror_mode": {
    "name": "ipython",
    "version": 3
   },
   "file_extension": ".py",
   "mimetype": "text/x-python",
   "name": "python",
   "nbconvert_exporter": "python",
   "pygments_lexer": "ipython3",
   "version": "3.7.4"
  }
 },
 "nbformat": 4,
 "nbformat_minor": 4
}
