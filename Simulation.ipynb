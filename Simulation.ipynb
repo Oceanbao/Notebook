{
 "cells": [
  {
   "cell_type": "markdown",
   "metadata": {
    "toc": true
   },
   "source": [
    "<h1>Synopsis<span class=\"tocSkip\"></span></h1>\n",
    "<div class=\"toc\"><ul class=\"toc-item\"><li><span><a href=\"#Basic-Stochasticity-and-Simulation\" data-toc-modified-id=\"Basic-Stochasticity-and-Simulation-1\"><span class=\"toc-item-num\">1&nbsp;&nbsp;</span>Basic Stochasticity and Simulation</a></span><ul class=\"toc-item\"><li><span><a href=\"#Simulation---repeated-random-sampling-an-approximation-solution-solve-complex-problems\" data-toc-modified-id=\"Simulation---repeated-random-sampling-an-approximation-solution-solve-complex-problems-1.1\"><span class=\"toc-item-num\">1.1&nbsp;&nbsp;</span>Simulation - repeated random sampling an approximation solution solve complex problems</a></span></li><li><span><a href=\"#Bayes'-Rule-is-best-calculated-by-a-proba-matrix-showing-all-of-the-proba-along-with-marginal-proba.-Conditional-proba-can-then-be-visually-found-in-the-matrix.\" data-toc-modified-id=\"Bayes'-Rule-is-best-calculated-by-a-proba-matrix-showing-all-of-the-proba-along-with-marginal-proba.-Conditional-proba-can-then-be-visually-found-in-the-matrix.-1.2\"><span class=\"toc-item-num\">1.2&nbsp;&nbsp;</span>Bayes' Rule is best calculated by a proba-matrix showing all of the proba along with marginal proba. Conditional proba can then be visually found in the matrix.</a></span></li><li><span><a href=\"#The-science-of-Data-Generation\" data-toc-modified-id=\"The-science-of-Data-Generation-1.3\"><span class=\"toc-item-num\">1.3&nbsp;&nbsp;</span>The science of Data Generation</a></span></li></ul></li><li><span><a href=\"#eCOMM-Ad-Simulation\" data-toc-modified-id=\"eCOMM-Ad-Simulation-2\"><span class=\"toc-item-num\">2&nbsp;&nbsp;</span>eCOMM Ad Simulation</a></span><ul class=\"toc-item\"><li><ul class=\"toc-item\"><li><span><a href=\"#Funnel\" data-toc-modified-id=\"Funnel-2.0.1\"><span class=\"toc-item-num\">2.0.1&nbsp;&nbsp;</span>Funnel</a></span></li><li><span><a href=\"#Ad-Impression--&gt;-Click--&gt;-Signup--&gt;-Purchase\" data-toc-modified-id=\"Ad-Impression-->-Click-->-Signup-->-Purchase-2.0.2\"><span class=\"toc-item-num\">2.0.2&nbsp;&nbsp;</span>Ad Impression -&gt; Click -&gt; Signup -&gt; Purchase</a></span></li><li><span><a href=\"#Sign-up-Flow\" data-toc-modified-id=\"Sign-up-Flow-2.0.3\"><span class=\"toc-item-num\">2.0.3&nbsp;&nbsp;</span>Sign up Flow</a></span></li></ul></li><li><span><a href=\"#Proba-of-Losing-Money\" data-toc-modified-id=\"Proba-of-Losing-Money-2.1\"><span class=\"toc-item-num\">2.1&nbsp;&nbsp;</span>Proba of Losing Money</a></span></li></ul></li><li><span><a href=\"#Resampling-Methods\" data-toc-modified-id=\"Resampling-Methods-3\"><span class=\"toc-item-num\">3&nbsp;&nbsp;</span>Resampling Methods</a></span><ul class=\"toc-item\"><li><span><a href=\"#Bootstrapping-R_sqr-,-Coefficients-of-Dterminants\" data-toc-modified-id=\"Bootstrapping-R_sqr-,-Coefficients-of-Dterminants-3.1\"><span class=\"toc-item-num\">3.1&nbsp;&nbsp;</span>Bootstrapping R_sqr , Coefficients of Dterminants</a></span></li><li><span><a href=\"#Jackknife-resampling---avant-B/S\" data-toc-modified-id=\"Jackknife-resampling---avant-B/S-3.2\"><span class=\"toc-item-num\">3.2&nbsp;&nbsp;</span>Jackknife resampling - avant-B/S</a></span></li><li><span><a href=\"#Permutation-Testing\" data-toc-modified-id=\"Permutation-Testing-3.3\"><span class=\"toc-item-num\">3.3&nbsp;&nbsp;</span>Permutation Testing</a></span></li><li><span><a href=\"#Advanced-Applications\" data-toc-modified-id=\"Advanced-Applications-3.4\"><span class=\"toc-item-num\">3.4&nbsp;&nbsp;</span>Advanced Applications</a></span><ul class=\"toc-item\"><li><span><a href=\"#Planning---decision-making-surtout-uncertainty-or-variation---forecasting\" data-toc-modified-id=\"Planning---decision-making-surtout-uncertainty-or-variation---forecasting-3.4.1\"><span class=\"toc-item-num\">3.4.1&nbsp;&nbsp;</span>Planning - decision making surtout uncertainty or variation - forecasting</a></span></li><li><span><a href=\"#Modelling---Profit-=-f(-Input-+-Production-(rain)-+-Price-+-Demand-)\" data-toc-modified-id=\"Modelling---Profit-=-f(-Input-+-Production-(rain)-+-Price-+-Demand-)-3.4.2\"><span class=\"toc-item-num\">3.4.2&nbsp;&nbsp;</span>Modelling - Profit = f( Input + Production (rain) + Price + Demand )</a></span></li></ul></li><li><span><a href=\"#MC-Integration---Numerical-on-random-numbers\" data-toc-modified-id=\"MC-Integration---Numerical-on-random-numbers-3.5\"><span class=\"toc-item-num\">3.5&nbsp;&nbsp;</span>MC Integration - Numerical on random numbers</a></span></li><li><span><a href=\"#Power-analysis---statistical-power\" data-toc-modified-id=\"Power-analysis---statistical-power-3.6\"><span class=\"toc-item-num\">3.6&nbsp;&nbsp;</span>Power analysis - statistical power</a></span><ul class=\"toc-item\"><li><span><a href=\"#Flow:\" data-toc-modified-id=\"Flow:-3.6.1\"><span class=\"toc-item-num\">3.6.1&nbsp;&nbsp;</span>Flow:</a></span></li><li><span><a href=\"#Financial-Application---options-and-derivative-pricing,-portfolio-eval-or-project-financing-or-biz-planning\" data-toc-modified-id=\"Financial-Application---options-and-derivative-pricing,-portfolio-eval-or-project-financing-or-biz-planning-3.6.2\"><span class=\"toc-item-num\">3.6.2&nbsp;&nbsp;</span>Financial Application - options and derivative pricing, portfolio eval or project financing or biz planning</a></span></li></ul></li></ul></li><li><span><a href=\"#SymPy-Doc\" data-toc-modified-id=\"SymPy-Doc-4\"><span class=\"toc-item-num\">4&nbsp;&nbsp;</span>SymPy Doc</a></span><ul class=\"toc-item\"><li><span><a href=\"#Basic\" data-toc-modified-id=\"Basic-4.1\"><span class=\"toc-item-num\">4.1&nbsp;&nbsp;</span>Basic</a></span></li><li><span><a href=\"#Process-Interaction\" data-toc-modified-id=\"Process-Interaction-4.2\"><span class=\"toc-item-num\">4.2&nbsp;&nbsp;</span>Process Interaction</a></span><ul class=\"toc-item\"><li><span><a href=\"#Waiting-for-a-Process\" data-toc-modified-id=\"Waiting-for-a-Process-4.2.1\"><span class=\"toc-item-num\">4.2.1&nbsp;&nbsp;</span>Waiting for a Process</a></span></li><li><span><a href=\"#Interrupting-Another-Process\" data-toc-modified-id=\"Interrupting-Another-Process-4.2.2\"><span class=\"toc-item-num\">4.2.2&nbsp;&nbsp;</span>Interrupting Another Process</a></span></li></ul></li><li><span><a href=\"#Shared-Resources\" data-toc-modified-id=\"Shared-Resources-4.3\"><span class=\"toc-item-num\">4.3&nbsp;&nbsp;</span>Shared Resources</a></span></li><li><span><a href=\"#SimPy-Elements\" data-toc-modified-id=\"SimPy-Elements-4.4\"><span class=\"toc-item-num\">4.4&nbsp;&nbsp;</span>SimPy Elements</a></span><ul class=\"toc-item\"><li><span><a href=\"#Basics-How-it-Works\" data-toc-modified-id=\"Basics-How-it-Works-4.4.1\"><span class=\"toc-item-num\">4.4.1&nbsp;&nbsp;</span>Basics How it Works</a></span></li><li><span><a href=\"#Environments\" data-toc-modified-id=\"Environments-4.4.2\"><span class=\"toc-item-num\">4.4.2&nbsp;&nbsp;</span>Environments</a></span><ul class=\"toc-item\"><li><span><a href=\"#Simulation-Control\" data-toc-modified-id=\"Simulation-Control-4.4.2.1\"><span class=\"toc-item-num\">4.4.2.1&nbsp;&nbsp;</span>Simulation Control</a></span></li><li><span><a href=\"#State-Access\" data-toc-modified-id=\"State-Access-4.4.2.2\"><span class=\"toc-item-num\">4.4.2.2&nbsp;&nbsp;</span>State Access</a></span></li><li><span><a href=\"#Event-Creation\" data-toc-modified-id=\"Event-Creation-4.4.2.3\"><span class=\"toc-item-num\">4.4.2.3&nbsp;&nbsp;</span>Event Creation</a></span></li><li><span><a href=\"#Miscellaneous\" data-toc-modified-id=\"Miscellaneous-4.4.2.4\"><span class=\"toc-item-num\">4.4.2.4&nbsp;&nbsp;</span>Miscellaneous</a></span></li></ul></li><li><span><a href=\"#Event\" data-toc-modified-id=\"Event-4.4.3\"><span class=\"toc-item-num\">4.4.3&nbsp;&nbsp;</span>Event</a></span><ul class=\"toc-item\"><li><span><a href=\"#Event-Basics\" data-toc-modified-id=\"Event-Basics-4.4.3.1\"><span class=\"toc-item-num\">4.4.3.1&nbsp;&nbsp;</span>Event Basics</a></span></li></ul></li><li><span><a href=\"#Process-Iteration\" data-toc-modified-id=\"Process-Iteration-4.4.4\"><span class=\"toc-item-num\">4.4.4&nbsp;&nbsp;</span>Process Iteration</a></span></li><li><span><a href=\"#Shared-Resources\" data-toc-modified-id=\"Shared-Resources-4.4.5\"><span class=\"toc-item-num\">4.4.5&nbsp;&nbsp;</span>Shared Resources</a></span></li><li><span><a href=\"#REAL-TIME-SIMU-+-MONITORING\" data-toc-modified-id=\"REAL-TIME-SIMU-+-MONITORING-4.4.6\"><span class=\"toc-item-num\">4.4.6&nbsp;&nbsp;</span>REAL-TIME SIMU + MONITORING</a></span></li><li><span><a href=\"#TIME-and-Scheduling\" data-toc-modified-id=\"TIME-and-Scheduling-4.4.7\"><span class=\"toc-item-num\">4.4.7&nbsp;&nbsp;</span>TIME and Scheduling</a></span></li></ul></li></ul></li></ul></div>"
   ]
  },
  {
   "cell_type": "markdown",
   "metadata": {
    "colab_type": "text",
    "id": "QmhnG12FjfzF"
   },
   "source": [
    "# Basic Stochasticity and Simulation\n",
    "\n",
    "- Probability\n",
    "- Bootstrapping and Resampling\n",
    "- Advanced applications"
   ]
  },
  {
   "cell_type": "code",
   "execution_count": 32,
   "metadata": {
    "colab": {
     "base_uri": "https://localhost:8080/",
     "height": 198
    },
    "colab_type": "code",
    "id": "299ljP0qkvIl",
    "outputId": "09c53e91-713b-4bcd-dfbe-09d15ffefc01"
   },
   "outputs": [
    {
     "ename": "NameError",
     "evalue": "ignored",
     "output_type": "error",
     "traceback": [
      "\u001b[0;31m---------------------------------------------------------------------------\u001b[0m",
      "\u001b[0;31mNameError\u001b[0m                                 Traceback (most recent call last)",
      "\u001b[0;32m<ipython-input-32-470872af1b7f>\u001b[0m in \u001b[0;36m<module>\u001b[0;34m()\u001b[0m\n\u001b[1;32m      1\u001b[0m \u001b[0;32mimport\u001b[0m \u001b[0mnumpy\u001b[0m \u001b[0;32mas\u001b[0m \u001b[0mnp\u001b[0m\u001b[0;34m\u001b[0m\u001b[0m\n\u001b[1;32m      2\u001b[0m \u001b[0;34m\u001b[0m\u001b[0m\n\u001b[0;32m----> 3\u001b[0;31m \u001b[0mnp\u001b[0m\u001b[0;34m.\u001b[0m\u001b[0mrandom\u001b[0m\u001b[0;34m.\u001b[0m\u001b[0mshuffle\u001b[0m\u001b[0;34m(\u001b[0m\u001b[0mdeck_of_cards\u001b[0m\u001b[0;34m)\u001b[0m\u001b[0;34m\u001b[0m\u001b[0m\n\u001b[0m",
      "\u001b[0;31mNameError\u001b[0m: name 'deck_of_cards' is not defined"
     ]
    }
   ],
   "source": [
    "import numpy as np\n",
    "\n",
    "np.random.shuffle(deck_of_cards)"
   ]
  },
  {
   "cell_type": "markdown",
   "metadata": {
    "colab_type": "text",
    "id": "qjeKqYu4koWp"
   },
   "source": [
    "## Simulation - repeated random sampling an approximation solution solve complex problems\n",
    "\n",
    "Steps\n",
    "1. Define possibel outcomes\n",
    "2. assign proba\n",
    "3. define relation between variables\n",
    "4. sampling\n",
    "5. analyse sample outcomes"
   ]
  },
  {
   "cell_type": "code",
   "execution_count": 35,
   "metadata": {
    "colab": {
     "base_uri": "https://localhost:8080/",
     "height": 34
    },
    "colab_type": "code",
    "id": "AQxSAPMKlIZW",
    "outputId": "0386bfcb-fd69-463c-8f7e-0812aabbd529"
   },
   "outputs": [
    {
     "name": "stdout",
     "output_type": "stream",
     "text": [
      "Outcome of the throw: 1\n"
     ]
    }
   ],
   "source": [
    "# Define die outcomes and proba\n",
    "die, probabilities, throws = [1,2,3,4,5,6], [1/6,1/6,1/6,1/6,1/6,1/6], 1\n",
    "\n",
    "# Use np.random.choice to throw the die once and record outcome\n",
    "outcome = np.random.choice(die, size=1, p=probabilities)\n",
    "print(\"Outcome of the throw: {}\".format(outcome[0]))\n"
   ]
  },
  {
   "cell_type": "code",
   "execution_count": 36,
   "metadata": {
    "colab": {
     "base_uri": "https://localhost:8080/",
     "height": 34
    },
    "colab_type": "code",
    "id": "LYdzaDqFlYGm",
    "outputId": "5004ec1f-ef18-4f47-e3b1-a6fce7768727"
   },
   "outputs": [
    {
     "name": "stdout",
     "output_type": "stream",
     "text": [
      "The dice show 1 and 3. You lose!\n"
     ]
    }
   ],
   "source": [
    "# Initialize number of dice, simulate & record outcome\n",
    "die, probabilities, num_dice = [1,2,3,4,5,6], [1/6, 1/6, 1/6, 1/6, 1/6, 1/6], 2\n",
    "outcomes = np.random.choice(die, size=num_dice, p=probabilities) \n",
    "\n",
    "# Win if the two dice show the same number\n",
    "if outcomes[0] == outcomes[1]: \n",
    "    answer = 'win' \n",
    "else:\n",
    "    answer = 'lose'\n",
    "\n",
    "print(\"The dice show {} and {}. You {}!\".format(outcomes[0], outcomes[1], answer))"
   ]
  },
  {
   "cell_type": "code",
   "execution_count": 37,
   "metadata": {
    "colab": {
     "base_uri": "https://localhost:8080/",
     "height": 34
    },
    "colab_type": "code",
    "id": "AUc3rwXXladh",
    "outputId": "f08c2efc-031b-4089-bde3-5d257234d5a7"
   },
   "outputs": [
    {
     "name": "stdout",
     "output_type": "stream",
     "text": [
      "In 100 games, you win 18 times\n"
     ]
    }
   ],
   "source": [
    "# Initialize model parameters & simulate dice throw\n",
    "die, probabilities, num_dice = [1,2,3,4,5,6], [1/6, 1/6, 1/6, 1/6, 1/6, 1/6], 2\n",
    "sims, wins = 100, 0\n",
    "\n",
    "for i in range(sims):\n",
    "    outcomes = np.random.choice(die, size=num_dice, p=probabilities) \n",
    "    # Increment `wins` by 1 if the dice show same number\n",
    "    if outcomes[0]==outcomes[1]: \n",
    "        wins = wins + 1 \n",
    "\n",
    "print(\"In {} games, you win {} times\".format(sims, wins))"
   ]
  },
  {
   "cell_type": "code",
   "execution_count": 0,
   "metadata": {
    "colab": {},
    "colab_type": "code",
    "id": "0HS286G1lcQo"
   },
   "outputs": [],
   "source": [
    "# Initialize size and simulate outcome\n",
    "lottery_ticket_cost, num_tickets, grand_prize = 10, 1000, 1000000\n",
    "chance_of_winning = 1/num_tickets\n",
    "size = 1000\n",
    "payoffs = [-lottery_ticket_cost, grand_prize-lottery_ticket_cost]\n",
    "probs = [1-chance_of_winning, chance_of_winning]\n",
    "\n",
    "outcomes = np.random.choice(a=payoffs, size=size, p=probs, replace=True)"
   ]
  },
  {
   "cell_type": "code",
   "execution_count": 39,
   "metadata": {
    "colab": {
     "base_uri": "https://localhost:8080/",
     "height": 34
    },
    "colab_type": "code",
    "id": "bUilcg8kleV0",
    "outputId": "91168610-19f1-4366-d779-b5d0a410580d"
   },
   "outputs": [
    {
     "name": "stdout",
     "output_type": "stream",
     "text": [
      "Average payoff from 1000 simulations = 990.0\n"
     ]
    }
   ],
   "source": [
    "# Mean of outcomes.\n",
    "answer = np.mean(outcomes)\n",
    "print(\"Average payoff from {} simulations = {}\".format(size, answer))\n"
   ]
  },
  {
   "cell_type": "code",
   "execution_count": 40,
   "metadata": {
    "colab": {
     "base_uri": "https://localhost:8080/",
     "height": 34
    },
    "colab_type": "code",
    "id": "bR7Lz7ltlfy1",
    "outputId": "a76615d3-ff18-4ffe-879f-2750d2ccf317"
   },
   "outputs": [
    {
     "name": "stdout",
     "output_type": "stream",
     "text": [
      "The highest price at which it makes sense to buy the ticket is 14\n"
     ]
    }
   ],
   "source": [
    "# Initialize simulations and cost of ticket\n",
    "sims, lottery_ticket_cost = 3000, 0\n",
    "\n",
    "# Use a while loop to increment `lottery_ticket_cost` till average value of outcomes falls below zero\n",
    "while 1:\n",
    "    outcomes = np.random.choice([-lottery_ticket_cost, grand_prize-lottery_ticket_cost],\n",
    "                 size=sims, p=[1-chance_of_winning, chance_of_winning], replace=True)\n",
    "    if outcomes.mean() < 0:\n",
    "        break\n",
    "    else:\n",
    "        lottery_ticket_cost += 1\n",
    "answer = lottery_ticket_cost - 1\n",
    "\n",
    "print(\"The highest price at which it makes sense to buy the ticket is {}\".format(answer))"
   ]
  },
  {
   "cell_type": "code",
   "execution_count": 41,
   "metadata": {
    "colab": {
     "base_uri": "https://localhost:8080/",
     "height": 34
    },
    "colab_type": "code",
    "id": "lqDAg1Whlh8P",
    "outputId": "432886b0-be56-425e-8017-8bebd1f367c3"
   },
   "outputs": [
    {
     "name": "stdout",
     "output_type": "stream",
     "text": [
      "Probability of winning = 0.36960000000000004\n"
     ]
    }
   ],
   "source": [
    "deck, sims, coincidences = np.arange(1, 14), 10000, 0\n",
    "\n",
    "for _ in range(sims):\n",
    "    # Draw all the cards without replacement to simulate one game\n",
    "    draw = np.random.choice(deck, size=13, replace=False)\n",
    "    # Check if there are any coincidences\n",
    "    coincidence = (draw == list(np.arange(1, 14))).any()\n",
    "    if coincidence == 1: \n",
    "        coincidences += 1\n",
    "\n",
    "# Calculate probability of winning\n",
    "print(\"Probability of winning = {}\".format(1-coincidences/sims))"
   ]
  },
  {
   "cell_type": "markdown",
   "metadata": {
    "colab_type": "text",
    "id": "VZIJ0sT_lrQf"
   },
   "source": [
    "## Bayes' Rule is best calculated by a proba-matrix showing all of the proba along with marginal proba. Conditional proba can then be visually found in the matrix.\n"
   ]
  },
  {
   "cell_type": "code",
   "execution_count": 42,
   "metadata": {
    "colab": {
     "base_uri": "https://localhost:8080/",
     "height": 34
    },
    "colab_type": "code",
    "id": "JlrNJ865lvJO",
    "outputId": "b3748705-4710-420c-a944-abf9d9793d1d"
   },
   "outputs": [
    {
     "name": "stdout",
     "output_type": "stream",
     "text": [
      "Probability of success = 0.0774\n"
     ]
    }
   ],
   "source": [
    "# Initialize success, sims and urn\n",
    "success, sims = 0, 5000\n",
    "urn = ['w']*7 + ['b']*6\n",
    "\n",
    "for _ in range(sims):\n",
    "    # Draw 4 balls without replacement\n",
    "    draw = np.random.choice(urn, replace=False, size=4)\n",
    "    # Count the number of successes\n",
    "    if (draw[0] == 'w') & (draw[1] == 'b') & (draw[2] == 'w') & (draw[3] == 'b'):\n",
    "        success +=1\n",
    "\n",
    "print(\"Probability of success = {}\".format(success/sims))"
   ]
  },
  {
   "cell_type": "code",
   "execution_count": 44,
   "metadata": {
    "colab": {
     "base_uri": "https://localhost:8080/",
     "height": 34
    },
    "colab_type": "code",
    "id": "zxPxh_27lypv",
    "outputId": "ec7cb356-9636-4f28-fce3-9828e2b49d17"
   },
   "outputs": [
    {
     "name": "stdout",
     "output_type": "stream",
     "text": [
      "With 23 people, there's a 50% chance that two share a birthday.\n"
     ]
    }
   ],
   "source": [
    "# Draw a sample of birthdays & check if each birthday is unique\n",
    "days = np.arange(1,366)\n",
    "people = 2\n",
    "\n",
    "def birthday_sim(people):\n",
    "    sims, unique_birthdays = 2000, 0 \n",
    "    for _ in range(sims):\n",
    "        draw = np.random.choice(days, size=people, replace=True)\n",
    "        if len(draw) == len(set(draw)): \n",
    "            unique_birthdays += 1\n",
    "    out = 1 - unique_birthdays / sims\n",
    "    return out\n",
    "  \n",
    "  # Break out of the loop if probability greater than 0.5\n",
    "while (people > 0):\n",
    "    prop_bds = birthday_sim(people)\n",
    "    if prop_bds > 0.5 : \n",
    "        break\n",
    "    people += 1\n",
    "\n",
    "print(\"With {} people, there's a 50% chance that two share a birthday.\".format(people))\n"
   ]
  },
  {
   "cell_type": "markdown",
   "metadata": {
    "colab_type": "text",
    "id": "vojWdh4kl2kc"
   },
   "source": [
    "## The science of Data Generation\n",
    "\n",
    "* Factors Influencing Data\n",
    "* Sources of Variation\n",
    "* Relationship among Variables\n",
    "\n",
    "E.g. Cricket Match outcome\n",
    "\n",
    "* weather / location / pitch conditions / player morale / recent performance\n",
    "* Directed impact mapping of these factors, science\n"
   ]
  },
  {
   "cell_type": "code",
   "execution_count": 0,
   "metadata": {
    "colab": {},
    "colab_type": "code",
    "id": "JlLgHYTqmAB_"
   },
   "outputs": [],
   "source": [
    "sims, outcomes, p_rain, p_pass = 1000, [], 0.40, {'sun':0.9, 'rain':0.3}\n",
    "\n",
    "def test_outcome(p_rain):\n",
    "    # Simulate whether it will rain or not\n",
    "    weather = np.random.choice(['rain', 'sun'], p=[p_rain, 1-p_rain])\n",
    "    # Simulate and return whether you will pass or fail\n",
    "    return np.random.choice(['pass', 'fail'], p=[p_pass[weather], 1-p_pass[weather]])\n"
   ]
  },
  {
   "cell_type": "code",
   "execution_count": 47,
   "metadata": {
    "colab": {
     "base_uri": "https://localhost:8080/",
     "height": 34
    },
    "colab_type": "code",
    "id": "Sd6CvbOCmBwc",
    "outputId": "56649784-52aa-4f5c-985b-256988d02ce3"
   },
   "outputs": [
    {
     "name": "stdout",
     "output_type": "stream",
     "text": [
      "Probability of Passing the driving test = 0.639\n"
     ]
    }
   ],
   "source": [
    "for _ in range(sims):\n",
    "    outcomes.append(test_outcome(p_rain))\n",
    "\n",
    "# Calculate fraction of outcomes where you pass\n",
    "print(\"Probability of Passing the driving test = {}\".format(sum([x == 'pass' for x in outcomes])/len(outcomes)))\n"
   ]
  },
  {
   "cell_type": "code",
   "execution_count": 49,
   "metadata": {
    "colab": {
     "base_uri": "https://localhost:8080/",
     "height": 34
    },
    "colab_type": "code",
    "id": "Sma_lNYGmDec",
    "outputId": "13baaff2-e73e-40c5-f15f-b719e622e168"
   },
   "outputs": [
    {
     "name": "stdout",
     "output_type": "stream",
     "text": [
      "Probability of Red winning in less than 45% of the states = 0.401\n"
     ]
    }
   ],
   "source": [
    "outcomes, sims, probs = [], 1000, 0.6\n",
    "\n",
    "for _ in range(sims):\n",
    "    # Simulate elections in the 50 states\n",
    "    election = np.random.binomial(p=probs, n=1)\n",
    "    # Get average of Red wins and add to `outcomes`\n",
    "    outcomes.append(np.mean(election))\n",
    "\n",
    "# Calculate probability of Red winning in less than 45% of the states\n",
    "print(\"Probability of Red winning in less than 45% of the states = {}\".format(sum([x<0.45 for x in outcomes])/len(outcomes)))"
   ]
  },
  {
   "cell_type": "code",
   "execution_count": 53,
   "metadata": {
    "colab": {
     "base_uri": "https://localhost:8080/",
     "height": 34
    },
    "colab_type": "code",
    "id": "j42WAFBMmFZG",
    "outputId": "5ef9a2f5-7f31-4a78-80df-19a776a05ad2"
   },
   "outputs": [
    {
     "name": "stdout",
     "output_type": "stream",
     "text": [
      "Probability of Weight Loss = 0.15413642960812773\n"
     ]
    }
   ],
   "source": [
    "# Simulate steps & choose prob \n",
    "\n",
    "days = 10\n",
    "\n",
    "for _ in range(sims):\n",
    "    w = []\n",
    "    for i in range(days):\n",
    "        lam = np.random.choice([5000, 15000], p=[0.6, 0.4], size=1)\n",
    "        steps = np.random.poisson(lam)\n",
    "        if steps > 10000: \n",
    "            prob = [0.2,0.8]\n",
    "        elif steps < 8000: \n",
    "            prob = [0.8,0.2]\n",
    "        else:\n",
    "            prob = [0.5, 0.5]\n",
    "        w.append(np.random.choice([1, -1], p=prob))\n",
    "    outcomes.append(sum(w))\n",
    "\n",
    "# Calculate fraction of outcomes where there was a weight loss\n",
    "print(\"Probability of Weight Loss = {}\".format(sum([x<0 for x in outcomes])/len(outcomes)))"
   ]
  },
  {
   "cell_type": "markdown",
   "metadata": {
    "colab_type": "text",
    "id": "PUQu6BJrmSHa"
   },
   "source": [
    "# eCOMM Ad Simulation\n",
    "\n",
    "### Funnel\n",
    "### Ad Impression -> Click -> Signup -> Purchase\n",
    "\n",
    "In parts :\n",
    "- Ad Impression ~ Normal() -> Poisson()\n",
    "- Click ~ Binomial(clickthrough rate distribution)\n",
    "- Signup ~ Binomial(signup rate distribution)\n",
    "- Purchase ~  Binomial(purchase rate dist)\n",
    "- Purchase_Value ~ Exponential(average purchase value)\n",
    "\n",
    "### Sign up Flow\n",
    "\n",
    "- We will now model the DGP of an eCommerce ad flow starting with sign-ups.\n",
    "\n",
    "- On any day, we get many ad impressions, which can be modeled as Poisson random variables (RV). You are told that λ\n",
    "\n",
    "- is normally distributed with a mean of 100k visitors and standard deviation 2000.\n",
    "\n",
    "- During the signup journey, the customer sees an ad, decides whether or not to click, and then whether or not to signup. Thus both clicks and signups are binary, modeled using binomial RVs. What about probability p\n",
    "- of success? Our current low-cost option gives us a click-through rate of 1% and a sign-up rate of 20%. A higher cost option could increase the clickthrough and signup rate by up to 20%, but we are unsure of the level of improvement, so we model it as a uniform RV."
   ]
  },
  {
   "cell_type": "code",
   "execution_count": 54,
   "metadata": {
    "colab": {
     "base_uri": "https://localhost:8080/",
     "height": 34
    },
    "colab_type": "code",
    "id": "v-GBpZXbm5Af",
    "outputId": "3cda52ed-a297-44e7-ab4b-6fb3d3593c4d"
   },
   "outputs": [
    {
     "name": "stdout",
     "output_type": "stream",
     "text": [
      "Simulated Signups = [270]\n"
     ]
    }
   ],
   "source": [
    "# Initialize click-through rate and signup rate dictionaries\n",
    "ct_rate = {'low':0.01, 'high':np.random.uniform(low=0.01, high=1.2*0.01)}\n",
    "su_rate = {'low':0.2, 'high':np.random.uniform(low=0.2, high=1.2*0.2)}\n",
    "\n",
    "def get_signups(cost, ct_rate, su_rate, sims):\n",
    "    lam = np.random.normal(loc=100000, scale=2000, size=sims)\n",
    "    # Simulate impressions(poisson), clicks(binomial) and signups(binomial)\n",
    "    impressions = np.random.poisson(lam)\n",
    "    clicks = np.random.binomial(n=impressions, p=ct_rate[cost])\n",
    "    signups = np.random.binomial(n=clicks, p=su_rate[cost])\n",
    "    return signups\n",
    "\n",
    "print(\"Simulated Signups = {}\".format(get_signups('high', ct_rate, su_rate, 1)))"
   ]
  },
  {
   "cell_type": "code",
   "execution_count": 55,
   "metadata": {
    "colab": {
     "base_uri": "https://localhost:8080/",
     "height": 34
    },
    "colab_type": "code",
    "id": "l3_TYc-vm8lc",
    "outputId": "7b3b547f-47f3-4d3b-ec80-00f560b2e3b3"
   },
   "outputs": [
    {
     "name": "stdout",
     "output_type": "stream",
     "text": [
      "Simulated Revenue = $16605.883101873016\n"
     ]
    }
   ],
   "source": [
    "def get_revenue(signups):\n",
    "    rev = []\n",
    "    np.random.seed(123)\n",
    "    for s in signups:\n",
    "        # Model purchases as binomial, purchase_values as exponential\n",
    "        purchases = np.random.binomial(s, p=0.1)\n",
    "        purchase_values = np.random.exponential(scale=1000, size=purchases)\n",
    "        \n",
    "        # Append to revenue the sum of all purchase values.\n",
    "        rev.append(sum(purchase_values))\n",
    "    return rev\n",
    "\n",
    "print(\"Simulated Revenue = ${}\".format(get_revenue(get_signups('low', ct_rate, su_rate, 1))[0]))\n",
    "\n"
   ]
  },
  {
   "cell_type": "markdown",
   "metadata": {
    "colab_type": "text",
    "id": "PD7uChtJm-dt"
   },
   "source": [
    "## Proba of Losing Money\n",
    "\n",
    "In this exercise, we will use the DGP model to estimate probability.\n",
    "\n",
    "As seen earlier, this company has the option of spending extra money, let's say \\$3000, to redesign the ad. This could potentially get them higher clickthrough and signup rates, but this is not guaranteed. We would like to know whether or not to spend this extra \\$3000 by calculating the probability of losing money. In other words, the probability that the revenue from the high-cost option minus the revenue from the low-cost option is lesser than the cost.\n",
    "\n",
    "Once we have simulated revenue outcomes, we can ask a rich set of questions that might not have been accessible using traditional analytical methods.\n",
    "\n",
    "This simple yet powerful framework forms the basis of Bayesian methods for getting probabilities."
   ]
  },
  {
   "cell_type": "code",
   "execution_count": 56,
   "metadata": {
    "colab": {
     "base_uri": "https://localhost:8080/",
     "height": 34
    },
    "colab_type": "code",
    "id": "sgHbbxalnD3-",
    "outputId": "d75d5c45-526d-44d8-cc1b-2fc53ec678ba"
   },
   "outputs": [
    {
     "name": "stdout",
     "output_type": "stream",
     "text": [
      "Probability of losing money = 0.4382\n"
     ]
    }
   ],
   "source": [
    "\n",
    "# Initialize sims\n",
    "sims, cost_diff = 10000, 3000\n",
    "\n",
    "# Get revenue when the cost is 'low' and when the cost is 'high'\n",
    "rev_low = get_revenue(get_signups('low', ct_rate, su_rate, sims))\n",
    "rev_high = get_revenue(get_signups('high', ct_rate, su_rate, sims))\n",
    "\n",
    "# calculate fraction of times rev_high - rev_low is less than cost_diff\n",
    "print(\"Probability of losing money = {}\".format(sum([rev_high[i] - rev_low[i] < cost_diff for i in range(len(rev_low))])/len(rev_low)))"
   ]
  },
  {
   "cell_type": "markdown",
   "metadata": {
    "colab_type": "text",
    "id": "W3LEKV0KnLNk"
   },
   "source": [
    "# Resampling Methods\n",
    "\n",
    "- Boostrapping (replaced)\n",
    "- Jacknife (leave out one or more)\n",
    "- Permutation Testing (label switch)"
   ]
  },
  {
   "cell_type": "code",
   "execution_count": 57,
   "metadata": {
    "colab": {
     "base_uri": "https://localhost:8080/",
     "height": 34
    },
    "colab_type": "code",
    "id": "t9rDf4MlnXTG",
    "outputId": "b1edb514-b975-454a-ba39-b76b50c82e7d"
   },
   "outputs": [
    {
     "name": "stdout",
     "output_type": "stream",
     "text": [
      "Probability with replacement = 0.0303, without replacement = 0.0437\n"
     ]
    }
   ],
   "source": [
    "# Set up the bowl\n",
    "success_rep, success_no_rep, sims = 0, 0, 10000\n",
    "bowl = list('b'*3 + 'g'*2 + 'y'*5)\n",
    "\n",
    "for i in range(sims):\n",
    "    # Sample with and without replacement & increment success counters\n",
    "    sample_rep = np.random.choice(bowl, size=3, replace=True)\n",
    "    sample_no_rep = np.random.choice(bowl, size=3, replace=False)\n",
    "    if (sample_rep[0] == 'b') & (sample_rep[1] == 'g') & (sample_rep[2] == 'y'): \n",
    "        success_rep += 1\n",
    "    if (sample_no_rep[0] == 'b') & (sample_no_rep[1] == 'g') & (sample_no_rep[2] == 'y'): \n",
    "        success_no_rep += 1\n",
    "\n",
    "# Calculate probabilities\n",
    "print(\"Probability with replacement = {}, without replacement = {}\".format(success_rep/sims, success_no_rep/sims))"
   ]
  },
  {
   "cell_type": "code",
   "execution_count": 58,
   "metadata": {
    "colab": {
     "base_uri": "https://localhost:8080/",
     "height": 252
    },
    "colab_type": "code",
    "id": "wN3_JC1JnZxs",
    "outputId": "af8e88ec-dfee-45ef-807f-75458b5291c0"
   },
   "outputs": [
    {
     "ename": "NameError",
     "evalue": "ignored",
     "output_type": "error",
     "traceback": [
      "\u001b[0;31m---------------------------------------------------------------------------\u001b[0m",
      "\u001b[0;31mNameError\u001b[0m                                 Traceback (most recent call last)",
      "\u001b[0;32m<ipython-input-58-bdd194c5c28f>\u001b[0m in \u001b[0;36m<module>\u001b[0;34m()\u001b[0m\n\u001b[1;32m      1\u001b[0m \u001b[0mmean_lengths\u001b[0m\u001b[0;34m,\u001b[0m \u001b[0msims\u001b[0m \u001b[0;34m=\u001b[0m \u001b[0;34m[\u001b[0m\u001b[0;34m]\u001b[0m\u001b[0;34m,\u001b[0m \u001b[0;36m1000\u001b[0m\u001b[0;34m\u001b[0m\u001b[0m\n\u001b[1;32m      2\u001b[0m \u001b[0;32mfor\u001b[0m \u001b[0mi\u001b[0m \u001b[0;32min\u001b[0m \u001b[0mrange\u001b[0m\u001b[0;34m(\u001b[0m\u001b[0msims\u001b[0m\u001b[0;34m)\u001b[0m\u001b[0;34m:\u001b[0m\u001b[0;34m\u001b[0m\u001b[0m\n\u001b[0;32m----> 3\u001b[0;31m     \u001b[0mtemp_sample\u001b[0m \u001b[0;34m=\u001b[0m \u001b[0mnp\u001b[0m\u001b[0;34m.\u001b[0m\u001b[0mrandom\u001b[0m\u001b[0;34m.\u001b[0m\u001b[0mchoice\u001b[0m\u001b[0;34m(\u001b[0m\u001b[0mwrench_lengths\u001b[0m\u001b[0;34m,\u001b[0m \u001b[0mreplace\u001b[0m\u001b[0;34m=\u001b[0m\u001b[0;32mTrue\u001b[0m\u001b[0;34m,\u001b[0m \u001b[0msize\u001b[0m\u001b[0;34m=\u001b[0m\u001b[0mlen\u001b[0m\u001b[0;34m(\u001b[0m\u001b[0mwrench_lengths\u001b[0m\u001b[0;34m)\u001b[0m\u001b[0;34m)\u001b[0m\u001b[0;34m\u001b[0m\u001b[0m\n\u001b[0m\u001b[1;32m      4\u001b[0m     \u001b[0msample_mean\u001b[0m \u001b[0;34m=\u001b[0m \u001b[0mnp\u001b[0m\u001b[0;34m.\u001b[0m\u001b[0mmean\u001b[0m\u001b[0;34m(\u001b[0m\u001b[0mtemp_sample\u001b[0m\u001b[0;34m)\u001b[0m\u001b[0;34m\u001b[0m\u001b[0m\n\u001b[1;32m      5\u001b[0m     \u001b[0mmean_lengths\u001b[0m\u001b[0;34m.\u001b[0m\u001b[0mappend\u001b[0m\u001b[0;34m(\u001b[0m\u001b[0msample_mean\u001b[0m\u001b[0;34m)\u001b[0m\u001b[0;34m\u001b[0m\u001b[0m\n",
      "\u001b[0;31mNameError\u001b[0m: name 'wrench_lengths' is not defined"
     ]
    }
   ],
   "source": [
    "# Draw some random sample with replacement and append mean to mean_lengths.\n",
    "mean_lengths, sims = [], 1000\n",
    "for i in range(sims):\n",
    "    temp_sample = np.random.choice(wrench_lengths, replace=True, size=len(wrench_lengths))\n",
    "    sample_mean = np.mean(temp_sample)\n",
    "    mean_lengths.append(sample_mean)\n",
    "    \n",
    "# Calculate bootstrapped mean and 95% confidence interval.\n",
    "print(\"Bootstrapped Mean Length = {}, 95% CI = {}\".format(np.mean(mean_lengths), np.percentile(mean_lengths, [2.5, 97.5])))"
   ]
  },
  {
   "cell_type": "code",
   "execution_count": 59,
   "metadata": {
    "colab": {
     "base_uri": "https://localhost:8080/",
     "height": 232
    },
    "colab_type": "code",
    "id": "e8ZoGkq4nbre",
    "outputId": "c5d98623-d8a2-4669-e000-ef3981be7e9e"
   },
   "outputs": [
    {
     "ename": "NameError",
     "evalue": "ignored",
     "output_type": "error",
     "traceback": [
      "\u001b[0;31m---------------------------------------------------------------------------\u001b[0m",
      "\u001b[0;31mNameError\u001b[0m                                 Traceback (most recent call last)",
      "\u001b[0;32m<ipython-input-59-d83777deeb37>\u001b[0m in \u001b[0;36m<module>\u001b[0;34m()\u001b[0m\n\u001b[0;32m----> 1\u001b[0;31m \u001b[0msims\u001b[0m\u001b[0;34m,\u001b[0m \u001b[0mdata_size\u001b[0m\u001b[0;34m,\u001b[0m \u001b[0mheight_medians\u001b[0m\u001b[0;34m,\u001b[0m \u001b[0mhw_corr\u001b[0m \u001b[0;34m=\u001b[0m \u001b[0;36m1000\u001b[0m\u001b[0;34m,\u001b[0m \u001b[0mdf\u001b[0m\u001b[0;34m.\u001b[0m\u001b[0mshape\u001b[0m\u001b[0;34m[\u001b[0m\u001b[0;36m0\u001b[0m\u001b[0;34m]\u001b[0m\u001b[0;34m,\u001b[0m \u001b[0;34m[\u001b[0m\u001b[0;34m]\u001b[0m\u001b[0;34m,\u001b[0m \u001b[0;34m[\u001b[0m\u001b[0;34m]\u001b[0m\u001b[0;34m\u001b[0m\u001b[0m\n\u001b[0m\u001b[1;32m      2\u001b[0m \u001b[0;32mfor\u001b[0m \u001b[0mi\u001b[0m \u001b[0;32min\u001b[0m \u001b[0mrange\u001b[0m\u001b[0;34m(\u001b[0m\u001b[0msims\u001b[0m\u001b[0;34m)\u001b[0m\u001b[0;34m:\u001b[0m\u001b[0;34m\u001b[0m\u001b[0m\n\u001b[1;32m      3\u001b[0m     \u001b[0mtmp_df\u001b[0m \u001b[0;34m=\u001b[0m \u001b[0mdf\u001b[0m\u001b[0;34m.\u001b[0m\u001b[0msample\u001b[0m\u001b[0;34m(\u001b[0m\u001b[0mn\u001b[0m\u001b[0;34m=\u001b[0m\u001b[0mdata_size\u001b[0m\u001b[0;34m,\u001b[0m \u001b[0mreplace\u001b[0m\u001b[0;34m=\u001b[0m\u001b[0;32mTrue\u001b[0m\u001b[0;34m)\u001b[0m\u001b[0;34m\u001b[0m\u001b[0m\n\u001b[1;32m      4\u001b[0m     \u001b[0mheight_medians\u001b[0m\u001b[0;34m.\u001b[0m\u001b[0mappend\u001b[0m\u001b[0;34m(\u001b[0m\u001b[0mtmp_df\u001b[0m\u001b[0;34m[\u001b[0m\u001b[0;34m'heights'\u001b[0m\u001b[0;34m]\u001b[0m\u001b[0;34m.\u001b[0m\u001b[0mmedian\u001b[0m\u001b[0;34m(\u001b[0m\u001b[0;34m)\u001b[0m\u001b[0;34m)\u001b[0m\u001b[0;34m\u001b[0m\u001b[0m\n\u001b[1;32m      5\u001b[0m     \u001b[0mhw_corr\u001b[0m\u001b[0;34m.\u001b[0m\u001b[0mappend\u001b[0m\u001b[0;34m(\u001b[0m\u001b[0mtmp_df\u001b[0m\u001b[0;34m.\u001b[0m\u001b[0mweights\u001b[0m\u001b[0;34m.\u001b[0m\u001b[0mcorr\u001b[0m\u001b[0;34m(\u001b[0m\u001b[0mtmp_df\u001b[0m\u001b[0;34m.\u001b[0m\u001b[0mheights\u001b[0m\u001b[0;34m)\u001b[0m\u001b[0;34m)\u001b[0m\u001b[0;34m\u001b[0m\u001b[0m\n",
      "\u001b[0;31mNameError\u001b[0m: name 'df' is not defined"
     ]
    }
   ],
   "source": [
    "# Sample with replacement and calculate quantities of interest\n",
    "sims, data_size, height_medians, hw_corr = 1000, df.shape[0], [], []\n",
    "for i in range(sims):\n",
    "    tmp_df = df.sample(n=data_size, replace=True)\n",
    "    height_medians.append(tmp_df['heights'].median())\n",
    "    hw_corr.append(tmp_df.weights.corr(tmp_df.heights))\n",
    "\n",
    "# Calculate confidence intervals\n",
    "print(\"Height Median CI = {} \\nHeight Weight Correlation CI = {}\".format(np.percentile(height_medians, [2.5, 97.5]) , np.percentile(hw_corr, [2.5, 97.5])))"
   ]
  },
  {
   "cell_type": "markdown",
   "metadata": {
    "colab_type": "text",
    "id": "QnOO42xtnsNZ"
   },
   "source": [
    "## Bootstrapping R_sqr , Coefficients of Dterminants\n",
    "\n",
    "Statsmodels module has OLS"
   ]
  },
  {
   "cell_type": "code",
   "execution_count": 63,
   "metadata": {
    "colab": {
     "base_uri": "https://localhost:8080/",
     "height": 232
    },
    "colab_type": "code",
    "id": "Kf8oh_lan9ZY",
    "outputId": "e9d33561-3144-4747-d770-95b82434a977"
   },
   "outputs": [
    {
     "ename": "NameError",
     "evalue": "ignored",
     "output_type": "error",
     "traceback": [
      "\u001b[0;31m---------------------------------------------------------------------------\u001b[0m",
      "\u001b[0;31mNameError\u001b[0m                                 Traceback (most recent call last)",
      "\u001b[0;32m<ipython-input-63-de30cc9f1c4e>\u001b[0m in \u001b[0;36m<module>\u001b[0;34m()\u001b[0m\n\u001b[1;32m      1\u001b[0m \u001b[0;32mfor\u001b[0m \u001b[0mi\u001b[0m \u001b[0;32min\u001b[0m \u001b[0mrange\u001b[0m\u001b[0;34m(\u001b[0m\u001b[0msims\u001b[0m\u001b[0;34m)\u001b[0m\u001b[0;34m:\u001b[0m\u001b[0;34m\u001b[0m\u001b[0m\n\u001b[1;32m      2\u001b[0m     \u001b[0;31m# First create a bootstrap sample with replacement with n=df.shape[0]\u001b[0m\u001b[0;34m\u001b[0m\u001b[0;34m\u001b[0m\u001b[0m\n\u001b[0;32m----> 3\u001b[0;31m     \u001b[0mbootstrap\u001b[0m \u001b[0;34m=\u001b[0m \u001b[0mdf\u001b[0m\u001b[0;34m.\u001b[0m\u001b[0msample\u001b[0m\u001b[0;34m(\u001b[0m\u001b[0mn\u001b[0m\u001b[0;34m=\u001b[0m\u001b[0mdf\u001b[0m\u001b[0;34m.\u001b[0m\u001b[0mshape\u001b[0m\u001b[0;34m[\u001b[0m\u001b[0;36m0\u001b[0m\u001b[0;34m]\u001b[0m\u001b[0;34m,\u001b[0m \u001b[0mreplace\u001b[0m\u001b[0;34m=\u001b[0m\u001b[0;32mTrue\u001b[0m\u001b[0;34m)\u001b[0m\u001b[0;34m\u001b[0m\u001b[0m\n\u001b[0m\u001b[1;32m      4\u001b[0m     \u001b[0;31m# Fit the regression and append the r square to rsquared_boot\u001b[0m\u001b[0;34m\u001b[0m\u001b[0;34m\u001b[0m\u001b[0m\n\u001b[1;32m      5\u001b[0m     \u001b[0mrsquared_boot\u001b[0m\u001b[0;34m.\u001b[0m\u001b[0mappend\u001b[0m\u001b[0;34m(\u001b[0m\u001b[0msm\u001b[0m\u001b[0;34m.\u001b[0m\u001b[0mOLS\u001b[0m\u001b[0;34m(\u001b[0m\u001b[0mbootstrap\u001b[0m\u001b[0;34m[\u001b[0m\u001b[0;34m'y'\u001b[0m\u001b[0;34m]\u001b[0m\u001b[0;34m,\u001b[0m\u001b[0mbootstrap\u001b[0m\u001b[0;34m.\u001b[0m\u001b[0miloc\u001b[0m\u001b[0;34m[\u001b[0m\u001b[0;34m:\u001b[0m\u001b[0;34m,\u001b[0m\u001b[0;36m1\u001b[0m\u001b[0;34m:\u001b[0m\u001b[0;34m]\u001b[0m\u001b[0;34m)\u001b[0m\u001b[0;34m.\u001b[0m\u001b[0mfit\u001b[0m\u001b[0;34m(\u001b[0m\u001b[0;34m)\u001b[0m\u001b[0;34m.\u001b[0m\u001b[0mrsquared\u001b[0m\u001b[0;34m)\u001b[0m\u001b[0;34m\u001b[0m\u001b[0m\n",
      "\u001b[0;31mNameError\u001b[0m: name 'df' is not defined"
     ]
    }
   ],
   "source": [
    "# Run 1K iterations\n",
    "for i in range(sims):\n",
    "    # First create a bootstrap sample with replacement with n=df.shape[0]\n",
    "    bootstrap = df.sample(n=df.shape[0], replace=True)\n",
    "    # Fit the regression and append the r square to rsquared_boot\n",
    "    rsquared_boot.append(sm.OLS(bootstrap['y'],bootstrap.iloc[:,1:]).fit().rsquared)\n",
    "\n",
    "# Calculate 95% CI on rsquared_boot\n",
    "print(\"R Squared 95% CI = {}\".format(np.percentile(rsquared_boot, [2.5, 97.5])))"
   ]
  },
  {
   "cell_type": "markdown",
   "metadata": {
    "colab_type": "text",
    "id": "fLN2bi4sn_Dx"
   },
   "source": [
    "## Jackknife resampling - avant-B/S\n",
    "\n",
    "> taking 1 sample out each sampling. Estimate said to be unbiased, Var(estimate) is adjusted by * (n-1) DoF (n-1 observation, 1 is used)"
   ]
  },
  {
   "cell_type": "markdown",
   "metadata": {
    "colab_type": "text",
    "id": "Sjd14H7PoXL8"
   },
   "source": [
    "## Permutation Testing\n",
    "\n",
    "> Similar to comparing-test of Chi^2 but without any assumption of underlying statistical properties, like distribution.\n",
    "e.g.: A/B test, H0: the same population distribution based on two set of observation"
   ]
  },
  {
   "cell_type": "code",
   "execution_count": 65,
   "metadata": {
    "colab": {
     "base_uri": "https://localhost:8080/",
     "height": 232
    },
    "colab_type": "code",
    "id": "kt3ke4mjoaxw",
    "outputId": "0c28c7d8-2ab6-4f7e-8ef2-f0e65c8fcb34"
   },
   "outputs": [
    {
     "ename": "NameError",
     "evalue": "ignored",
     "output_type": "error",
     "traceback": [
      "\u001b[0;31m---------------------------------------------------------------------------\u001b[0m",
      "\u001b[0;31mNameError\u001b[0m                                 Traceback (most recent call last)",
      "\u001b[0;32m<ipython-input-65-1b0689cb4b81>\u001b[0m in \u001b[0;36m<module>\u001b[0;34m()\u001b[0m\n\u001b[0;32m----> 1\u001b[0;31m \u001b[0mlen_A\u001b[0m\u001b[0;34m,\u001b[0m \u001b[0mlen_B\u001b[0m \u001b[0;34m=\u001b[0m \u001b[0mlen\u001b[0m\u001b[0;34m(\u001b[0m\u001b[0mdonations_A\u001b[0m\u001b[0;34m)\u001b[0m\u001b[0;34m,\u001b[0m \u001b[0mlen\u001b[0m\u001b[0;34m(\u001b[0m\u001b[0mdonations_B\u001b[0m\u001b[0;34m)\u001b[0m\u001b[0;34m\u001b[0m\u001b[0m\n\u001b[0m\u001b[1;32m      2\u001b[0m \u001b[0mdata\u001b[0m \u001b[0;34m=\u001b[0m \u001b[0mnp\u001b[0m\u001b[0;34m.\u001b[0m\u001b[0mconcatenate\u001b[0m\u001b[0;34m(\u001b[0m\u001b[0;34m[\u001b[0m\u001b[0mdonations_A\u001b[0m\u001b[0;34m,\u001b[0m \u001b[0mdonations_B\u001b[0m\u001b[0;34m]\u001b[0m\u001b[0;34m)\u001b[0m\u001b[0;34m\u001b[0m\u001b[0m\n\u001b[1;32m      3\u001b[0m \u001b[0;34m\u001b[0m\u001b[0m\n\u001b[1;32m      4\u001b[0m \u001b[0;31m# Get a single permutation of the concatenated length\u001b[0m\u001b[0;34m\u001b[0m\u001b[0;34m\u001b[0m\u001b[0m\n\u001b[1;32m      5\u001b[0m \u001b[0mperm\u001b[0m \u001b[0;34m=\u001b[0m \u001b[0mnp\u001b[0m\u001b[0;34m.\u001b[0m\u001b[0mrandom\u001b[0m\u001b[0;34m.\u001b[0m\u001b[0mpermutation\u001b[0m\u001b[0;34m(\u001b[0m\u001b[0mlen\u001b[0m\u001b[0;34m(\u001b[0m\u001b[0mdonations_A\u001b[0m\u001b[0;34m)\u001b[0m \u001b[0;34m+\u001b[0m \u001b[0mlen\u001b[0m\u001b[0;34m(\u001b[0m\u001b[0mdonations_B\u001b[0m\u001b[0;34m)\u001b[0m\u001b[0;34m)\u001b[0m\u001b[0;34m\u001b[0m\u001b[0m\n",
      "\u001b[0;31mNameError\u001b[0m: name 'donations_A' is not defined"
     ]
    }
   ],
   "source": [
    "# Concatenate the two arrays donations_A and donations_B into data\n",
    "len_A, len_B = len(donations_A), len(donations_B)\n",
    "data = np.concatenate([donations_A, donations_B])\n",
    "\n",
    "# Get a single permutation of the concatenated length\n",
    "perm = np.random.permutation(len(donations_A) + len(donations_B))\n",
    "\n",
    "# Calculate the permutated datasets and difference in means\n",
    "permuted_A = data[perm[:len(donations_A)]]\n",
    "permuted_B = data[perm[len(donations_A):]]\n",
    "print(\"Difference in the permuted mean values = {}.\".format(np.mean(permuted_A) - np.mean(permuted_B)))\n",
    "\n",
    "\n",
    "\n",
    "# Generate permutations equal to the number of repetitions\n",
    "perm = np.array([np.random.permutation(len(donations_A) + len(donations_B)) for i in range(reps)])\n",
    "permuted_A_datasets = data[perm[:, :len(donations_A)]]\n",
    "permuted_B_datasets = data[perm[:, len(donations_A):]]\n",
    "\n",
    "# Calculate the difference in means for each of the datasets\n",
    "samples = np.mean(permuted_A_datasets, axis=1) - np.mean(permuted_B_datasets, axis=1)\n",
    "\n",
    "# Calculate the test statistic and p-value\n",
    "test_stat = np.mean(donations_A) - np.mean(donations_B)\n",
    "print(\"p-value = {}\".format(2*np.sum(samples >= np.abs(test_stat))/reps))\n",
    "\n",
    "\n",
    "\n",
    "# Calculate the difference in 80th percentile and median for each of the permuted datasets (A and B)\n",
    "samples_percentile = np.percentile(permuted_A_datasets, 80, axis=1) - np.percentile(permuted_B_datasets, 80, axis=1)\n",
    "samples_median = np.median(permuted_A_datasets, axis=1) - np.median(permuted_B_datasets, axis=1)\n",
    "\n",
    "# Calculate the test statistic from the original dataset and corresponding p-values\n",
    "test_stat_percentile = np.percentile(donations_A, 80) - np.percentile(donations_B, 80)\n",
    "test_stat_median = np.median(donations_A) - np.median(donations_B)\n",
    "\n",
    "print(\"80th Percentile: test statistic = {}, p-value = {}\".format(test_stat_percentile, 2*np.sum(samples_percentile >= np.abs(test_stat_percentile))/reps))\n",
    "print(\"Median: test statistic = {}, p-value = {}\".format(test_stat_median, 2*np.sum(samples_median >= np.abs(test_stat_median))/reps))"
   ]
  },
  {
   "cell_type": "markdown",
   "metadata": {
    "colab_type": "text",
    "id": "RGreZUGkog9w"
   },
   "source": [
    "## Advanced Applications\n",
    "\n",
    "### Planning - decision making surtout uncertainty or variation - forecasting\n",
    "e.g. Corn Farm - cost planning \n",
    "- source of uncertainty \n",
    "    - rainfall\n",
    "    - input cost \n",
    "    - demand (movie, etc)\n",
    "    - regulation \n",
    "\n",
    "### Modelling - Profit = f( Input + Production (rain) + Price + Demand )\n",
    "    - simulate profit by variation of cost, or multiple sources of exogenous variables "
   ]
  },
  {
   "cell_type": "code",
   "execution_count": 66,
   "metadata": {
    "colab": {
     "base_uri": "https://localhost:8080/",
     "height": 34
    },
    "colab_type": "code",
    "id": "IA8ytoiMl4xa",
    "outputId": "fd936149-022a-4a69-d73c-43fcfca86d25"
   },
   "outputs": [
    {
     "name": "stdout",
     "output_type": "stream",
     "text": [
      "Simulated Corn Production = 475\n"
     ]
    }
   ],
   "source": [
    "# Initialize variables\n",
    "cost = 5000\n",
    "rain = np.random.normal(50, 15)\n",
    "\n",
    "# Corn production model\n",
    "def corn_produced(rain, cost):\n",
    "  mean_corn = 100*(cost**0.1)*(rain**0.2)\n",
    "  corn = np.random.poisson(mean_corn)\n",
    "  return corn\n",
    "\n",
    "# Simulate and print corn production\n",
    "corn_result = corn_produced(rain, cost)\n",
    "print(\"Simulated Corn Production = {}\".format(corn_result))"
   ]
  },
  {
   "cell_type": "code",
   "execution_count": 67,
   "metadata": {
    "colab": {
     "base_uri": "https://localhost:8080/",
     "height": 334
    },
    "colab_type": "code",
    "id": "9jHmT6JoorAK",
    "outputId": "83254c20-26a0-4293-fc91-4908699893e0"
   },
   "outputs": [
    {
     "ename": "NameError",
     "evalue": "ignored",
     "output_type": "error",
     "traceback": [
      "\u001b[0;31m---------------------------------------------------------------------------\u001b[0m",
      "\u001b[0;31mNameError\u001b[0m                                 Traceback (most recent call last)",
      "\u001b[0;32m<ipython-input-67-62dda25f0acb>\u001b[0m in \u001b[0;36m<module>\u001b[0;34m()\u001b[0m\n\u001b[1;32m     11\u001b[0m         \u001b[0mtmp2\u001b[0m \u001b[0;34m=\u001b[0m \u001b[0mdemand\u001b[0m\u001b[0;34m*\u001b[0m\u001b[0mprice\u001b[0m \u001b[0;34m-\u001b[0m \u001b[0mcost\u001b[0m\u001b[0;34m\u001b[0m\u001b[0m\n\u001b[1;32m     12\u001b[0m         \u001b[0;32mreturn\u001b[0m \u001b[0mtmp2\u001b[0m\u001b[0;34m\u001b[0m\u001b[0m\n\u001b[0;32m---> 13\u001b[0;31m \u001b[0mresult\u001b[0m \u001b[0;34m=\u001b[0m \u001b[0mprofits\u001b[0m\u001b[0;34m(\u001b[0m\u001b[0mcost\u001b[0m\u001b[0;34m)\u001b[0m\u001b[0;34m\u001b[0m\u001b[0m\n\u001b[0m\u001b[1;32m     14\u001b[0m \u001b[0mprint\u001b[0m\u001b[0;34m(\u001b[0m\u001b[0;34m\"Simulated profit = {}\"\u001b[0m\u001b[0;34m.\u001b[0m\u001b[0mformat\u001b[0m\u001b[0;34m(\u001b[0m\u001b[0mresult\u001b[0m\u001b[0;34m)\u001b[0m\u001b[0;34m)\u001b[0m\u001b[0;34m\u001b[0m\u001b[0m\n",
      "\u001b[0;32m<ipython-input-67-62dda25f0acb>\u001b[0m in \u001b[0;36mprofits\u001b[0;34m(cost)\u001b[0m\n\u001b[1;32m      3\u001b[0m     \u001b[0mprice\u001b[0m \u001b[0;34m=\u001b[0m \u001b[0mnp\u001b[0m\u001b[0;34m.\u001b[0m\u001b[0mrandom\u001b[0m\u001b[0;34m.\u001b[0m\u001b[0mnormal\u001b[0m\u001b[0;34m(\u001b[0m\u001b[0;36m40\u001b[0m\u001b[0;34m,\u001b[0m \u001b[0;36m10\u001b[0m\u001b[0;34m)\u001b[0m\u001b[0;34m\u001b[0m\u001b[0m\n\u001b[1;32m      4\u001b[0m     \u001b[0msupply\u001b[0m \u001b[0;34m=\u001b[0m \u001b[0mcorn_produced\u001b[0m\u001b[0;34m(\u001b[0m\u001b[0mrain\u001b[0m\u001b[0;34m,\u001b[0m \u001b[0mcost\u001b[0m\u001b[0;34m)\u001b[0m\u001b[0;34m\u001b[0m\u001b[0m\n\u001b[0;32m----> 5\u001b[0;31m     \u001b[0mdemand\u001b[0m \u001b[0;34m=\u001b[0m \u001b[0mcorn_demanded\u001b[0m\u001b[0;34m(\u001b[0m\u001b[0mprice\u001b[0m\u001b[0;34m)\u001b[0m\u001b[0;34m\u001b[0m\u001b[0m\n\u001b[0m\u001b[1;32m      6\u001b[0m     \u001b[0mequil_short\u001b[0m \u001b[0;34m=\u001b[0m \u001b[0msupply\u001b[0m \u001b[0;34m<=\u001b[0m \u001b[0mdemand\u001b[0m\u001b[0;34m\u001b[0m\u001b[0m\n\u001b[1;32m      7\u001b[0m     \u001b[0;32mif\u001b[0m \u001b[0mequil_short\u001b[0m \u001b[0;34m==\u001b[0m \u001b[0;32mTrue\u001b[0m\u001b[0;34m:\u001b[0m\u001b[0;34m\u001b[0m\u001b[0m\n",
      "\u001b[0;31mNameError\u001b[0m: name 'corn_demanded' is not defined"
     ]
    }
   ],
   "source": [
    "# Function to calculate profits\n",
    "def profits(cost):\n",
    "    rain = np.random.normal(50, 15)\n",
    "    price = np.random.normal(40, 10)\n",
    "    supply = corn_produced(rain, cost)\n",
    "    demand = corn_demanded(price)\n",
    "    equil_short = supply <= demand\n",
    "    if equil_short == True:\n",
    "        tmp = supply*price - cost\n",
    "        return tmp\n",
    "    else:\n",
    "        tmp2 = demand*price - cost\n",
    "        return tmp2\n",
    "result = profits(cost)\n",
    "print(\"Simulated profit = {}\".format(result))"
   ]
  },
  {
   "cell_type": "code",
   "execution_count": 68,
   "metadata": {
    "colab": {
     "base_uri": "https://localhost:8080/",
     "height": 351
    },
    "colab_type": "code",
    "id": "12qERjyGosq5",
    "outputId": "17f58bfd-db20-4047-c7f2-fff5d4a17478"
   },
   "outputs": [
    {
     "ename": "NameError",
     "evalue": "ignored",
     "output_type": "error",
     "traceback": [
      "\u001b[0;31m---------------------------------------------------------------------------\u001b[0m",
      "\u001b[0;31mNameError\u001b[0m                                 Traceback (most recent call last)",
      "\u001b[0;32m<ipython-input-68-ce6e5bcbd022>\u001b[0m in \u001b[0;36m<module>\u001b[0;34m()\u001b[0m\n\u001b[1;32m      6\u001b[0m     \u001b[0mtmp_profits\u001b[0m \u001b[0;34m=\u001b[0m \u001b[0;34m[\u001b[0m\u001b[0;34m]\u001b[0m\u001b[0;34m\u001b[0m\u001b[0m\n\u001b[1;32m      7\u001b[0m     \u001b[0;32mfor\u001b[0m \u001b[0mi\u001b[0m \u001b[0;32min\u001b[0m \u001b[0mrange\u001b[0m\u001b[0;34m(\u001b[0m\u001b[0msims\u001b[0m\u001b[0;34m)\u001b[0m\u001b[0;34m:\u001b[0m\u001b[0;34m\u001b[0m\u001b[0m\n\u001b[0;32m----> 8\u001b[0;31m         \u001b[0mtest\u001b[0m \u001b[0;34m=\u001b[0m \u001b[0mprofits\u001b[0m\u001b[0;34m(\u001b[0m\u001b[0mcost\u001b[0m\u001b[0;34m)\u001b[0m\u001b[0;34m\u001b[0m\u001b[0m\n\u001b[0m\u001b[1;32m      9\u001b[0m         \u001b[0mtmp_profits\u001b[0m\u001b[0;34m.\u001b[0m\u001b[0mappend\u001b[0m\u001b[0;34m(\u001b[0m\u001b[0mtest\u001b[0m\u001b[0;34m)\u001b[0m\u001b[0;34m\u001b[0m\u001b[0m\n\u001b[1;32m     10\u001b[0m     \u001b[0mresults\u001b[0m\u001b[0;34m[\u001b[0m\u001b[0mcost\u001b[0m\u001b[0;34m]\u001b[0m \u001b[0;34m=\u001b[0m \u001b[0mnp\u001b[0m\u001b[0;34m.\u001b[0m\u001b[0mmean\u001b[0m\u001b[0;34m(\u001b[0m\u001b[0mtmp_profits\u001b[0m\u001b[0;34m)\u001b[0m\u001b[0;34m\u001b[0m\u001b[0m\n",
      "\u001b[0;32m<ipython-input-67-62dda25f0acb>\u001b[0m in \u001b[0;36mprofits\u001b[0;34m(cost)\u001b[0m\n\u001b[1;32m      3\u001b[0m     \u001b[0mprice\u001b[0m \u001b[0;34m=\u001b[0m \u001b[0mnp\u001b[0m\u001b[0;34m.\u001b[0m\u001b[0mrandom\u001b[0m\u001b[0;34m.\u001b[0m\u001b[0mnormal\u001b[0m\u001b[0;34m(\u001b[0m\u001b[0;36m40\u001b[0m\u001b[0;34m,\u001b[0m \u001b[0;36m10\u001b[0m\u001b[0;34m)\u001b[0m\u001b[0;34m\u001b[0m\u001b[0m\n\u001b[1;32m      4\u001b[0m     \u001b[0msupply\u001b[0m \u001b[0;34m=\u001b[0m \u001b[0mcorn_produced\u001b[0m\u001b[0;34m(\u001b[0m\u001b[0mrain\u001b[0m\u001b[0;34m,\u001b[0m \u001b[0mcost\u001b[0m\u001b[0;34m)\u001b[0m\u001b[0;34m\u001b[0m\u001b[0m\n\u001b[0;32m----> 5\u001b[0;31m     \u001b[0mdemand\u001b[0m \u001b[0;34m=\u001b[0m \u001b[0mcorn_demanded\u001b[0m\u001b[0;34m(\u001b[0m\u001b[0mprice\u001b[0m\u001b[0;34m)\u001b[0m\u001b[0;34m\u001b[0m\u001b[0m\n\u001b[0m\u001b[1;32m      6\u001b[0m     \u001b[0mequil_short\u001b[0m \u001b[0;34m=\u001b[0m \u001b[0msupply\u001b[0m \u001b[0;34m<=\u001b[0m \u001b[0mdemand\u001b[0m\u001b[0;34m\u001b[0m\u001b[0m\n\u001b[1;32m      7\u001b[0m     \u001b[0;32mif\u001b[0m \u001b[0mequil_short\u001b[0m \u001b[0;34m==\u001b[0m \u001b[0;32mTrue\u001b[0m\u001b[0;34m:\u001b[0m\u001b[0;34m\u001b[0m\u001b[0m\n",
      "\u001b[0;31mNameError\u001b[0m: name 'corn_demanded' is not defined"
     ]
    }
   ],
   "source": [
    "# Initialize results and cost_levels variables\n",
    "sims, results = 1000, {}\n",
    "cost_levels = np.arange(100, 5100, 100)\n",
    "\n",
    "# For each cost level, simulate profits and store mean profit\n",
    "for cost in cost_levels:\n",
    "    tmp_profits = []\n",
    "    for i in range(sims):\n",
    "        test = profits(cost)\n",
    "        tmp_profits.append(test)\n",
    "    results[cost] = np.mean(tmp_profits)\n",
    "    \n",
    "# Get the cost that maximizes average profit\n",
    "print(\"Average profit is maximized when cost = {}\".format([x for x in results.keys() if results[x] == max(results.values())][0]))"
   ]
  },
  {
   "cell_type": "markdown",
   "metadata": {
    "colab_type": "text",
    "id": "8-HjvsCaou8-"
   },
   "source": [
    "## MC Integration - Numerical on random numbers\n",
    "\n",
    "The star method as number of variable rises\n",
    "\n",
    "e.g estimation of area under curve or Integration of function \n",
    "    - random points of certain domain area \n",
    "    - integration approximates fraction of points w.r.t. total area "
   ]
  },
  {
   "cell_type": "code",
   "execution_count": 70,
   "metadata": {
    "colab": {
     "base_uri": "https://localhost:8080/",
     "height": 34
    },
    "colab_type": "code",
    "id": "ddV41-27o1oX",
    "outputId": "e47b190b-9cba-4d89-c96c-4d2b81a681ca"
   },
   "outputs": [
    {
     "name": "stdout",
     "output_type": "stream",
     "text": [
      "Simulated answer = 0.783066964310823, Actual Answer = 1\n"
     ]
    }
   ],
   "source": [
    "# Define the sim_integrate function\n",
    "def sim_integrate(func, xmin, xmax, sims):\n",
    "    x = np.random.uniform(xmin, xmax, sims)\n",
    "    y = np.random.uniform(min(min(func(x)), 0), max(func(x)), sims)\n",
    "    area = (max(y) - min(y))*(xmax-xmin)\n",
    "    result = area * sum(abs(y) < abs(func(x)))/sims\n",
    "    return result\n",
    "\n",
    "# Call the sim_integrate function and print results\n",
    "result = sim_integrate(func = lambda x: x*np.exp(x), xmin = 0, xmax = 1, sims = 50)\n",
    "print(\"Simulated answer = {}, Actual Answer = 1\".format(result))"
   ]
  },
  {
   "cell_type": "code",
   "execution_count": 71,
   "metadata": {
    "colab": {
     "base_uri": "https://localhost:8080/",
     "height": 34
    },
    "colab_type": "code",
    "id": "GzpoS9lHo4CW",
    "outputId": "bb79dd45-459e-4ee3-bf7c-744359689c45"
   },
   "outputs": [
    {
     "name": "stdout",
     "output_type": "stream",
     "text": [
      "Simulated value of pi = 3.1396\n"
     ]
    }
   ],
   "source": [
    "# Initialize sims and circle_points\n",
    "sims, circle_points = 10000, 0 \n",
    "\n",
    "for i in range(sims):\n",
    "    # Generate the two coordinates of a point\n",
    "    point = np.random.uniform(-1, 1, 2)\n",
    "    # if the point lies within the unit circle, increment counter\n",
    "    within_circle = point[0]**2 + point[1]**2 <= 1\n",
    "    if within_circle == True:\n",
    "        circle_points +=1\n",
    "        \n",
    "# Estimate pi as 4 times the avg number of points in the circle.\n",
    "print(\"Simulated value of pi = {}\".format(4*circle_points/sims))"
   ]
  },
  {
   "cell_type": "markdown",
   "metadata": {
    "colab_type": "text",
    "id": "9YsBHN_Po5c5"
   },
   "source": [
    "## Power analysis - statistical power\n",
    "\n",
    "> wikipedia - power = P(rejecting H0 | True H1) \n",
    "    or ability to detecting effect if it exists\n",
    "    depending on sample size, alpha and effect size\n",
    "    typically 80% power recommended for alpha = 0.05 (CI level)\n",
    "\n",
    "e.g. news website (treatment: faster loading time, effect size = 10%, \n",
    "    power = 80%, alpha = 0.05) what sample size is needed? "
   ]
  },
  {
   "cell_type": "markdown",
   "metadata": {
    "colab_type": "text",
    "id": "i63SiKCDpAQp"
   },
   "source": [
    "### Flow:\n",
    "1. A/B or treatment/control samples\n",
    "2. treatment assumed N~(1.1, 0.5) meaning 10% more than control N~(1, 0.5)\n",
    "3. MC simulation of Permutation Test to get sim-pvalue\n",
    "4. If fraction of p-value less than alpha (0.05) more than 80% of time, good, otherwise up sample size\n"
   ]
  },
  {
   "cell_type": "code",
   "execution_count": 72,
   "metadata": {
    "colab": {
     "base_uri": "https://localhost:8080/",
     "height": 215
    },
    "colab_type": "code",
    "id": "RFmESXlApDls",
    "outputId": "8f1080b5-e50f-4713-cf81-826b4ff40442"
   },
   "outputs": [
    {
     "ename": "NameError",
     "evalue": "ignored",
     "output_type": "error",
     "traceback": [
      "\u001b[0;31m---------------------------------------------------------------------------\u001b[0m",
      "\u001b[0;31mNameError\u001b[0m                                 Traceback (most recent call last)",
      "\u001b[0;32m<ipython-input-72-f884b203ba2f>\u001b[0m in \u001b[0;36m<module>\u001b[0;34m()\u001b[0m\n\u001b[1;32m      6\u001b[0m \u001b[0;34m\u001b[0m\u001b[0m\n\u001b[1;32m      7\u001b[0m \u001b[0;31m# Run the t-test and get the p_value\u001b[0m\u001b[0;34m\u001b[0m\u001b[0;34m\u001b[0m\u001b[0m\n\u001b[0;32m----> 8\u001b[0;31m \u001b[0mt_stat\u001b[0m\u001b[0;34m,\u001b[0m \u001b[0mp_value\u001b[0m \u001b[0;34m=\u001b[0m \u001b[0mst\u001b[0m\u001b[0;34m.\u001b[0m\u001b[0mttest_ind\u001b[0m\u001b[0;34m(\u001b[0m\u001b[0mtreatment_time_spent\u001b[0m\u001b[0;34m,\u001b[0m \u001b[0mcontrol_time_spent\u001b[0m\u001b[0;34m)\u001b[0m\u001b[0;34m\u001b[0m\u001b[0m\n\u001b[0m\u001b[1;32m      9\u001b[0m \u001b[0mprint\u001b[0m\u001b[0;34m(\u001b[0m\u001b[0;34m\"P-value: {}, Statistically Significant? {}\"\u001b[0m\u001b[0;34m.\u001b[0m\u001b[0mformat\u001b[0m\u001b[0;34m(\u001b[0m\u001b[0mp_value\u001b[0m\u001b[0;34m,\u001b[0m \u001b[0mp_value\u001b[0m \u001b[0;34m<\u001b[0m \u001b[0;36m0.05\u001b[0m\u001b[0;34m)\u001b[0m\u001b[0;34m)\u001b[0m\u001b[0;34m\u001b[0m\u001b[0m\n",
      "\u001b[0;31mNameError\u001b[0m: name 'st' is not defined"
     ]
    }
   ],
   "source": [
    "# Initialize effect_size, sample_size, control_mean, control_sd\n",
    "effect_size, sample_size, control_mean, control_sd = 0.05, 50, 1, 0.5\n",
    "\n",
    "# Simulate control_time_spent and treatment_time_spent, assuming equal variance\n",
    "control_time_spent = np.random.normal(loc=control_mean, scale=control_sd, size=sample_size)\n",
    "treatment_time_spent = np.random.normal(loc=control_mean*(1+effect_size), scale=control_sd, size=sample_size)\n",
    "\n",
    "# Run the t-test and get the p_value\n",
    "t_stat, p_value = st.ttest_ind(treatment_time_spent, control_time_spent)\n",
    "print(\"P-value: {}, Statistically Significant? {}\".format(p_value, p_value < 0.05))"
   ]
  },
  {
   "cell_type": "code",
   "execution_count": 73,
   "metadata": {
    "colab": {
     "base_uri": "https://localhost:8080/",
     "height": 252
    },
    "colab_type": "code",
    "id": "eBDQAkS8pFjY",
    "outputId": "510c422b-0d94-4bbf-ed22-ef4d6f562da1"
   },
   "outputs": [
    {
     "ename": "NameError",
     "evalue": "ignored",
     "output_type": "error",
     "traceback": [
      "\u001b[0;31m---------------------------------------------------------------------------\u001b[0m",
      "\u001b[0;31mNameError\u001b[0m                                 Traceback (most recent call last)",
      "\u001b[0;32m<ipython-input-73-5f585c587638>\u001b[0m in \u001b[0;36m<module>\u001b[0;34m()\u001b[0m\n\u001b[1;32m      5\u001b[0m     \u001b[0mcontrol_time_spent\u001b[0m \u001b[0;34m=\u001b[0m \u001b[0mnp\u001b[0m\u001b[0;34m.\u001b[0m\u001b[0mrandom\u001b[0m\u001b[0;34m.\u001b[0m\u001b[0mnormal\u001b[0m\u001b[0;34m(\u001b[0m\u001b[0mloc\u001b[0m\u001b[0;34m=\u001b[0m\u001b[0mcontrol_mean\u001b[0m\u001b[0;34m,\u001b[0m \u001b[0mscale\u001b[0m\u001b[0;34m=\u001b[0m\u001b[0mcontrol_sd\u001b[0m\u001b[0;34m,\u001b[0m \u001b[0msize\u001b[0m\u001b[0;34m=\u001b[0m\u001b[0;34m(\u001b[0m\u001b[0msample_size\u001b[0m\u001b[0;34m,\u001b[0m \u001b[0msims\u001b[0m\u001b[0;34m)\u001b[0m\u001b[0;34m)\u001b[0m\u001b[0;34m\u001b[0m\u001b[0m\n\u001b[1;32m      6\u001b[0m     \u001b[0mtreatment_time_spent\u001b[0m \u001b[0;34m=\u001b[0m \u001b[0mnp\u001b[0m\u001b[0;34m.\u001b[0m\u001b[0mrandom\u001b[0m\u001b[0;34m.\u001b[0m\u001b[0mnormal\u001b[0m\u001b[0;34m(\u001b[0m\u001b[0mloc\u001b[0m\u001b[0;34m=\u001b[0m\u001b[0mcontrol_mean\u001b[0m\u001b[0;34m*\u001b[0m\u001b[0;34m(\u001b[0m\u001b[0;36m1\u001b[0m\u001b[0;34m+\u001b[0m\u001b[0meffect_size\u001b[0m\u001b[0;34m)\u001b[0m\u001b[0;34m,\u001b[0m \u001b[0mscale\u001b[0m\u001b[0;34m=\u001b[0m\u001b[0mcontrol_sd\u001b[0m\u001b[0;34m,\u001b[0m \u001b[0msize\u001b[0m\u001b[0;34m=\u001b[0m\u001b[0;34m(\u001b[0m\u001b[0msample_size\u001b[0m\u001b[0;34m,\u001b[0m \u001b[0msims\u001b[0m\u001b[0;34m)\u001b[0m\u001b[0;34m)\u001b[0m\u001b[0;34m\u001b[0m\u001b[0m\n\u001b[0;32m----> 7\u001b[0;31m     \u001b[0mt\u001b[0m\u001b[0;34m,\u001b[0m \u001b[0mp\u001b[0m \u001b[0;34m=\u001b[0m \u001b[0mst\u001b[0m\u001b[0;34m.\u001b[0m\u001b[0mttest_ind\u001b[0m\u001b[0;34m(\u001b[0m\u001b[0mtreatment_time_spent\u001b[0m\u001b[0;34m,\u001b[0m \u001b[0mcontrol_time_spent\u001b[0m\u001b[0;34m)\u001b[0m\u001b[0;34m\u001b[0m\u001b[0m\n\u001b[0m\u001b[1;32m      8\u001b[0m \u001b[0;34m\u001b[0m\u001b[0m\n\u001b[1;32m      9\u001b[0m     \u001b[0;31m# Power is the fraction of times in the simulation when the p-value was less than 0.05\u001b[0m\u001b[0;34m\u001b[0m\u001b[0;34m\u001b[0m\u001b[0m\n",
      "\u001b[0;31mNameError\u001b[0m: name 'st' is not defined"
     ]
    }
   ],
   "source": [
    "sample_size = 50\n",
    "\n",
    "# Keep incrementing sample size by 10 till we reach required power\n",
    "while 1:\n",
    "    control_time_spent = np.random.normal(loc=control_mean, scale=control_sd, size=(sample_size, sims))\n",
    "    treatment_time_spent = np.random.normal(loc=control_mean*(1+effect_size), scale=control_sd, size=(sample_size, sims))\n",
    "    t, p = st.ttest_ind(treatment_time_spent, control_time_spent)\n",
    "    \n",
    "    # Power is the fraction of times in the simulation when the p-value was less than 0.05\n",
    "    power = (p < 0.05).sum()/sims\n",
    "    if power >= 0.8: \n",
    "        break\n",
    "    else: \n",
    "        sample_size += 10\n",
    "print(\"For 80% power, sample size required = {}\".format(sample_size))"
   ]
  },
  {
   "cell_type": "markdown",
   "metadata": {
    "colab_type": "text",
    "id": "3ESrWP8WpND1"
   },
   "source": [
    "### Financial Application - options and derivative pricing, portfolio eval or project financing or biz planning\n"
   ]
  },
  {
   "cell_type": "code",
   "execution_count": 74,
   "metadata": {
    "colab": {
     "base_uri": "https://localhost:8080/",
     "height": 34
    },
    "colab_type": "code",
    "id": "uq8ciJDOpUrm",
    "outputId": "1dafed9c-ce01-4102-b628-8163cee6b4fb"
   },
   "outputs": [
    {
     "name": "stdout",
     "output_type": "stream",
     "text": [
      "Portfolio return after 5 years = 1021.4013412039292\n"
     ]
    }
   ],
   "source": [
    "# rates is a Normal random variable and has size equal to number of years\n",
    "def portfolio_return(yrs, avg_return, sd_of_return, principal):\n",
    "    np.random.seed(123)\n",
    "    rates = np.random.normal(loc=avg_return, scale=sd_of_return, size=yrs)\n",
    "    # Calculate the return at the end of the period\n",
    "    end_return = principal\n",
    "    for x in rates:\n",
    "        end_return = end_return*(1+x)\n",
    "    return end_return\n",
    "\n",
    "result = portfolio_return(yrs = 5, avg_return = 0.07, sd_of_return = 0.15, principal = 1000)\n",
    "print(\"Portfolio return after 5 years = {}\".format(result))"
   ]
  },
  {
   "cell_type": "code",
   "execution_count": 75,
   "metadata": {
    "colab": {
     "base_uri": "https://localhost:8080/",
     "height": 232
    },
    "colab_type": "code",
    "id": "QtprRlOtpWDc",
    "outputId": "f6bd949c-9bde-455f-e127-9257df73321a"
   },
   "outputs": [
    {
     "ename": "TypeError",
     "evalue": "ignored",
     "output_type": "error",
     "traceback": [
      "\u001b[0;31m---------------------------------------------------------------------------\u001b[0m",
      "\u001b[0;31mTypeError\u001b[0m                                 Traceback (most recent call last)",
      "\u001b[0;32m<ipython-input-75-899e408335b3>\u001b[0m in \u001b[0;36m<module>\u001b[0;34m()\u001b[0m\n\u001b[1;32m      6\u001b[0m                                  \u001b[0mavg_return\u001b[0m \u001b[0;34m=\u001b[0m \u001b[0;36m0.07\u001b[0m\u001b[0;34m,\u001b[0m\u001b[0;34m\u001b[0m\u001b[0m\n\u001b[1;32m      7\u001b[0m                                  \u001b[0mvolatility\u001b[0m \u001b[0;34m=\u001b[0m \u001b[0;36m0.3\u001b[0m\u001b[0;34m,\u001b[0m\u001b[0;34m\u001b[0m\u001b[0m\n\u001b[0;32m----> 8\u001b[0;31m                                  principal = 10000))\n\u001b[0m\u001b[1;32m      9\u001b[0m \u001b[0;34m\u001b[0m\u001b[0m\n\u001b[1;32m     10\u001b[0m \u001b[0;31m# Calculate the 95% CI\u001b[0m\u001b[0;34m\u001b[0m\u001b[0;34m\u001b[0m\u001b[0m\n",
      "\u001b[0;31mTypeError\u001b[0m: portfolio_return() got an unexpected keyword argument 'volatility'"
     ]
    }
   ],
   "source": [
    "# Run 1,000 iterations and store the results\n",
    "sims = 1000\n",
    "rets = []\n",
    "\n",
    "for i in range(sims):\n",
    "    rets.append(portfolio_return(yrs = 10,\n",
    "                                 avg_return = 0.07, \n",
    "                                 volatility = 0.3, \n",
    "                                 principal = 10000))\n",
    "\n",
    "# Calculate the 95% CI\n",
    "print(\"95% CI of Returns: Lower = {}, Upper = {}\".format(np.percentile(rets, 2.5), np.percentile(rets, 97.5)))"
   ]
  },
  {
   "cell_type": "code",
   "execution_count": 76,
   "metadata": {
    "colab": {
     "base_uri": "https://localhost:8080/",
     "height": 252
    },
    "colab_type": "code",
    "id": "mh9YEplTpXs1",
    "outputId": "81121bf1-5525-4bbc-a91d-0f17296acad1"
   },
   "outputs": [
    {
     "ename": "NameError",
     "evalue": "ignored",
     "output_type": "error",
     "traceback": [
      "\u001b[0;31m---------------------------------------------------------------------------\u001b[0m",
      "\u001b[0;31mNameError\u001b[0m                                 Traceback (most recent call last)",
      "\u001b[0;32m<ipython-input-76-36f49ad6c0c6>\u001b[0m in \u001b[0;36m<module>\u001b[0;34m()\u001b[0m\n\u001b[1;32m      1\u001b[0m \u001b[0;32mfor\u001b[0m \u001b[0mi\u001b[0m \u001b[0;32min\u001b[0m \u001b[0mrange\u001b[0m\u001b[0;34m(\u001b[0m\u001b[0msims\u001b[0m\u001b[0;34m)\u001b[0m\u001b[0;34m:\u001b[0m\u001b[0;34m\u001b[0m\u001b[0m\n\u001b[0;32m----> 2\u001b[0;31m     \u001b[0mrets_stock\u001b[0m\u001b[0;34m.\u001b[0m\u001b[0mappend\u001b[0m\u001b[0;34m(\u001b[0m\u001b[0mportfolio_return\u001b[0m\u001b[0;34m(\u001b[0m\u001b[0myrs\u001b[0m \u001b[0;34m=\u001b[0m \u001b[0;36m10\u001b[0m\u001b[0;34m,\u001b[0m \u001b[0mavg_return\u001b[0m \u001b[0;34m=\u001b[0m \u001b[0;36m0.07\u001b[0m\u001b[0;34m,\u001b[0m \u001b[0mvolatility\u001b[0m \u001b[0;34m=\u001b[0m \u001b[0;36m0.3\u001b[0m\u001b[0;34m,\u001b[0m \u001b[0mprincipal\u001b[0m \u001b[0;34m=\u001b[0m \u001b[0;36m10000\u001b[0m\u001b[0;34m)\u001b[0m\u001b[0;34m)\u001b[0m\u001b[0;34m\u001b[0m\u001b[0m\n\u001b[0m\u001b[1;32m      3\u001b[0m     \u001b[0mrets_bond\u001b[0m\u001b[0;34m.\u001b[0m\u001b[0mappend\u001b[0m\u001b[0;34m(\u001b[0m\u001b[0mportfolio_return\u001b[0m\u001b[0;34m(\u001b[0m\u001b[0myrs\u001b[0m \u001b[0;34m=\u001b[0m \u001b[0;36m10\u001b[0m\u001b[0;34m,\u001b[0m \u001b[0mavg_return\u001b[0m \u001b[0;34m=\u001b[0m \u001b[0;36m0.04\u001b[0m\u001b[0;34m,\u001b[0m \u001b[0mvolatility\u001b[0m \u001b[0;34m=\u001b[0m \u001b[0;36m0.1\u001b[0m\u001b[0;34m,\u001b[0m \u001b[0mprincipal\u001b[0m \u001b[0;34m=\u001b[0m \u001b[0;36m10000\u001b[0m\u001b[0;34m)\u001b[0m\u001b[0;34m)\u001b[0m\u001b[0;34m\u001b[0m\u001b[0m\n\u001b[1;32m      4\u001b[0m \u001b[0;34m\u001b[0m\u001b[0m\n\u001b[1;32m      5\u001b[0m \u001b[0;31m# calculate the 25th percentile of the distributions\u001b[0m\u001b[0;34m\u001b[0m\u001b[0;34m\u001b[0m\u001b[0m\n",
      "\u001b[0;31mNameError\u001b[0m: name 'rets_stock' is not defined"
     ]
    }
   ],
   "source": [
    "for i in range(sims):\n",
    "    rets_stock.append(portfolio_return(yrs = 10, avg_return = 0.07, volatility = 0.3, principal = 10000))\n",
    "    rets_bond.append(portfolio_return(yrs = 10, avg_return = 0.04, volatility = 0.1, principal = 10000))\n",
    "\n",
    "# calculate the 25th percentile of the distributions \n",
    "rets_stock_perc = np.percentile(rets_stock, 25)\n",
    "rets_bond_perc = np.percentile(rets_bond, 25)\n",
    "print(\"Sticking to stocks gets you an additional return of {}\".format(rets_stock_perc - rets_bond_perc))\n"
   ]
  },
  {
   "cell_type": "markdown",
   "metadata": {
    "colab": {},
    "colab_type": "code",
    "id": "OrSYFJRMpaIT"
   },
   "source": [
    "# SymPy Doc"
   ]
  },
  {
   "cell_type": "code",
   "execution_count": 1,
   "metadata": {},
   "outputs": [
    {
     "name": "stdout",
     "output_type": "stream",
     "text": [
      "Here is a single sample from a uniform random variable\n",
      "0.01859001396993465\n",
      "Here is a list of three samples:\n",
      "[0.4430055191506197, 0.1665743939129256, 0.2730476112035437]\n",
      "Here is a list of three exponential samples:\n",
      "[1.0627706973868158, 3.5406151639198327, 0.7561525778829441]\n"
     ]
    }
   ],
   "source": [
    " # RandNUM\n",
    "import random\n",
    "\n",
    "print(\"Here is a single sample from a uniform random variable\")\n",
    "print(random.random())\n",
    "print(\"Here is a list of three samples:\")\n",
    "uniSamples = [random.random(), random.random(), random.random()]\n",
    "print(uniSamples)\n",
    "print(\"Here is a list of three exponential samples:\")\n",
    "expSamples = [random.expovariate(1.0), random.expovariate(1.0), random.expovariate(1.0)]\n",
    "print(expSamples)"
   ]
  },
  {
   "cell_type": "code",
   "execution_count": 5,
   "metadata": {},
   "outputs": [
    {
     "name": "stdout",
     "output_type": "stream",
     "text": [
      "[0.33312597146440104, 0.26183364594809355, 0.04687543881802381, 0.6343490940707273, 0.9496724114113932, 0.60473999718815, 0.4847142863614221, 0.4068069827817017, 0.10814560655025762, 0.5382418972213077]\n"
     ]
    },
    {
     "data": {
      "image/png": "[encoded data removed]",
      "text/plain": [
       "<Figure size 432x288 with 1 Axes>"
      ]
     },
     "metadata": {
      "needs_background": "light"
     },
     "output_type": "display_data"
    },
    {
     "name": "stdout",
     "output_type": "stream",
     "text": [
      "[9.60023371001364, 9.066838166582396, 12.1472017867494, 8.028550867405754, 9.997477678740607, 7.424822534216567, 9.484315697767212, 9.194505818542476, 10.125517250905524, 7.101625161842267]\n"
     ]
    },
    {
     "data": {
      "image/png": "[encoded data removed]",
      "text/plain": [
       "<Figure size 432x288 with 1 Axes>"
      ]
     },
     "metadata": {
      "needs_background": "light"
     },
     "output_type": "display_data"
    }
   ],
   "source": [
    "# Visualise\n",
    "import random\n",
    "import matplotlib.pyplot as plt\n",
    "\n",
    "uniSamples = [random.random() for i in range(100000)]\n",
    "print(uniSamples[0:10])  #Take a look at the first 10\n",
    "fig, axis = plt.subplots()\n",
    "axis.hist(uniSamples, bins=100, density=True, )\n",
    "axis.set_title(\"Histogram for uniform random number generator\")\n",
    "axis.set_xlabel(\"x\")\n",
    "axis.set_ylabel(\"normalized frequency of occurrence\")\n",
    "#fig.savefig(\"UniformHistogram.png\")\n",
    "plt.show()\n",
    "\n",
    "normSamples = [random.normalvariate(9.0, 2.0) for i in range(100000)]\n",
    "print(normSamples[0:10])  #Take a look at the first 10\n",
    "fig, axis = plt.subplots()\n",
    "axis.hist(normSamples, bins=100, density=True)\n",
    "axis.set_title(r\"Histogram of an Normal RNG $\\mu = 9$ and $\\sigma = 2$\")\n",
    "axis.set_xlabel(\"x\")\n",
    "axis.set_ylabel(\"normalized frequency of occurrence\")\n",
    "plt.show()"
   ]
  },
  {
   "cell_type": "markdown",
   "metadata": {},
   "source": [
    "## Basic"
   ]
  },
  {
   "cell_type": "code",
   "execution_count": 11,
   "metadata": {},
   "outputs": [],
   "source": [
    "# First Process\n",
    "def car(env):\n",
    "    while True:\n",
    "        print(\"Start parking at %d\" % env.now)\n",
    "        parking_duration = 5\n",
    "        yield env.timeout(parking_duration)\n",
    "        \n",
    "        print(\"Start driving at %d\" % env.now)\n",
    "        trip_duration = 2\n",
    "        yield env.timeout(trip_duration)"
   ]
  },
  {
   "cell_type": "code",
   "execution_count": 12,
   "metadata": {},
   "outputs": [
    {
     "data": {
      "text/plain": [
       "<Process(car) object at 0x7f2fe83a1e10>"
      ]
     },
     "execution_count": 12,
     "metadata": {},
     "output_type": "execute_result"
    }
   ],
   "source": [
    "# creating an instance \n",
    "import simpy\n",
    "env = simpy.Environment()\n",
    "env.process(car(env))"
   ]
  },
  {
   "cell_type": "code",
   "execution_count": 13,
   "metadata": {},
   "outputs": [
    {
     "name": "stdout",
     "output_type": "stream",
     "text": [
      "Start parking at 0\n",
      "Start driving at 5\n",
      "Start parking at 7\n",
      "Start driving at 12\n",
      "Start parking at 14\n"
     ]
    }
   ],
   "source": [
    "env.run(until=15)"
   ]
  },
  {
   "cell_type": "markdown",
   "metadata": {},
   "source": [
    "1. Create instance of `Environment()`\n",
    "2. Passed to `car` `process` function\n",
    "3. Calling it create a `generator` that need be started and added to environment via `Environment.process()`\n",
    "4. NONE is run at this time, but scheduled\n",
    "5. `process` returned by `process()` used for process **interactions**\n",
    "6. Start simulation by `run()` passing an end time"
   ]
  },
  {
   "cell_type": "markdown",
   "metadata": {
    "colab": {},
    "colab_type": "code",
    "id": "UsuTjVYfl0Eu"
   },
   "source": [
    "## Process Interaction"
   ]
  },
  {
   "cell_type": "markdown",
   "metadata": {},
   "source": [
    "### Waiting for a Process\n",
    "- Process technically is event\n",
    "- Yielding it, resumed ocne process is finished\n",
    "- EX: adding another `charge()` process by refactoring class"
   ]
  },
  {
   "cell_type": "code",
   "execution_count": 22,
   "metadata": {},
   "outputs": [],
   "source": [
    "class Car(object):\n",
    "    def __init__(self, env):\n",
    "        self.env = env\n",
    "        # Start run process at INIT instance\n",
    "        self.action = env.process(self.run())\n",
    "        \n",
    "    def run(self):\n",
    "        while True:\n",
    "            print('Start parking and charging at %d' % self.env.now)\n",
    "            charge_duration = 5\n",
    "            # We yield the process that process() returns\n",
    "            # to wait for it to finish\n",
    "            yield self.env.process(self.charge(charge_duration))\n",
    "            \n",
    "            # The charge process has finished and\n",
    "            # we can start driving again.\n",
    "            print('Start driving at %d' % self.env.now)\n",
    "            trip_duration = 2\n",
    "            yield self.env.timeout(trip_duration)\n",
    "            \n",
    "    def charge(self, duration):\n",
    "        yield self.env.timeout(duration)"
   ]
  },
  {
   "cell_type": "code",
   "execution_count": 26,
   "metadata": {},
   "outputs": [
    {
     "name": "stdout",
     "output_type": "stream",
     "text": [
      "Start parking and charging at 0\n",
      "Start driving at 5\n",
      "Start parking and charging at 7\n",
      "Start driving at 12\n",
      "Start parking and charging at 14\n"
     ]
    }
   ],
   "source": [
    "# Create ENV, one more more cars and call run()\n",
    "import simpy\n",
    "env = simpy.Environment()\n",
    "car = Car(env)\n",
    "env.run(until=15)"
   ]
  },
  {
   "cell_type": "markdown",
   "metadata": {},
   "source": [
    "### Interrupting Another Process\n",
    "- EX Interrupt the charging process and just start driving"
   ]
  },
  {
   "cell_type": "code",
   "execution_count": 27,
   "metadata": {},
   "outputs": [],
   "source": [
    "def driver(env, car):\n",
    "    yield env.timeout(3)\n",
    "    car.action.interrupt()"
   ]
  },
  {
   "cell_type": "code",
   "execution_count": 28,
   "metadata": {},
   "outputs": [],
   "source": [
    "# Redesing\n",
    "\n",
    "class Car(object):\n",
    "    def __init__(self, env):\n",
    "        self.env = env\n",
    "        # Start run process at INIT instance\n",
    "        self.action = env.process(self.run())\n",
    "        \n",
    "    def run(self):\n",
    "        while True:\n",
    "            print('Start parking and charging at %d' % self.env.now)\n",
    "            charge_duration = 5\n",
    "            # May be interrupted while charging\n",
    "            try: \n",
    "                yield self.env.process(self.charge(charge_duration))\n",
    "            except simpy.Interrupt:\n",
    "                # swith to 'driving' state\n",
    "                print(\"Interrupted...\")            \n",
    "                \n",
    "            print('Start driving at %d' % self.env.now)\n",
    "            trip_duration = 2\n",
    "            yield self.env.timeout(trip_duration)\n",
    "            \n",
    "    def charge(self, duration):\n",
    "        yield self.env.timeout(duration)"
   ]
  },
  {
   "cell_type": "code",
   "execution_count": 29,
   "metadata": {},
   "outputs": [
    {
     "name": "stdout",
     "output_type": "stream",
     "text": [
      "Start parking and charging at 0\n",
      "Interrupted...\n",
      "Start driving at 3\n",
      "Start parking and charging at 5\n",
      "Start driving at 10\n",
      "Start parking and charging at 12\n"
     ]
    }
   ],
   "source": [
    "# Compare\n",
    "env = simpy.Environment()\n",
    "car = Car(env)\n",
    "env.process(driver(env, car))\n",
    "env.run(until=15)"
   ]
  },
  {
   "cell_type": "markdown",
   "metadata": {},
   "source": [
    "## Shared Resources\n",
    "- SimPy offers 3 types"
   ]
  },
  {
   "cell_type": "code",
   "execution_count": 30,
   "metadata": {},
   "outputs": [],
   "source": [
    "# Introducing Charging Slot\n",
    "\n",
    "def car(env, name, bcs, driving_time, charge_duration):\n",
    "    # Simluate driving to BCS\n",
    "    yield env.timeout(driving_time)\n",
    "    \n",
    "    # Request slot\n",
    "    print(\"%s arriving at %d\" % (name, env.now))\n",
    "    with bcs.request() as req:\n",
    "        yield req\n",
    "        \n",
    "        # charge \n",
    "        print(\"%s start to charge at %s\" % (name, env.now))\n",
    "        yield env.timeout(charge_duration)\n",
    "        print(\"%s leaving the bcs at %s\" % (name, env.now))"
   ]
  },
  {
   "cell_type": "markdown",
   "metadata": {},
   "source": [
    "> context manager \"similar to file\" hanldes \"releasing\" resources once done, otherwise NEED `release()`"
   ]
  },
  {
   "cell_type": "code",
   "execution_count": 31,
   "metadata": {},
   "outputs": [],
   "source": [
    "# Define Resources\n",
    "env = simpy.Environment()\n",
    "bcs = simpy.Resource(env, capacity=2) # HOW and 2 slots for charging"
   ]
  },
  {
   "cell_type": "code",
   "execution_count": 32,
   "metadata": {},
   "outputs": [],
   "source": [
    "# create car process\n",
    "for i in range(4):\n",
    "    env.process(car(env, 'Car %d' % i, bcs, i*2, 5))"
   ]
  },
  {
   "cell_type": "code",
   "execution_count": 33,
   "metadata": {},
   "outputs": [
    {
     "name": "stdout",
     "output_type": "stream",
     "text": [
      "Car 0 arriving at 0\n",
      "Car 0 start to charge at 0\n",
      "Car 1 arriving at 2\n",
      "Car 1 start to charge at 2\n",
      "Car 2 arriving at 4\n",
      "Car 0 leaving the bcs at 5\n",
      "Car 2 start to charge at 5\n",
      "Car 3 arriving at 6\n",
      "Car 1 leaving the bcs at 7\n",
      "Car 3 start to charge at 7\n",
      "Car 2 leaving the bcs at 10\n",
      "Car 3 leaving the bcs at 12\n"
     ]
    }
   ],
   "source": [
    "# Start simulation auto-end\n",
    "\n",
    "env.run()"
   ]
  },
  {
   "cell_type": "markdown",
   "metadata": {},
   "source": [
    "> Car 0 and 1 started charging at once, but 2 and 3 waited"
   ]
  },
  {
   "cell_type": "markdown",
   "metadata": {},
   "source": [
    "## SimPy Elements"
   ]
  },
  {
   "cell_type": "markdown",
   "metadata": {},
   "source": [
    "### Basics How it Works\n",
    "- In essence, asynchronous event dispatcher\n",
    "    1. Generate events, Schedule them at a given time\n",
    "    2. Events in order, time, callbacks (triggered by event loop), return value\n",
    "- `Process Function` defines behaviour of simulation - technically Python Generator func yielding **intances of Event**\n",
    "- ENV stores these events in list keeping track of current simulation time !\n",
    "- If a process yield event, SP adds process to event's callback and WAIT until event triggered and processed - resumed and receiving return value"
   ]
  },
  {
   "cell_type": "code",
   "execution_count": 34,
   "metadata": {},
   "outputs": [],
   "source": [
    "# EX of above\n",
    "import simpy \n",
    "\n",
    "def example(env):\n",
    "    # create a Timeout Event \n",
    "    # Passing ENV, delay, value\n",
    "    # Timeout schedules at NOW + DELAY (hence need for ENV); other event types usually schedule at NOW\n",
    "    event = simpy.events.Timeout(env, delay=1, value=42)\n",
    "    \n",
    "    # Yielding event -> WAIT until done\n",
    "    value = yield event\n",
    "    print('now =%d, value =%d' % (env.now, value))"
   ]
  },
  {
   "cell_type": "code",
   "execution_count": 35,
   "metadata": {},
   "outputs": [],
   "source": [
    "# ENV created first typically passed around when creating all else\n",
    "\n",
    "env = simpy.Environment()\n",
    "\n",
    "# Starting by (1) calling the PROCESS FUNC (not started due to generator nature)\n",
    "# (2) create Instance of Process, passing ENV and generator object\n",
    "# this schedule INIT event at NOW which starts execution of process func\n",
    "# this process instance is also an event to be triggered at return\n",
    "example_gen = example(env)\n",
    "p = simpy.events.Process(env, example_gen)"
   ]
  },
  {
   "cell_type": "code",
   "execution_count": 36,
   "metadata": {},
   "outputs": [
    {
     "name": "stdout",
     "output_type": "stream",
     "text": [
      "now =1, value =42\n"
     ]
    }
   ],
   "source": [
    "env.run()"
   ]
  },
  {
   "cell_type": "code",
   "execution_count": 37,
   "metadata": {},
   "outputs": [
    {
     "name": "stdout",
     "output_type": "stream",
     "text": [
      "now = 1, value = 42\n"
     ]
    }
   ],
   "source": [
    "# BEST PRACTICE of above exmaple\n",
    "import simpy\n",
    "\n",
    "def example(env):\n",
    "    value = yield env.timeout(1, value=42)\n",
    "    print(\"now = %d, value = %d\" % (env.now, value))\n",
    "    \n",
    "env = simpy.Environment()\n",
    "p = env.process(example(env))\n",
    "env.run()"
   ]
  },
  {
   "cell_type": "markdown",
   "metadata": {},
   "source": [
    "### Environments\n",
    "- **ENV manages TIME + Scheduling and Processing Events**\n",
    "- Base class `BaseEnvironment` \"Normal\" simulations often use subclass of `Environment` \n",
    "- Real-time simu `RealtimeEnvironment`"
   ]
  },
  {
   "cell_type": "markdown",
   "metadata": {},
   "source": [
    "#### Simulation Control\n",
    "- Flexible: EX run until an interesting event occurs -> step through event by event for a while -> run simu until no more events\n",
    "- **MOST KEY** `Environemnt.run()`:\n",
    "    1. If call without arg (`env.run()`) it steps through simu till no more events **INF LOOP** : `whilte True: yield env.Timeout(1)`\n",
    "    2. Most advisable to stop simu when reaching simu time: `env.run(until=10)`\n",
    "        - Integrate with GUI: \n",
    "        ```python\n",
    "            for i in range(100):\n",
    "                env.run(until=1):\n",
    "                progressbar.update(i)\n",
    "        ```\n",
    "    3. Instead of number, pass EVENT: assuming current time 0 -> `env.run(until=env.timeout(5)) == env.run(until=5)`\n",
    "        - Also possible to pass other types of events (Process is event too):\n",
    "        ```python\n",
    "        def my_proc(env):\n",
    "            yield env.timeout(1)\n",
    "            return \"MP...\"\n",
    "        env = simpy.Environment()\n",
    "        proc = env.process(my_proc(env))\n",
    "        env.run(until=proc)\n",
    "        ```\n",
    "        - To step through by events, `peek()` and `step()`\n",
    "            - `peek()` returns time of next scheduled event or INF (float('inf')) if no future events scheduled\n",
    "            - `step()` processes next event, raising `EmptySchedule` exception if no more\n",
    "        ```python\n",
    "        until = 10\n",
    "        while env.peek() < until:\n",
    "            env.step()\n",
    "        ```"
   ]
  },
  {
   "cell_type": "markdown",
   "metadata": {},
   "source": [
    "#### State Access\n",
    "- environment allows access current simuTime `Environment.now()` a time without unit and inc with `Timeout` events\n",
    "- Can use `time.time()` timestamp to calculate real time\n",
    "- `Environment.active_process` is ~~ `os.getpid()` either `None` or `Process` active becoming inactive at `yield`\n",
    "- THUS, only sensible to access this from within a process func or func called by process func:"
   ]
  },
  {
   "cell_type": "code",
   "execution_count": 2,
   "metadata": {},
   "outputs": [],
   "source": [
    "import simpy\n",
    "\n",
    "def subfunc(env):\n",
    "    print(env.active_process)\n",
    "    \n",
    "def my_proc(env):\n",
    "    while True:\n",
    "        print(env.active_process)\n",
    "        subfunc(env)\n",
    "        yield env.timeout(1)"
   ]
  },
  {
   "cell_type": "code",
   "execution_count": 3,
   "metadata": {},
   "outputs": [
    {
     "name": "stdout",
     "output_type": "stream",
     "text": [
      "<Process(my_proc) object at 0x7f1f54521e48>\n",
      "<Process(my_proc) object at 0x7f1f54521e48>\n"
     ]
    }
   ],
   "source": [
    "env = simpy.Environment()\n",
    "p1 = env.process(my_proc(env))\n",
    "env.active_process # none\n",
    "env.step()\n",
    "env.active_process # none"
   ]
  },
  {
   "cell_type": "markdown",
   "metadata": {},
   "source": [
    "> An example use case for this: If a process call `request()` to request a resource, it determines requesting process via `env.active_process`"
   ]
  },
  {
   "cell_type": "markdown",
   "metadata": {},
   "source": [
    "#### Event Creation\n",
    "- normally import `simpy.events` INIT class passs reference to the env to it\n",
    "- Reduce code, `Environment` provides some shortcuts - `Environment.event()` == `simpy.events.Event(env)`\n",
    "- Others:\n",
    "    - `Environment.process()`\n",
    "    - `Environment.timeout()`\n",
    "    - `Environemnt.all_of()`\n",
    "    - `Environment.any_of()`"
   ]
  },
  {
   "cell_type": "markdown",
   "metadata": {},
   "source": [
    "#### Miscellaneous"
   ]
  },
  {
   "cell_type": "code",
   "execution_count": 4,
   "metadata": {},
   "outputs": [],
   "source": [
    "# Generator have a return value:\n",
    "def my_proc(env):\n",
    "    yield env.timeout(1)\n",
    "    return 42\n",
    "# SimPy this can be used to give return values for proc used by other proc\n",
    "def other_proc(env):\n",
    "    ret_val = yield env.process(my_proc(env))\n",
    "    assert ret_val == 42\n",
    "\n",
    "# Internally, Python uses return val as param to `StopIteration` exception raised when generator exhausted\n",
    "# could use `raise StopIteration` instead\n",
    "# legible code\n",
    "def my_proc(env):\n",
    "    yield env.timeout(1)\n",
    "    env.exit(1) # Py2 == \"return 42\""
   ]
  },
  {
   "cell_type": "markdown",
   "metadata": {},
   "source": [
    "### Event\n",
    "- SimPy come with extensive set of events for all pruposes\n",
    "- ALL inherit `simpy.events.Event` below is the hierarchy of events\n",
    "\n",
    "```python\n",
    "events.Event\n",
    "events.Timeout\n",
    "events.Initialize\n",
    "events.Process\n",
    "events.Condition\n",
    "events.AllOf\n",
    "events.AnyOf\n",
    "```\n",
    "\n",
    "#### Event Basics\n",
    "- Event can be in any of the states:\n",
    "    1. might happen (not triggered)\n",
    "    2. going to (triggered)\n",
    "    3. happened (processed)\n",
    "- Traversing ONCE in that order - also tightly bound to time and time causes events to advance their state\n",
    "1. INIT, Event == Obj in MEM (not triggered)\n",
    "2. If triggered, scheduled at given time and inserted into SP event QUEUE, the property `Event.triggered` becomes `True`\n",
    "3. So long not Processed, can add `callbacks` to an event, callables accepting an event as Param and stored in `Event.callbacks` list\n",
    "4. Processed when pops it from queue and calls of its callbacks, now no longer able to add callbacks `Event.processed` == True\n",
    "5. Event has a VALUE, can be set before triggered and retrieved via `Event.value` or within process \n",
    "\n",
    "**Adding callbacks to event**\n",
    "- Most common way to add callback -> yielding it from process func `yield event`  - adding process' `_resume()` method as callback - this is how process gets resumed when it yield an event\n",
    "- BUT, can add any callable obj (func) to list of callbacks so long as it accepts event instance as SINGLE PARAM:"
   ]
  },
  {
   "cell_type": "code",
   "execution_count": 5,
   "metadata": {},
   "outputs": [
    {
     "data": {
      "text/plain": [
       "[<function __main__.my_callback(event)>]"
      ]
     },
     "execution_count": 5,
     "metadata": {},
     "output_type": "execute_result"
    }
   ],
   "source": [
    "def my_callback(event):\n",
    "    print(\"Called back from\", event())\n",
    "\n",
    "env = simpy.Environment()\n",
    "event = env.event()\n",
    "event.callbacks.append(my_callback)\n",
    "event.callbacks"
   ]
  },
  {
   "cell_type": "markdown",
   "metadata": {},
   "source": [
    "- If even processed, ALL of its `Event.callbacks` been executed and the attribute set to None\n",
    "- This to prevent adding more callbacks\n",
    "- Process smart, if yielding a processed event, `_resume()` will at once resume your process with value of event (as nothing to wait for)\n",
    "\n",
    "**Triggering Events**\n",
    "- At triggered, either SUCCESS or FAIL, - in case exception\n",
    "- To trigger event marking as successful `Event.suceed(value=None)` \n",
    "- or `Event.fail(exception)` and pass Exception instance to it\n",
    "- Generic way to trigger `Event.trigger(event)` - taking value and outcome (sccueed/fail) of event passed to it\n",
    "- All 3 methods return event instance bound to, allowing `yield Event(env).succeed()`"
   ]
  },
  {
   "cell_type": "code",
   "execution_count": 14,
   "metadata": {},
   "outputs": [],
   "source": [
    "# EX using Event\n",
    "# Shared event - created outside process or context of a process or chained\n",
    "class School:\n",
    "    def __init__(self, env):\n",
    "        self.env = env\n",
    "        self.class_ends = env.event()\n",
    "        self.pupil_procs = [env.process(self.pupil()) for i in range(3)]\n",
    "        self.bell_proc = env.process(self.bell())\n",
    "        \n",
    "    def bell(self):\n",
    "        for i in range(2):\n",
    "            yield self.env.timeout(45)\n",
    "            self.class_ends.succeed()\n",
    "            self.class_ends = self.env.event()\n",
    "            print()\n",
    "            \n",
    "    def pupil(self):\n",
    "        for i in range(2):\n",
    "            print(r' \\o/', end='')\n",
    "            yield self.class_ends"
   ]
  },
  {
   "cell_type": "code",
   "execution_count": 15,
   "metadata": {},
   "outputs": [
    {
     "name": "stdout",
     "output_type": "stream",
     "text": [
      " \\o/ \\o/ \\o/\n",
      " \\o/ \\o/ \\o/\n"
     ]
    }
   ],
   "source": [
    "school = School(env)\n",
    "env.run()"
   ]
  },
  {
   "cell_type": "markdown",
   "metadata": {},
   "source": [
    "**Let Time Pass: Timeout()**\n",
    "- params: `delaye` and optional value \n",
    "- Thus `succeed()` and `fail()` methods cannot be called again and have to pass event value to it when creating timeout"
   ]
  },
  {
   "cell_type": "markdown",
   "metadata": {},
   "source": [
    "**Process == Event**\n",
    "- PROCESS (made by `Process` or `env.process()`) have nice property of being events\n",
    "- meaning process yielding process"
   ]
  },
  {
   "cell_type": "code",
   "execution_count": 16,
   "metadata": {},
   "outputs": [],
   "source": [
    "def sub(env):\n",
    "    yield env.timeout(1)\n",
    "    return 23\n",
    "def parent(env):\n",
    "    ret = yield env.process(sub(env))\n",
    "    return ret"
   ]
  },
  {
   "cell_type": "code",
   "execution_count": 17,
   "metadata": {},
   "outputs": [
    {
     "data": {
      "text/plain": [
       "23"
      ]
     },
     "execution_count": 17,
     "metadata": {},
     "output_type": "execute_result"
    }
   ],
   "source": [
    "env.run(env.process(parent(env)))"
   ]
  },
  {
   "cell_type": "markdown",
   "metadata": {},
   "source": [
    "> WHEN process created, INIT scheduled starting exec when triggered\n",
    "\n",
    "> If NOT process to start at once but after delay, `simpy.util.start_delayed()` - returning a helper proc using `timeout` before actual starting"
   ]
  },
  {
   "cell_type": "code",
   "execution_count": 21,
   "metadata": {},
   "outputs": [],
   "source": [
    "from simpy.util import start_delayed\n",
    "\n",
    "def sub(env):\n",
    "    yield env.timeout(1)\n",
    "    return 23\n",
    "\n",
    "def parent(env):\n",
    "    start = env.now\n",
    "    sub_proc = yield start_delayed(env, sub(env), delay=3)\n",
    "    assert env.now - start == 3\n",
    "    \n",
    "    ret = yield sub_proc\n",
    "    return ret\n",
    "    "
   ]
  },
  {
   "cell_type": "code",
   "execution_count": 22,
   "metadata": {},
   "outputs": [
    {
     "data": {
      "text/plain": [
       "23"
      ]
     },
     "execution_count": 22,
     "metadata": {},
     "output_type": "execute_result"
    }
   ],
   "source": [
    "env.run(env.process(parent(env)))"
   ]
  },
  {
   "cell_type": "markdown",
   "metadata": {},
   "source": [
    "**WAITING MANY at once**\n",
    "- EX wait for a resource, BUT not for an unlimited time or wait till set of events happened\n",
    "- `AnyOf` and `AllOf` events both are `Condition` event"
   ]
  },
  {
   "cell_type": "code",
   "execution_count": 25,
   "metadata": {},
   "outputs": [],
   "source": [
    "from simpy.events import AnyOf, AllOf, Event\n",
    "\n",
    "events = [Event(env) for i in range(3)]\n",
    "a = AnyOf(env, events) # Triggered if at least one of \"events\" triggered\n",
    "b = AllOf(env, events) # Triggered if ALL \"events triggered\"\n",
    "\n",
    "# OR shortcut\n",
    "def test_condition(env):\n",
    "    t1, t2 = env.timeout(1, value=\"spam\"), env.timeout(2, value=\"eggs\")\n",
    "    ret = yield t1 | t2 # == AnyOf\n",
    "    assert ret == {t1: 'spam'}\n",
    "    \n",
    "    t1, t2 = env.timeout(1, value='spam'), env.timeout(2, value='eggs')\n",
    "    ret = yield t1 & t2\n",
    "    assert ret == {t1: 'spam', t2: 'eggs'}\n",
    "    \n",
    "    # concat both\n",
    "    e1, e2, e3 = [env.timeout(i) for i in range(3)]\n",
    "    yield (e1 | e2) & e3\n",
    "    assert all(e.processed for e in [e1, e2, e3])"
   ]
  },
  {
   "cell_type": "code",
   "execution_count": 26,
   "metadata": {},
   "outputs": [],
   "source": [
    "proc = env.process(test_condition(env))\n",
    "env.run()"
   ]
  },
  {
   "cell_type": "code",
   "execution_count": 27,
   "metadata": {},
   "outputs": [],
   "source": [
    "# order of cond == order of cond specified\n",
    "# allowing following idiom for easy fetching value of multiple events specified in and AND cond (inc. AllOf):\n",
    "\n",
    "def fetch_values_of_multiple_events(env):\n",
    "    t1, t2 = env.timeout(1, value='spam'), env.timeout(2, value='eggs')\n",
    "    r1, r2 = (yield t1 & t2).values()\n",
    "    assert r1 == 'spam' and r2 == 'eggs'\n",
    "\n",
    "proc = env.process(fetch_values_of_multiple_events(env))\n",
    "env.run()"
   ]
  },
  {
   "cell_type": "markdown",
   "metadata": {},
   "source": [
    "### Process Iteration\n",
    "- DES only made interesting by interacting between processes\n",
    "- such as sleep until woken up / waiting for another process to end / interrupting anther proc"
   ]
  },
  {
   "cell_type": "code",
   "execution_count": 29,
   "metadata": {},
   "outputs": [
    {
     "name": "stdout",
     "output_type": "stream",
     "text": [
      "Bat. ctrl. passivating at 0\n",
      "Start parking at 29\n",
      "Bat. ctrl. reactivated at 29\n",
      "Bat. ctrl. passivating at 60\n",
      "Stop parking at 131\n"
     ]
    }
   ],
   "source": [
    "# SLEEP TILL WAKEN\n",
    "from random import seed, randint\n",
    "seed(23)\n",
    "\n",
    "import simpy\n",
    "\n",
    "class EV:\n",
    "    def __init__(self, env):\n",
    "        self.env = env\n",
    "        self.drive_proc = env.process(self.driven(env))\n",
    "        self.bat_ctrl_proc = env.process(self.bat_ctrl(env))\n",
    "        self.bat_ctrl_reactivate = env.event()\n",
    "        \n",
    "    def driven(self, env):\n",
    "        while True:\n",
    "            # drive for 20-40 min\n",
    "            yield env.timeout(randint(20, 40))\n",
    "            \n",
    "            # park for 1-6 hours\n",
    "            print('Start parking at', env.now)\n",
    "            self.bat_ctrl_reactivate.succeed() # 'reactivate'\n",
    "            self.bat_ctrl_reactivate = env.event()\n",
    "            yield env.timeout(randint(60, 360))\n",
    "            print('Stop parking at', env.now)\n",
    "            \n",
    "    def bat_ctrl(self, env):\n",
    "        while True:\n",
    "            print('Bat. ctrl. passivating at', env.now)\n",
    "            yield self.bat_ctrl_reactivate # \"passivate\"\n",
    "            print('Bat. ctrl. reactivated at', env.now)\n",
    "            \n",
    "            # Intelligent charging behaviour here...\n",
    "            yield env.timeout(randint(30, 90))\n",
    "\n",
    "env = simpy.Environment()\n",
    "ev = EV(env)\n",
    "env.run(until=150)"
   ]
  },
  {
   "cell_type": "code",
   "execution_count": 31,
   "metadata": {
    "scrolled": true
   },
   "outputs": [
    {
     "name": "stdout",
     "output_type": "stream",
     "text": [
      "Start parking at 29\n",
      "Bat. ctrl. started at 29\n",
      "Bat. ctrl. done at 83\n",
      "Stop parking at 305\n"
     ]
    }
   ],
   "source": [
    "# Waiting for antoher process to end\n",
    "# Above example has a problem, it may happen that car wants to park for shorter duration than charging\n",
    "# Fix by start bat_ctrl every time EV starts parking\n",
    "# EV then waits until parking end AND charging stop\n",
    "\n",
    "class EV:\n",
    "    def __init__(self, env):\n",
    "        self.env = env\n",
    "        self.drive_proc = env.process(self.drive(env))\n",
    "    def drive(self, env):\n",
    "        while True:\n",
    "            # Drive for 20-40 min\n",
    "            yield env.timeout(randint(20, 40))\n",
    "            # Park for 1-6 hours\n",
    "            print('Start parking at', env.now)\n",
    "            charging = env.process(self.bat_ctrl(env))\n",
    "            parking = env.timeout(randint(60, 360))\n",
    "            yield charging & parking\n",
    "            print('Stop parking at', env.now)\n",
    "    def bat_ctrl(self, env):\n",
    "        print('Bat. ctrl. started at', env.now)\n",
    "        # Intelligent charging behavior here\n",
    "        yield env.timeout(randint(30, 90))\n",
    "        print('Bat. ctrl. done at', env.now)\n",
    "\n",
    "env = simpy.Environment()\n",
    "ev = EV(env)\n",
    "env.run(until=310)"
   ]
  },
  {
   "cell_type": "markdown",
   "metadata": {},
   "source": [
    "> again nothing new, process == event, waiting multiple events via & concat\n"
   ]
  },
  {
   "cell_type": "code",
   "execution_count": 8,
   "metadata": {},
   "outputs": [],
   "source": [
    "import simpy\n",
    "from random import randint"
   ]
  },
  {
   "cell_type": "code",
   "execution_count": 22,
   "metadata": {},
   "outputs": [],
   "source": [
    "# Interrupting another process\n",
    "# urgency insertion - interrupt() on Process\n",
    "# throw Interrupt exception - resuming at once\n",
    "\n",
    "class EV:\n",
    "    def __init__(self, env):\n",
    "        self.env = env\n",
    "        self.drive_proc = env.process(self.drive(env))\n",
    "        \n",
    "    def drive(self, env):\n",
    "        while True:\n",
    "            # drive\n",
    "            yield env.timeout(randint(20, 40))\n",
    "            \n",
    "            # park 1 h\n",
    "            print('start parking at', env.now)\n",
    "            charging = env.process(self.bat_ctrl(env))\n",
    "            parking = env.timeout(60)\n",
    "            yield charging | parking\n",
    "            if not charging.triggered:\n",
    "                # INTERRUPT if not already done\n",
    "                charging.interrupt('Need to go!')\n",
    "            print('stop parking at', env.now)\n",
    "            \n",
    "    def bat_ctrl(self, env):\n",
    "            print('Bat. Ctrl. started at', env.now)\n",
    "            try:\n",
    "                yield env.timeout(randint(60, 90))\n",
    "                print('Bat. ctrl. done at', env.now)\n",
    "            except simpy.Interrupt as i:\n",
    "                    # got interrupted before charging was done\n",
    "                    print('Bat. ctrl. interrupted at', env.now, 'msg:', i.cause)"
   ]
  },
  {
   "cell_type": "code",
   "execution_count": 23,
   "metadata": {},
   "outputs": [
    {
     "name": "stdout",
     "output_type": "stream",
     "text": [
      "start parking at 36\n",
      "Bat. Ctrl. started at 36\n",
      "stop parking at 96\n",
      "Bat. ctrl. interrupted at 96 msg: Need to go!\n"
     ]
    }
   ],
   "source": [
    "env = simpy.Environment()\n",
    "ev = EV(env)\n",
    "env.run(until=100)"
   ]
  },
  {
   "cell_type": "markdown",
   "metadata": {},
   "source": [
    "> `process.interrupt()` in fact schedule `Interruption` event at once"
   ]
  },
  {
   "cell_type": "markdown",
   "metadata": {},
   "source": [
    "### Shared Resources\n",
    "- another way to model Process Interruption, forming  CONGESTION point where queueing up processes \n",
    "- 3 CAT of RES:\n",
    "    1. `Resources` can be used by limited num. of proc. at a time\n",
    "    2. `Containers` modelling production and consumption of HOMO bulk, either cont. or discrete\n",
    "    3. `Stores` allowing produciton and consumption of Python Objects!\n",
    "    \n",
    "- basic form\n",
    "\n",
    "```\n",
    "BaseResource(capacity):\n",
    "    put_queue\n",
    "    get_queue\n",
    "    \n",
    "    put () : event\n",
    "    get (): event\n",
    "```"
   ]
  },
  {
   "cell_type": "markdown",
   "metadata": {},
   "source": [
    "> ALL RES has MAX CAPA, and TWO QUEUES: one for PROC wanting to put sth into it , another for PROC wanting to get sth out!\n",
    "\n",
    "> The PUT() and GET() both return EVENT triggered when its action successful"
   ]
  },
  {
   "cell_type": "markdown",
   "metadata": {},
   "source": [
    "**RESOURCE & INTERRUPT**\n",
    "- while PROC waiting for GET or PUT , may be Interrupted by another PROC - CATCH interrupt exception -> 2 POSSIBILITIES:\n",
    "    1. May continue to wait for request (yield event again)\n",
    "    2. May stop waiting for request to CALL event's `cancel()` \n",
    "\n",
    "> This is forgettable, hence ALL RES are CONTEXT MANAGERS"
   ]
  },
  {
   "cell_type": "code",
   "execution_count": 24,
   "metadata": {},
   "outputs": [],
   "source": [
    "# RESOURCE - semaphore conceptually ONE PARAM - CAPACITY default = 1\n",
    "import simpy\n",
    "\n",
    "def resource_user(env, resource):\n",
    "    request = resource.request() # gen request EVENT\n",
    "    yield request # wait for access\n",
    "    yield env.timeout(1) # do sth\n",
    "    resource.release(request) # release res"
   ]
  },
  {
   "cell_type": "code",
   "execution_count": 25,
   "metadata": {},
   "outputs": [],
   "source": [
    "env = simpy.Environment()\n",
    "res = simpy.Resource(env, capacity=1)\n",
    "user = env.process(resource_user(env, res))\n",
    "env.run()"
   ]
  },
  {
   "cell_type": "markdown",
   "metadata": {},
   "source": [
    "> NOTE have to RELEASE under ALL conditions - if got interrupted while waiting for or using resource, avoiding messy TRY:...FINALLY:... use CONTEXT MANAGER"
   ]
  },
  {
   "cell_type": "code",
   "execution_count": 26,
   "metadata": {},
   "outputs": [],
   "source": [
    "def resource_user(env, resource):\n",
    "    with resource.request() as req:\n",
    "        yield req\n",
    "        yield env.timeout(1)"
   ]
  },
  {
   "cell_type": "markdown",
   "metadata": {},
   "source": [
    "> RES allow retriving of lists of current users or queued users, "
   ]
  },
  {
   "cell_type": "code",
   "execution_count": 27,
   "metadata": {},
   "outputs": [],
   "source": [
    "res = simpy.Resource(env, capacity=1)"
   ]
  },
  {
   "cell_type": "code",
   "execution_count": 28,
   "metadata": {},
   "outputs": [],
   "source": [
    "def print_stats(res):\n",
    "    print(f'{res.count} of {res.capacity} slots are allocated.')\n",
    "    print(f'Usr: {res.users}')\n",
    "    print(f'Queued events: {res.queue}')\n",
    "    \n",
    "def user(res):\n",
    "    print_stats(res)\n",
    "    with res.request() as req:\n",
    "        yield req\n",
    "        print_stats(res)\n",
    "    print_stats(res)"
   ]
  },
  {
   "cell_type": "code",
   "execution_count": 29,
   "metadata": {},
   "outputs": [
    {
     "name": "stdout",
     "output_type": "stream",
     "text": [
      "0 of 1 slots are allocated.\n",
      "Usr: []\n",
      "Queued events: []\n",
      "1 of 1 slots are allocated.\n",
      "Usr: [<Request() object at 0x7f379018f358>]\n",
      "Queued events: []\n",
      "1 of 1 slots are allocated.\n",
      "Usr: [<Request() object at 0x7f379018f358>]\n",
      "Queued events: [<Request() object at 0x7f379018f5c0>]\n",
      "0 of 1 slots are allocated.\n",
      "Usr: []\n",
      "Queued events: [<Request() object at 0x7f379018f5c0>]\n",
      "1 of 1 slots are allocated.\n",
      "Usr: [<Request() object at 0x7f379018f5c0>]\n",
      "Queued events: []\n",
      "0 of 1 slots are allocated.\n",
      "Usr: []\n",
      "Queued events: []\n"
     ]
    }
   ],
   "source": [
    "procs = [env.process(user(res)), env.process(user(res))]\n",
    "env.run()"
   ]
  },
  {
   "cell_type": "markdown",
   "metadata": {},
   "source": [
    "**Priority Resources**"
   ]
  },
  {
   "cell_type": "code",
   "execution_count": 41,
   "metadata": {},
   "outputs": [],
   "source": [
    "def resource_user(name, env, resource, wait, prio):\n",
    "    yield env.timeout(wait)\n",
    "    with resource.request(priority=prio) as req:\n",
    "        print(f'{name} requesting at {env.now} with priorty={prio}')\n",
    "        yield req\n",
    "        print(f'{name} got resource at {env.now}')\n",
    "        yield env.timeout(3)              "
   ]
  },
  {
   "cell_type": "code",
   "execution_count": 42,
   "metadata": {},
   "outputs": [
    {
     "name": "stdout",
     "output_type": "stream",
     "text": [
      "1 requesting at 0 with priorty=0\n",
      "1 got resource at 0\n",
      "2 requesting at 1 with priorty=0\n",
      "3 requesting at 2 with priorty=-1\n",
      "3 got resource at 3\n",
      "2 got resource at 6\n"
     ]
    }
   ],
   "source": [
    "env = simpy.Environment()\n",
    "res = simpy.PriorityResource(env, capacity=1)\n",
    "p1 = env.process(resource_user(1, env, res, wait=0, prio=0))\n",
    "p2 = env.process(resource_user(2, env, res, wait=1, prio=0))\n",
    "p2 = env.process(resource_user(3, env, res, wait=2, prio=-1))\n",
    "env.run()"
   ]
  },
  {
   "cell_type": "markdown",
   "metadata": {},
   "source": [
    "> Although p3 requested res later than p3, PROIRTY -1 was higher"
   ]
  },
  {
   "cell_type": "code",
   "execution_count": 48,
   "metadata": {},
   "outputs": [],
   "source": [
    "# PREEMPTIVE RESOURCE - too important jump-queue not enough\n",
    "# kicking exisiting user out\n",
    "\n",
    "def resource_user(name, env, resource, wait, prio):\n",
    "    yield env.timeout(wait)\n",
    "    with resource.request(priority=prio) as req:\n",
    "        print(f'{name} requesting at {env.now} with priorty={prio}')\n",
    "        yield req\n",
    "        print(f'{name} got resource at {env.now}')\n",
    "        try:\n",
    "            yield env.timeout(3)\n",
    "        except simpy.Interrupt as i:\n",
    "            by = i.cause.by\n",
    "            usage = env.now - i.cause.usage_since\n",
    "            print(f'{name} got preempted by {by} at {env.now} after {usage}')"
   ]
  },
  {
   "cell_type": "code",
   "execution_count": 49,
   "metadata": {},
   "outputs": [
    {
     "name": "stdout",
     "output_type": "stream",
     "text": [
      "1 requesting at 0 with priorty=0\n",
      "1 got resource at 0\n",
      "2 requesting at 1 with priorty=0\n",
      "3 requesting at 2 with priorty=-1\n",
      "1 got preempted by <Process(resource_user) object at 0x7f3790198828> at 2 after 2\n",
      "3 got resource at 2\n",
      "2 got resource at 5\n"
     ]
    }
   ],
   "source": [
    "env =simpy.Environment()\n",
    "res = simpy.PreemptiveResource(env, capacity=1)\n",
    "p1 = env.process(resource_user(1, env, res, wait=0, prio=0))\n",
    "p2 = env.process(resource_user(2, env, res, wait=1, prio=0))\n",
    "p3 = env.process(resource_user(3, env, res, wait=2, prio=-1))\n",
    "env.run()"
   ]
  },
  {
   "cell_type": "markdown",
   "metadata": {},
   "source": [
    "> use of PreemptiveRes values PRIO over Preemption, meaning preempt requests not allowed to cheat higher prio request, below shows PREEMPTIVE LOW PRIO REQ CANNOT PASS HIGH PRIO REQ !!!"
   ]
  },
  {
   "cell_type": "code",
   "execution_count": 50,
   "metadata": {},
   "outputs": [],
   "source": [
    "def user(name, env, res, prio, preempt):\n",
    "    with res.request(priority=prio, preempt=preempt) as req:\n",
    "        try:\n",
    "            print(f'{name} requesting at {env.now}')\n",
    "            yield req\n",
    "            print(f'{name} got resource at {env.now}')\n",
    "            yield env.timeout(3)\n",
    "        except simpy.Interrupt:\n",
    "            print(f'{name} got preempted at {env.now}')"
   ]
  },
  {
   "cell_type": "code",
   "execution_count": 51,
   "metadata": {},
   "outputs": [
    {
     "name": "stdout",
     "output_type": "stream",
     "text": [
      "A requesting at 0\n",
      "A got resource at 0\n"
     ]
    }
   ],
   "source": [
    "env = simpy.Environment()\n",
    "res = simpy.PreemptiveResource(env, capacity=1)\n",
    "A = env.process(user('A', env, res, prio=0, preempt=True))\n",
    "env.run(until=1) # given A a head start"
   ]
  },
  {
   "cell_type": "code",
   "execution_count": 52,
   "metadata": {},
   "outputs": [
    {
     "name": "stdout",
     "output_type": "stream",
     "text": [
      "B requesting at 1.0\n",
      "C requesting at 1.0\n",
      "B got resource at 3\n",
      "C got resource at 6\n"
     ]
    }
   ],
   "source": [
    "B = env.process(user('B', env, res, prio=-2, preempt=False))\n",
    "C = env.process(user('C', env, res, prio=-1, preempt=True))\n",
    "env.run()"
   ]
  },
  {
   "cell_type": "markdown",
   "metadata": {},
   "source": [
    "1. A requests RES with PRIO 0 at once becomes user\n",
    "2. B requests RES with PIRO -2 but NOT preemt - will queue up and wiat\n",
    "3. C PIRO -1 but preempt - Normally this would preempt A but here B is queued up before C and prevents C from preempting A - C can also not preempt B since its PRIO lower\n",
    "\n",
    "> BE CAREFUL of mixed preemption !!\n",
    "Due to higher PIRO B , no preemption occurs here, NOTE extra request with a PIRO -3 would preempt A\n",
    "\n",
    "> If your user-case requires diff behaviour, e.g. jumping queue or valuing preemption over PRIO, you can subclass PreemptiveRes and override default behaviour 1!!!!!!!"
   ]
  },
  {
   "cell_type": "code",
   "execution_count": 53,
   "metadata": {},
   "outputs": [],
   "source": [
    "# CONTAINER- E.G. modeling gas tank of a gas station - rise amount of gasoline in tank while cars reducing it\n",
    "class GasStation:\n",
    "    def __init__(self, env):\n",
    "        self.fuel_dispensers  = simpy.Resource(env, capacity=2)\n",
    "        self.gas_tank = simpy.Container(env, init=100, capacity=1000)\n",
    "        self.mon_proc = env.process(self.monitor_tank(env))\n",
    "        \n",
    "    def monitor_tank(self, env):\n",
    "        while True:\n",
    "            if self.gas_tank.level < 100:\n",
    "                print(f'Calling tanker at {env.now}')\n",
    "                env.process(tanker(env, self))\n",
    "            yield env.timeout(15)\n",
    "            \n",
    "def tanker(env, gas_station):\n",
    "    yield env.timeout(10) # need 10min to arrive\n",
    "    print(f'Tanker arriving at {env.now}')\n",
    "    amount = gas_station.gas_tank.capacity - gas_station.gas_tank.level\n",
    "    yield gas_station.gas_tank.put(amount)\n",
    "    \n",
    "def car(name, env, gas_station):\n",
    "    print(f'Car {name} arriving at {env.now}')\n",
    "    with gas_station.fuel_dispensers.request() as req:\n",
    "        yield req\n",
    "        print(f'Car {name} starts refueling at {env.now}')\n",
    "        yield gas_station.gas_tank.get(40)\n",
    "        print(f'Car {name} done refueling at {env.now}')\n",
    "        \n",
    "def car_generator(env, gas_station):\n",
    "    for i in range(4):\n",
    "        env.process(car(i, env, gas_station))\n",
    "        yield env.timeout(5)"
   ]
  },
  {
   "cell_type": "code",
   "execution_count": 54,
   "metadata": {},
   "outputs": [
    {
     "name": "stdout",
     "output_type": "stream",
     "text": [
      "Car 0 arriving at 0\n",
      "Car 0 starts refueling at 0\n",
      "Car 0 done refueling at 0\n",
      "Car 1 arriving at 5\n",
      "Car 1 starts refueling at 5\n",
      "Car 1 done refueling at 5\n",
      "Car 2 arriving at 10\n",
      "Car 2 starts refueling at 10\n",
      "Calling tanker at 15\n",
      "Car 3 arriving at 15\n",
      "Car 3 starts refueling at 15\n",
      "Tanker arriving at 25\n",
      "Car 2 done refueling at 25\n",
      "Car 3 done refueling at 25\n"
     ]
    }
   ],
   "source": [
    "env = simpy.Environment()\n",
    "gas_station = GasStation(env)\n",
    "car_gen = env.process(car_generator(env, gas_station))\n",
    "env.run(35)"
   ]
  },
  {
   "cell_type": "markdown",
   "metadata": {},
   "source": [
    "> CONATINER allows retrieving their current level as well as capacity - - also access list of waiting events via `put_queue` and `get_queue` (similar to `Resource.queue`)"
   ]
  },
  {
   "cell_type": "code",
   "execution_count": 55,
   "metadata": {},
   "outputs": [],
   "source": [
    "# STORE -  concrete Python OBJ - a single Store can even contain multiple types of obj\n",
    "# FilterStore - custom func to filter obj\n",
    "# PriorityStore - items come out of store in order\n",
    "\n",
    "def producer(env, store):\n",
    "    for i in range(100):\n",
    "        yield env.timeout(2)\n",
    "        yield store.put(f'spam i')\n",
    "        print(f'Produced spam at {env.now}')\n",
    "def consumer(name, env, store):\n",
    "    while True:\n",
    "        yield env.timeout(1)\n",
    "        print(f'{name} requesting spam at {env.now}')\n",
    "        item = yield store.get()\n",
    "        print(f'{name} got {item} at {env.now}')\n",
    "        "
   ]
  },
  {
   "cell_type": "code",
   "execution_count": 56,
   "metadata": {},
   "outputs": [
    {
     "name": "stdout",
     "output_type": "stream",
     "text": [
      "0 requesting spam at 1\n",
      "1 requesting spam at 1\n",
      "Produced spam at 2\n",
      "0 got spam i at 2\n",
      "0 requesting spam at 3\n",
      "Produced spam at 4\n",
      "1 got spam i at 4\n"
     ]
    }
   ],
   "source": [
    "env = simpy.Environment()\n",
    "store = simpy.Store(env, capacity=2)\n",
    "\n",
    "prod = env.process(producer(env, store))\n",
    "consumers = [env.process(consumer(i, env, store)) for i in range(2)]\n",
    "env.run(until=5)"
   ]
  },
  {
   "cell_type": "code",
   "execution_count": null,
   "metadata": {},
   "outputs": [],
   "source": []
  },
  {
   "cell_type": "code",
   "execution_count": null,
   "metadata": {},
   "outputs": [],
   "source": []
  },
  {
   "cell_type": "markdown",
   "metadata": {},
   "source": [
    "### REAL-TIME SIMU + MONITORING"
   ]
  },
  {
   "cell_type": "markdown",
   "metadata": {},
   "source": [
    "### TIME and Scheduling"
   ]
  },
  {
   "cell_type": "code",
   "execution_count": null,
   "metadata": {},
   "outputs": [],
   "source": []
  },
  {
   "cell_type": "code",
   "execution_count": null,
   "metadata": {},
   "outputs": [],
   "source": []
  },
  {
   "cell_type": "code",
   "execution_count": null,
   "metadata": {},
   "outputs": [],
   "source": [
    "# Basic Resources : some kind of container with often limited capacity\n"
   ]
  },
  {
   "cell_type": "code",
   "execution_count": null,
   "metadata": {},
   "outputs": [],
   "source": []
  },
  {
   "cell_type": "code",
   "execution_count": null,
   "metadata": {},
   "outputs": [],
   "source": []
  }
 ],
 "metadata": {
  "colab": {
   "collapsed_sections": [],
   "name": "Simulation.ipynb",
   "provenance": [],
   "version": "0.3.2"
  },
  "kernelspec": {
   "display_name": "Python 3",
   "language": "python",
   "name": "python3"
  },
  "language_info": {
   "codemirror_mode": {
    "name": "ipython",
    "version": 3
   },
   "file_extension": ".py",
   "mimetype": "text/x-python",
   "name": "python",
   "nbconvert_exporter": "python",
   "pygments_lexer": "ipython3",
   "version": "3.6.6"
  },
  "toc": {
   "base_numbering": 1,
   "nav_menu": {},
   "number_sections": true,
   "sideBar": true,
   "skip_h1_title": false,
   "title_cell": "Synopsis",
   "title_sidebar": "Contents",
   "toc_cell": true,
   "toc_position": {},
   "toc_section_display": true,
   "toc_window_display": true
  }
 },
 "nbformat": 4,
 "nbformat_minor": 1
}
