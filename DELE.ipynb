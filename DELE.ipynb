{
 "cells": [
  {
   "cell_type": "markdown",
   "metadata": {},
   "source": []
  },
  {
   "cell_type": "code",
   "execution_count": 32,
   "metadata": {},
   "outputs": [],
   "source": [
    "from IPython.core.interactiveshell import InteractiveShell\n",
    "InteractiveShell.ast_node_interactivity = \"all\""
   ]
  },
  {
   "cell_type": "markdown",
   "metadata": {},
   "source": [
    "# Language model pretraining (2.1 Release Note, more detail explanation)\n",
    "\n",
    "By far the biggest news in NLP research over 2018 was the success of language model pretraining. The basic intuition behind this has been obvious for a very long time. There's never been much doubt that NLP models need to somehow import knowledge from raw text, as labelled training corpora tend to be too small to represent long-tailed knowledge about word meanings and usage. In 2011, deep learning methods were proving successful for NLP, and techniques for pretraining word representations were already in use. A range of techniques for pretraining further layers of the network were proposed over the years, as the deep learning hype took hold. However, no one objective for the pretraining seemed to be a knockout success on a wide range of tasks.\n",
    "\n",
    "In 2018, a number of papers showed that a simple language modelling objective worked well for LSTM models. Devlin et al. then presented a neat modification that allowed bidirectional models to be pretrained as well. One of the major themes throughout these results was that pretraining allowed extremely large models to be used, even when the labelled data is fairly small. A team from OpenAI took this one step further, training an even larger version of Devlin et al.'s model, and showing it performs well on long-form text generation.\n",
    "\n",
    "While these large models provide convincing demonstrations, **they're not suitable for spaCy's main use-cases. The performance target we've set for ourselves is 10,000 words per second per CPU core. The v2.1 models currently run at around 8,000 words per second, so we're already slightly behind. Clearly, we couldn't use a model such as BERT or GPT-2 directly. But the same principle of pretraining should still apply, so long as we could find a way to scale it down.**\n",
    "\n",
    "> ### The performance target we've set for ourselves is 10,000 words per second per CPU core. \n",
    "\n",
    "\n",
    "Scaling down these language models to the sizes we use in spaCy posed an interesting research challenge. Language models typically use a large output layer, with one neuron per word in the vocabulary. If you're predicting over a 10,000 word vocabulary, this means you're predicting a vector with 10,000 elements. spaCy v2.1's token vectors are 96 elements wide, so a naive softmax approach would be unlikely to work: we'd be trying to predict 100 elements of output for every 1 element of input. We could make the vocabulary somewhat smaller, but every word that's out of vocabulary is a word the pretraining process will be unable to learn. Stepping back a little, the problem of so-called \"one hot\" representations posing representational issues for neural networks is actually quite familiar. This is exactly what algorithms like word2vec, GloVe and FastText set out to solve. Instead of a binary vector with one dimension per entry in the vocabulary, we can have a much denser real-valued representation of the same information.\n",
    "\n",
    "> The spacy pretrain command requires a word vectors model as part of the input, which it uses as the target output for each token. Instead of predicting a token's ID as a classification problem, we learn to predict the token's word vector. Inspired by names such as ELMo and BERT, we've termed this trick **Language Modelling with Approximate Outputs (LMAO).** Our first implementation is probably a good way to get acquainted with the idea – it's extremely short.\n",
    "\n",
    "As is often the case in research, it seems that LMAO is an idea whose time had come. Several other researchers have been working on related ideas independently. So far we've been using L2 loss in our experiments, but Kumar and Tsvetkov (2018), who were simultaneously working on a similar idea for machine translation, have developed a novel probabilistic loss using the von Mises-Fisher distribution, which they show performs significantly better than L2 in their experiments. Even more recently, Li et al. (2019) report experiments using an LMAO objective in place of the softmax layer in the ELMo pretraining system, with promising results. In our own preliminary experiments, we've found pretraining especially effective when limited training data is available. It helps most for text categorization and parsing, but is less effective for named entity recognition. We expect the pretraining to be increasingly important as we add more abstract semantic prediction models to spaCy, for tasks such as semantic role labelling, coreference resolution and named entity linking.\n",
    "\n",
    "#### Example: 100,000 Reddit comments\n",
    "As a small example, we ran spacy pretrain for the English sm and lg models using 100,000 comments from the Reddit comments corpus:\n",
    "\n",
    "\n",
    "```python\n",
    "# Pretrain for the en_core_web_sm model. The sm model doesn't require the word vectors\n",
    "# at runtime, while the lg model does.\n",
    "python -m spacy pretrain /input/reddit-100k.jsonl en_vectors_web_lg /output\n",
    "\n",
    "# Pretrain for the en_core_web_lg model\n",
    "python -m spacy pretrain /input/reddit-100k.jsonl en_vectors_web_lg /output --use-vectors\n",
    "```\n",
    "\n",
    "\n",
    "We ran both pretraining jobs simultaneously on a Tesla V100, with each task training at around 50,000 tokens per second. We pretrained for 3 billion words (making several passes over the 100k comments), which took around 17 hours. The total cost of both jobs came out to about `$40.00` on Google Compute Engine. We haven't implemented resume logic yet, which will help decrease the cost of large scale jobs further, as it would allow the use of pre-emptible instances. This would take pretraining costs down to around $4 per billion words of training. \n",
    "\n",
    "**The spacy pretrain command saves out a weights file after each pass over the data. To use the pretrained weights, we can simply pass them as an argument to spacy train:**\n",
    "\n",
    "```python\n",
    "python -m spacy train en /models/ /corpora/PTB_SD_3_3_0/train.gold.json\n",
    "/corpora/PTB_SD_3_3_0/dev.gold.json --n-examples 100 --pipeline parser\n",
    "--init-tok2vec pretrain-nv-model999.bin\n",
    "```"
   ]
  },
  {
   "cell_type": "code",
   "execution_count": 1,
   "metadata": {},
   "outputs": [
    {
     "name": "stdout",
     "output_type": "stream",
     "text": [
      "\u001b[2K\u001b[38;5;2m✔ Loaded compatibility table\u001b[0m\n",
      "\u001b[1m\n",
      "====================== Installed models (spaCy v2.1.3) ======================\u001b[0m\n",
      "\u001b[38;5;4mℹ spaCy installation:\n",
      "/Users/Ocean/.virtualenvs/general/lib/python3.7/site-packages/spacy\u001b[0m\n",
      "\n",
      "TYPE      NAME             MODEL            VERSION                            \n",
      "package   en-core-web-sm   en_core_web_sm   \u001b[38;5;2m2.1.0\u001b[0m   \u001b[38;5;2m✔\u001b[0m\n",
      "\n"
     ]
    }
   ],
   "source": [
    "!python -m spacy validate"
   ]
  },
  {
   "cell_type": "code",
   "execution_count": 2,
   "metadata": {},
   "outputs": [],
   "source": [
    "import spacy\n",
    "# Load the spacy model that you have installed\n",
    "nlp = spacy.load('en_core_web_sm')\n",
    "# process a sentence using the model\n",
    "doc = nlp(\"This is some text that I am processing with Spacy\")\n",
    "# It's that simple - all of the vectors and words are assigned after this point"
   ]
  },
  {
   "cell_type": "code",
   "execution_count": 10,
   "metadata": {},
   "outputs": [
    {
     "data": {
      "text/plain": [
       "array([ 4.568534  , -1.370492  , -0.10243708, -4.9273725 , -2.8822362 ,\n",
       "       -0.43979168,  1.2032022 ,  1.539654  , -1.4354546 ,  3.725113  ,\n",
       "       -2.8059876 ,  2.9812315 ,  1.817046  ,  0.39551175,  2.4117086 ,\n",
       "        2.4071648 ,  4.280481  , -1.0028365 ,  3.0613012 ,  3.9989853 ,\n",
       "        0.4266799 , -0.4810611 ,  2.781459  ,  1.8233557 ,  3.6449585 ,\n",
       "        2.931554  ,  1.6284118 ,  1.8926572 , -1.3592925 ,  2.8787358 ,\n",
       "       -0.57225597, -2.539186  , -0.20420784,  0.19943705,  1.614649  ,\n",
       "        5.160138  , -4.8143315 ,  1.5709063 , -1.9602243 ,  2.5604448 ,\n",
       "       -0.5673953 ,  3.565825  , -0.9036477 ,  3.2363827 , -3.5073028 ,\n",
       "       -0.41927445, -5.337351  , -0.74449515, -5.031135  , -2.4003181 ,\n",
       "       -2.4529147 , -0.96750605, -2.6986072 , -1.4134347 ,  0.39658427,\n",
       "       -1.4486932 ,  0.32196984,  1.2560596 , -2.3243914 ,  1.5871863 ,\n",
       "        0.07370102, -1.7702907 ,  3.2301302 , -2.0438488 , -1.6744761 ,\n",
       "        0.02871056, -0.15093124,  4.023599  , -3.7182117 ,  5.8580546 ,\n",
       "        0.7051388 ,  3.6322045 ,  3.6214297 ,  3.63973   ,  4.763067  ,\n",
       "       -0.11974061, -0.30218053, -1.815311  , -4.5964446 , -4.565879  ,\n",
       "       -3.3667505 , -3.7471693 , -4.0060844 ,  0.05506897, -0.9885264 ,\n",
       "       -0.5058658 , -1.2265656 , -1.2601172 ,  2.2269785 , -2.4649866 ,\n",
       "       -2.1156535 , -0.11743927, -0.6870382 , -0.23793319,  0.63487554,\n",
       "        1.0138589 ], dtype=float32)"
      ]
     },
     "execution_count": 10,
     "metadata": {},
     "output_type": "execute_result"
    }
   ],
   "source": [
    "# Get the vector for 'text':\n",
    "doc[3].vector"
   ]
  },
  {
   "cell_type": "code",
   "execution_count": 11,
   "metadata": {},
   "outputs": [
    {
     "data": {
      "text/plain": [
       "96"
      ]
     },
     "execution_count": 11,
     "metadata": {},
     "output_type": "execute_result"
    }
   ],
   "source": [
    "len(doc[3].vector)"
   ]
  },
  {
   "cell_type": "code",
   "execution_count": 8,
   "metadata": {},
   "outputs": [
    {
     "data": {
      "text/plain": [
       "array([-4.9158383e-02, -2.2899616e+00,  2.5269842e-01, -2.6431209e-01,\n",
       "       -1.1894754e+00, -4.9129987e-01,  1.5165387e+00,  1.6127644e+00,\n",
       "       -1.3823860e+00,  2.9913145e-01, -9.8314810e-01,  8.7381285e-01,\n",
       "       -1.2274878e+00,  1.0824182e+00,  5.8566272e-01, -2.0701867e-02,\n",
       "        3.3010659e-01,  1.4820244e+00,  2.0354960e+00,  1.7076943e+00,\n",
       "       -1.4619898e+00, -2.7528131e-01,  2.6012371e+00,  2.5300572e+00,\n",
       "       -1.3915771e+00,  1.0471743e+00,  1.1071947e+00, -6.7873907e-01,\n",
       "       -9.4008607e-01,  1.8030189e+00,  1.3864447e+00, -9.6817780e-01,\n",
       "       -9.8889017e-01, -1.6335909e+00,  6.5532809e-01,  1.2170750e+00,\n",
       "       -6.2035829e-01,  1.8760487e-01, -2.4593856e+00,  5.7861918e-01,\n",
       "        2.2893906e-01,  1.0961099e+00, -1.0336214e+00,  1.9069424e+00,\n",
       "       -1.7398831e+00, -1.9183344e+00, -5.8177680e-01, -6.3919365e-01,\n",
       "       -6.7629862e-01, -1.7188880e+00,  2.4197014e-01, -7.0250863e-01,\n",
       "       -1.7290170e+00,  8.8305938e-01,  4.5162058e-01, -8.7952787e-01,\n",
       "       -9.1050053e-01,  1.0783484e+00, -6.5873611e-01,  1.2649627e+00,\n",
       "       -1.2529211e+00, -9.3100452e-01,  9.3277204e-01,  5.9290999e-01,\n",
       "       -1.4891685e+00,  9.3676770e-01,  1.1582804e+00, -4.0674418e-01,\n",
       "       -1.3210254e+00, -3.1475013e-01,  1.3856208e+00, -1.2442671e+00,\n",
       "        3.4682560e-01,  5.7679939e-01,  7.8304642e-01,  1.6045773e+00,\n",
       "        3.8187975e-01, -5.1894939e-01, -7.5808954e-01, -1.2762765e+00,\n",
       "       -2.5464076e-01, -6.5704519e-01, -3.3581743e-01, -1.3231754e-03,\n",
       "        5.5973053e-01,  8.2692462e-01,  2.4014823e+00, -8.0527151e-01,\n",
       "       -6.6916847e-01,  1.3325342e+00,  6.5424055e-01,  2.7054557e-01,\n",
       "       -1.8766144e-01,  1.0717672e+00, -6.7821664e-01,  5.5232954e-01],\n",
       "      dtype=float32)"
      ]
     },
     "execution_count": 8,
     "metadata": {},
     "output_type": "execute_result"
    }
   ],
   "source": [
    "# Get the mean vector for the entire sentence (useful for sentence classification etc.)\n",
    "doc.vector"
   ]
  },
  {
   "cell_type": "code",
   "execution_count": 9,
   "metadata": {},
   "outputs": [
    {
     "data": {
      "text/plain": [
       "96"
      ]
     },
     "execution_count": 9,
     "metadata": {},
     "output_type": "execute_result"
    }
   ],
   "source": [
    "len(doc.vector)"
   ]
  },
  {
   "cell_type": "markdown",
   "metadata": {},
   "source": [
    "# GENSIM loading Pretrained Word2Vec \n",
    "\n",
    "```python\n",
    "from gensim.models import KeyedVectors\n",
    "# Load vectors directly from the file 1G\n",
    "model = KeyedVectors.load_word2vec_format('data/GoogleGoogleNews-vectors-negative300.bin', binary=True)\n",
    "# Access vectors for specific words with a keyed lookup:\n",
    "vector = model['easy']\n",
    "# see the shape of the vector (300,)\n",
    "vector.shape\n",
    "# Processing sentences is not as simple as with Spacy:\n",
    "vectors = [model[x] for x in \"This is some text I am processing with Spacy\".split(' ')]\n",
    "```"
   ]
  },
  {
   "cell_type": "code",
   "execution_count": 27,
   "metadata": {},
   "outputs": [
    {
     "data": {
      "text/plain": [
       "{'text': 'This is some text that I am processing with Spacy',\n",
       " 'ents': [],\n",
       " 'sents': [{'start': 0, 'end': 49}],\n",
       " 'tokens': [{'id': 0,\n",
       "   'start': 0,\n",
       "   'end': 4,\n",
       "   'pos': 'DET',\n",
       "   'tag': 'DT',\n",
       "   'dep': 'nsubj',\n",
       "   'head': 1},\n",
       "  {'id': 1,\n",
       "   'start': 5,\n",
       "   'end': 7,\n",
       "   'pos': 'VERB',\n",
       "   'tag': 'VBZ',\n",
       "   'dep': 'ROOT',\n",
       "   'head': 1},\n",
       "  {'id': 2,\n",
       "   'start': 8,\n",
       "   'end': 12,\n",
       "   'pos': 'DET',\n",
       "   'tag': 'DT',\n",
       "   'dep': 'det',\n",
       "   'head': 3},\n",
       "  {'id': 3,\n",
       "   'start': 13,\n",
       "   'end': 17,\n",
       "   'pos': 'NOUN',\n",
       "   'tag': 'NN',\n",
       "   'dep': 'attr',\n",
       "   'head': 1},\n",
       "  {'id': 4,\n",
       "   'start': 18,\n",
       "   'end': 22,\n",
       "   'pos': 'DET',\n",
       "   'tag': 'WDT',\n",
       "   'dep': 'dobj',\n",
       "   'head': 7},\n",
       "  {'id': 5,\n",
       "   'start': 23,\n",
       "   'end': 24,\n",
       "   'pos': 'PRON',\n",
       "   'tag': 'PRP',\n",
       "   'dep': 'nsubj',\n",
       "   'head': 7},\n",
       "  {'id': 6,\n",
       "   'start': 25,\n",
       "   'end': 27,\n",
       "   'pos': 'VERB',\n",
       "   'tag': 'VBP',\n",
       "   'dep': 'aux',\n",
       "   'head': 7},\n",
       "  {'id': 7,\n",
       "   'start': 28,\n",
       "   'end': 38,\n",
       "   'pos': 'VERB',\n",
       "   'tag': 'VBG',\n",
       "   'dep': 'relcl',\n",
       "   'head': 3},\n",
       "  {'id': 8,\n",
       "   'start': 39,\n",
       "   'end': 43,\n",
       "   'pos': 'ADP',\n",
       "   'tag': 'IN',\n",
       "   'dep': 'prep',\n",
       "   'head': 7},\n",
       "  {'id': 9,\n",
       "   'start': 44,\n",
       "   'end': 49,\n",
       "   'pos': 'PROPN',\n",
       "   'tag': 'NNP',\n",
       "   'dep': 'pobj',\n",
       "   'head': 8}]}"
      ]
     },
     "execution_count": 27,
     "metadata": {},
     "output_type": "execute_result"
    }
   ],
   "source": [
    "doc.to_json()"
   ]
  },
  {
   "cell_type": "code",
   "execution_count": null,
   "metadata": {},
   "outputs": [],
   "source": []
  },
  {
   "cell_type": "code",
   "execution_count": null,
   "metadata": {},
   "outputs": [],
   "source": []
  },
  {
   "cell_type": "markdown",
   "metadata": {},
   "source": [
    "# Custom Extension"
   ]
  },
  {
   "cell_type": "code",
   "execution_count": 3,
   "metadata": {},
   "outputs": [],
   "source": [
    "import spacy\n",
    "# Load the spacy model that you have installed\n",
    "nlp = spacy.load('en_core_web_sm')\n",
    "# process a sentence using the model\n",
    "doc = nlp(\"This is some text that I am processing with Spacy\")\n",
    "# It's that simple - all of the vectors and words are assigned after this point"
   ]
  },
  {
   "cell_type": "code",
   "execution_count": 4,
   "metadata": {},
   "outputs": [],
   "source": [
    "from spacy.tokens import Doc"
   ]
  },
  {
   "cell_type": "code",
   "execution_count": 6,
   "metadata": {},
   "outputs": [
    {
     "data": {
      "text/plain": [
       "<function Doc.set_extension>"
      ]
     },
     "execution_count": 6,
     "metadata": {},
     "output_type": "execute_result"
    }
   ],
   "source": [
    "Doc.set_extension"
   ]
  },
  {
   "cell_type": "markdown",
   "metadata": {},
   "source": [
    "- Define a custom attribute which becomes available as `Doc._`.\n",
    "\n",
    "- name (unicode): Name of the attribute to set.\n",
    "- default: Optional default value of the attribute.\n",
    "- getter (callable): Optional getter function.\n",
    "- setter (callable): Optional setter function.\n",
    "- method (callable): Optional method for method extension.\n",
    "- force (bool): Force overwriting existing attribute."
   ]
  },
  {
   "cell_type": "code",
   "execution_count": null,
   "metadata": {},
   "outputs": [],
   "source": []
  },
  {
   "cell_type": "code",
   "execution_count": null,
   "metadata": {},
   "outputs": [],
   "source": []
  },
  {
   "cell_type": "code",
   "execution_count": null,
   "metadata": {},
   "outputs": [],
   "source": []
  },
  {
   "cell_type": "markdown",
   "metadata": {},
   "source": [
    "# Scrapy Extraction API Beta"
   ]
  },
  {
   "cell_type": "code",
   "execution_count": 7,
   "metadata": {},
   "outputs": [],
   "source": [
    "import requests"
   ]
  },
  {
   "cell_type": "markdown",
   "metadata": {},
   "source": [
    "### Article"
   ]
  },
  {
   "cell_type": "code",
   "execution_count": 8,
   "metadata": {},
   "outputs": [],
   "source": [
    "# Multiple queries\n",
    "queries = [\n",
    "    {'meta': 'query1', 'url': 'https://www.scmp.com/news/asia/south-asia/article/3007050/least-20-killed-multiple-blasts-hit-churches-and-hotels-sri',\n",
    "    'pageType': 'article'},\n",
    "    {'meta': 'query2', 'url': 'https://www.scmp.com/news/china/diplomacy/article/3007081/china-adds-new-satellite-its-beidou-network-aims-rival-us',\n",
    "    'pageType': 'article'},\n",
    "    {'meta': 'query3', 'url': 'https://www.scmp.com/week-asia/economics/article/3006964/why-hong-kong-linked-kingsford-development-cant-sell-flats',\n",
    "    'pageType': 'article'},\n",
    "]\n",
    "\n",
    "response = requests.post('https://developerapi.scrapinghub.com/v1/extract', \n",
    "                        auth=('cgkd3qg4p4JakYycHbWMHaVm', ''),\n",
    "                        json=queries)"
   ]
  },
  {
   "cell_type": "code",
   "execution_count": 9,
   "metadata": {},
   "outputs": [],
   "source": [
    "query_resutls = {result['query']['userMeta']:result for result in response.json()}"
   ]
  },
  {
   "cell_type": "code",
   "execution_count": 23,
   "metadata": {},
   "outputs": [
    {
     "name": "stdout",
     "output_type": "stream",
     "text": [
      "Three arrested over Sri Lanka bombings that killed 207\n",
      "2019-04-21T13:11:16+08:00\n",
      "Agence France-Presse\n",
      "['Agence France-Presse']\n",
      "en\n",
      "[{'name': 'News', 'link': 'https://www.scmp.com/news'}, {'name': 'Asia', 'link': 'https://www.scmp.com/news/asia'}, {'name': 'South Asia', 'link': 'https://www.scmp.com/news/asia/south-asia'}]\n",
      "A string of devastating bomb blasts ripped through high-end hotels and churches holding Easter services and the casualties include dozens of foreigners.\n",
      "None\n",
      "0.0\n",
      "\n",
      "China adds new satellite to its Beidou network that aims to rival GPS\n",
      "2019-04-21T22:00:18+08:00\n",
      "Liu Zhen\n",
      "['Liu Zhen']\n",
      "en\n",
      "[{'name': 'News', 'link': 'https://www.scmp.com/news'}, {'name': 'China', 'link': 'https://www.scmp.com/news/china'}, {'name': 'Diplomacy', 'link': 'https://www.scmp.com/news/china/diplomacy'}]\n",
      "There are now 20 satellites in orbit for the navigation system, which is expected to be completed next year.\n",
      "None\n",
      "0.0\n",
      "\n",
      "Why Hong Kong-linked developer can’t sell flats on a US$600m Singapore property\n",
      "2019-04-21T12:45:05+08:00\n",
      "Serene Goh\n",
      "['Serene Goh']\n",
      "en\n",
      "[{'name': 'This Week in Asia', 'link': 'https://www.scmp.com/week-asia'}, {'name': 'Economics', 'link': 'https://www.scmp.com/week-asia/economics'}]\n",
      "Kingsford Development once made headlines for the opulence of its chairman’s US$24 million Singapore home. Now its shoddy work at an estate it bought for US$600 million has it back in the news for all the wrong reasons.\n",
      "Kingsford Development once made headlines for the opulence of its chairman’s US$24 million Singapore home.\n",
      "Now its shoddy work at an estate it bought for US$600 million has it back in the news for all the wrong reasons\n",
      "0.0\n",
      "\n"
     ]
    }
   ],
   "source": [
    "for query in queries:\n",
    "    query_result = query_resutls[query['meta']]\n",
    "    print(query_result['article']['headline'])\n",
    "    print(query_result['article']['datePublished'])\n",
    "    print(query_result['article']['author'])\n",
    "    print(query_result['article']['authorsList'])\n",
    "    print(query_result['article']['inLanguage'])\n",
    "    print(query_result['article']['breadcrumbs'])\n",
    "    print(query_result['article']['description'])\n",
    "    print(query_result['article']['articleBody'])\n",
    "    print(query_result['article']['probability'])\n",
    "    print()"
   ]
  },
  {
   "cell_type": "code",
   "execution_count": 34,
   "metadata": {},
   "outputs": [
    {
     "name": "stdout",
     "output_type": "stream",
     "text": [
      "True\n",
      "200\n",
      "application/json\n"
     ]
    },
    {
     "data": {
      "text/plain": [
       "dict_keys(['query', 'error', 'html', 'metadata', 'article', 'product', 'results'])"
      ]
     },
     "execution_count": 34,
     "metadata": {},
     "output_type": "execute_result"
    }
   ],
   "source": [
    "print(response.status_code == requests.codes.ok)  # False\n",
    "print(response.status_code)\n",
    "print(response.headers['content-type'])\n",
    "response.json()[0].keys()"
   ]
  },
  {
   "cell_type": "code",
   "execution_count": 41,
   "metadata": {},
   "outputs": [
    {
     "data": {
      "text/plain": [
       "{'articleBody': None,\n",
       " 'articleBodyRaw': None,\n",
       " 'headline': 'China adds new satellite to its Beidou network that aims to rival GPS',\n",
       " 'inLanguage': 'en',\n",
       " 'datePublished': '2019-04-21T22:00:18+08:00',\n",
       " 'datePublishedRaw': '2019-04-21T22:00:18+08:00',\n",
       " 'author': 'Liu Zhen',\n",
       " 'authorsList': ['Liu Zhen'],\n",
       " 'mainImage': 'https://cdn.i-scmp.com/sites/default/files/styles/og_image_scmp_generic/public/d8/images/methode/2019/04/21/9a2fef5e-6416-11e9-b745-17e2afcf325c_image_hires_212534.JPG?itok=WbUa23K8',\n",
       " 'images': None,\n",
       " 'videoUrls': None,\n",
       " 'audioUrls': None,\n",
       " 'description': 'There are now 20 satellites in orbit for the navigation system, which is expected to be completed next year.',\n",
       " 'breadcrumbs': [{'name': 'News', 'link': 'https://www.scmp.com/news'},\n",
       "  {'name': 'China', 'link': 'https://www.scmp.com/news/china'},\n",
       "  {'name': 'Diplomacy', 'link': 'https://www.scmp.com/news/china/diplomacy'}],\n",
       " 'url': 'https://www.scmp.com/news/china/diplomacy/article/3007081/china-adds-new-satellite-its-beidou-network-aims-rival-us',\n",
       " 'probability': 0.0}"
      ]
     },
     "execution_count": 41,
     "metadata": {},
     "output_type": "execute_result"
    }
   ],
   "source": [
    "response.json()[0]['article']"
   ]
  },
  {
   "cell_type": "code",
   "execution_count": 42,
   "metadata": {},
   "outputs": [],
   "source": [
    "response1 = requests.post('https://developerapi.scrapinghub.com/v1/extract', \n",
    "                        auth=('cgkd3qg4p4JakYycHbWMHaVm', ''),\n",
    "                        json=[{'url': 'https://www.bbc.co.uk/programmes/articles/5nxMx7d1K8S6nhjkPBFhHSM/withering-wit-and-words-of-wisdom-oscar-wildes-best-quotes',\n",
    "                              'pageType': 'article'}])"
   ]
  },
  {
   "cell_type": "code",
   "execution_count": 43,
   "metadata": {},
   "outputs": [
    {
     "data": {
      "text/plain": [
       "{'articleBody': None,\n",
       " 'articleBodyRaw': None,\n",
       " 'headline': \"BBC Arts - Withering wit and words of wisdom: Oscar Wilde's best quotes\",\n",
       " 'inLanguage': 'en',\n",
       " 'datePublished': '2019-04-17T00:00:00',\n",
       " 'datePublishedRaw': '17 April 2019',\n",
       " 'author': 'BBC',\n",
       " 'authorsList': ['BBC'],\n",
       " 'mainImage': 'https://ichef.bbci.co.uk/images/ic/1040x1040/p076j0gs.jpg',\n",
       " 'images': ['https://ichef.bbci.co.uk/images/ic/256xn/p076j0gs.jpg',\n",
       "  'https://ichef.bbci.co.uk/images/ic/256xn/p05nlvln.jpg'],\n",
       " 'videoUrls': None,\n",
       " 'audioUrls': None,\n",
       " 'description': 'A section of Oscar Wilde’s best put downs in his own words.',\n",
       " 'breadcrumbs': None,\n",
       " 'url': 'https://www.bbc.co.uk/programmes/articles/5nxMx7d1K8S6nhjkPBFhHSM/withering-wit-and-words-of-wisdom-oscar-wildes-best-quotes',\n",
       " 'probability': 0.970164954662323}"
      ]
     },
     "execution_count": 43,
     "metadata": {},
     "output_type": "execute_result"
    }
   ],
   "source": [
    "response1.json()[0]['article']"
   ]
  },
  {
   "cell_type": "code",
   "execution_count": null,
   "metadata": {},
   "outputs": [],
   "source": []
  },
  {
   "cell_type": "code",
   "execution_count": null,
   "metadata": {},
   "outputs": [],
   "source": []
  },
  {
   "cell_type": "markdown",
   "metadata": {},
   "source": [
    "# Pandas Wide-Long Pivot-table"
   ]
  },
  {
   "cell_type": "code",
   "execution_count": 44,
   "metadata": {},
   "outputs": [],
   "source": [
    "np.random.seed(123)\n",
    "df = pd.DataFrame({\"A1970\" : {0 : \"a\", 1 : \"b\", 2 : \"c\"},\n",
    "                   \"A1980\" : {0 : \"d\", 1 : \"e\", 2 : \"f\"},\n",
    "                   \"B1970\" : {0 : 2.5, 1 : 1.2, 2 : .7},\n",
    "                   \"B1980\" : {0 : 3.2, 1 : 1.3, 2 : .1},\n",
    "                   \"X\"     : dict(zip(range(3), np.random.randn(3)))\n",
    "                  })"
   ]
  },
  {
   "cell_type": "code",
   "execution_count": 45,
   "metadata": {},
   "outputs": [
    {
     "data": {
      "text/html": [
       "<div>\n",
       "<style scoped>\n",
       "    .dataframe tbody tr th:only-of-type {\n",
       "        vertical-align: middle;\n",
       "    }\n",
       "\n",
       "    .dataframe tbody tr th {\n",
       "        vertical-align: top;\n",
       "    }\n",
       "\n",
       "    .dataframe thead th {\n",
       "        text-align: right;\n",
       "    }\n",
       "</style>\n",
       "<table border=\"1\" class=\"dataframe\">\n",
       "  <thead>\n",
       "    <tr style=\"text-align: right;\">\n",
       "      <th></th>\n",
       "      <th>A1970</th>\n",
       "      <th>A1980</th>\n",
       "      <th>B1970</th>\n",
       "      <th>B1980</th>\n",
       "      <th>X</th>\n",
       "    </tr>\n",
       "  </thead>\n",
       "  <tbody>\n",
       "    <tr>\n",
       "      <th>0</th>\n",
       "      <td>a</td>\n",
       "      <td>d</td>\n",
       "      <td>2.5</td>\n",
       "      <td>3.2</td>\n",
       "      <td>-1.085631</td>\n",
       "    </tr>\n",
       "    <tr>\n",
       "      <th>1</th>\n",
       "      <td>b</td>\n",
       "      <td>e</td>\n",
       "      <td>1.2</td>\n",
       "      <td>1.3</td>\n",
       "      <td>0.997345</td>\n",
       "    </tr>\n",
       "    <tr>\n",
       "      <th>2</th>\n",
       "      <td>c</td>\n",
       "      <td>f</td>\n",
       "      <td>0.7</td>\n",
       "      <td>0.1</td>\n",
       "      <td>0.282978</td>\n",
       "    </tr>\n",
       "  </tbody>\n",
       "</table>\n",
       "</div>"
      ],
      "text/plain": [
       "  A1970 A1980  B1970  B1980         X\n",
       "0     a     d    2.5    3.2 -1.085631\n",
       "1     b     e    1.2    1.3  0.997345\n",
       "2     c     f    0.7    0.1  0.282978"
      ]
     },
     "execution_count": 45,
     "metadata": {},
     "output_type": "execute_result"
    }
   ],
   "source": [
    "df # long-form"
   ]
  },
  {
   "cell_type": "code",
   "execution_count": 46,
   "metadata": {},
   "outputs": [],
   "source": [
    "df[\"id\"] = df.index"
   ]
  },
  {
   "cell_type": "code",
   "execution_count": 47,
   "metadata": {},
   "outputs": [
    {
     "data": {
      "text/html": [
       "<div>\n",
       "<style scoped>\n",
       "    .dataframe tbody tr th:only-of-type {\n",
       "        vertical-align: middle;\n",
       "    }\n",
       "\n",
       "    .dataframe tbody tr th {\n",
       "        vertical-align: top;\n",
       "    }\n",
       "\n",
       "    .dataframe thead th {\n",
       "        text-align: right;\n",
       "    }\n",
       "</style>\n",
       "<table border=\"1\" class=\"dataframe\">\n",
       "  <thead>\n",
       "    <tr style=\"text-align: right;\">\n",
       "      <th></th>\n",
       "      <th>A1970</th>\n",
       "      <th>A1980</th>\n",
       "      <th>B1970</th>\n",
       "      <th>B1980</th>\n",
       "      <th>X</th>\n",
       "      <th>id</th>\n",
       "    </tr>\n",
       "  </thead>\n",
       "  <tbody>\n",
       "    <tr>\n",
       "      <th>0</th>\n",
       "      <td>a</td>\n",
       "      <td>d</td>\n",
       "      <td>2.5</td>\n",
       "      <td>3.2</td>\n",
       "      <td>-1.085631</td>\n",
       "      <td>0</td>\n",
       "    </tr>\n",
       "    <tr>\n",
       "      <th>1</th>\n",
       "      <td>b</td>\n",
       "      <td>e</td>\n",
       "      <td>1.2</td>\n",
       "      <td>1.3</td>\n",
       "      <td>0.997345</td>\n",
       "      <td>1</td>\n",
       "    </tr>\n",
       "    <tr>\n",
       "      <th>2</th>\n",
       "      <td>c</td>\n",
       "      <td>f</td>\n",
       "      <td>0.7</td>\n",
       "      <td>0.1</td>\n",
       "      <td>0.282978</td>\n",
       "      <td>2</td>\n",
       "    </tr>\n",
       "  </tbody>\n",
       "</table>\n",
       "</div>"
      ],
      "text/plain": [
       "  A1970 A1980  B1970  B1980         X  id\n",
       "0     a     d    2.5    3.2 -1.085631   0\n",
       "1     b     e    1.2    1.3  0.997345   1\n",
       "2     c     f    0.7    0.1  0.282978   2"
      ]
     },
     "execution_count": 47,
     "metadata": {},
     "output_type": "execute_result"
    }
   ],
   "source": [
    "df"
   ]
  },
  {
   "cell_type": "markdown",
   "metadata": {},
   "source": [
    "```shell\n",
    "Wide panel to long format. Less flexible but more user-friendly than melt.\n",
    "\n",
    "With stubnames ['A', 'B'], this function expects to find one or more\n",
    "group of columns with format\n",
    "A-suffix1, A-suffix2,..., B-suffix1, B-suffix2,...\n",
    "You specify what you want to call this suffix in the resulting long format\n",
    "with `j` (for example `j='year'`)\n",
    "\n",
    "Each row of these wide variables are assumed to be uniquely identified by\n",
    "`i` (can be a single column name or a list of column names)\n",
    "```"
   ]
  },
  {
   "cell_type": "code",
   "execution_count": 48,
   "metadata": {},
   "outputs": [
    {
     "data": {
      "text/html": [
       "<div>\n",
       "<style scoped>\n",
       "    .dataframe tbody tr th:only-of-type {\n",
       "        vertical-align: middle;\n",
       "    }\n",
       "\n",
       "    .dataframe tbody tr th {\n",
       "        vertical-align: top;\n",
       "    }\n",
       "\n",
       "    .dataframe thead th {\n",
       "        text-align: right;\n",
       "    }\n",
       "</style>\n",
       "<table border=\"1\" class=\"dataframe\">\n",
       "  <thead>\n",
       "    <tr style=\"text-align: right;\">\n",
       "      <th></th>\n",
       "      <th></th>\n",
       "      <th>X</th>\n",
       "      <th>A</th>\n",
       "      <th>B</th>\n",
       "    </tr>\n",
       "    <tr>\n",
       "      <th>id</th>\n",
       "      <th>year</th>\n",
       "      <th></th>\n",
       "      <th></th>\n",
       "      <th></th>\n",
       "    </tr>\n",
       "  </thead>\n",
       "  <tbody>\n",
       "    <tr>\n",
       "      <th>0</th>\n",
       "      <th>1970</th>\n",
       "      <td>-1.085631</td>\n",
       "      <td>a</td>\n",
       "      <td>2.5</td>\n",
       "    </tr>\n",
       "    <tr>\n",
       "      <th>1</th>\n",
       "      <th>1970</th>\n",
       "      <td>0.997345</td>\n",
       "      <td>b</td>\n",
       "      <td>1.2</td>\n",
       "    </tr>\n",
       "    <tr>\n",
       "      <th>2</th>\n",
       "      <th>1970</th>\n",
       "      <td>0.282978</td>\n",
       "      <td>c</td>\n",
       "      <td>0.7</td>\n",
       "    </tr>\n",
       "    <tr>\n",
       "      <th>0</th>\n",
       "      <th>1980</th>\n",
       "      <td>-1.085631</td>\n",
       "      <td>d</td>\n",
       "      <td>3.2</td>\n",
       "    </tr>\n",
       "    <tr>\n",
       "      <th>1</th>\n",
       "      <th>1980</th>\n",
       "      <td>0.997345</td>\n",
       "      <td>e</td>\n",
       "      <td>1.3</td>\n",
       "    </tr>\n",
       "    <tr>\n",
       "      <th>2</th>\n",
       "      <th>1980</th>\n",
       "      <td>0.282978</td>\n",
       "      <td>f</td>\n",
       "      <td>0.1</td>\n",
       "    </tr>\n",
       "  </tbody>\n",
       "</table>\n",
       "</div>"
      ],
      "text/plain": [
       "                X  A    B\n",
       "id year                  \n",
       "0  1970 -1.085631  a  2.5\n",
       "1  1970  0.997345  b  1.2\n",
       "2  1970  0.282978  c  0.7\n",
       "0  1980 -1.085631  d  3.2\n",
       "1  1980  0.997345  e  1.3\n",
       "2  1980  0.282978  f  0.1"
      ]
     },
     "execution_count": 48,
     "metadata": {},
     "output_type": "execute_result"
    }
   ],
   "source": [
    "pd.wide_to_long(df, [\"A\", \"B\"], i=\"id\", j=\"year\")"
   ]
  },
  {
   "cell_type": "code",
   "execution_count": 49,
   "metadata": {},
   "outputs": [
    {
     "data": {
      "text/html": [
       "<div>\n",
       "<style scoped>\n",
       "    .dataframe tbody tr th:only-of-type {\n",
       "        vertical-align: middle;\n",
       "    }\n",
       "\n",
       "    .dataframe tbody tr th {\n",
       "        vertical-align: top;\n",
       "    }\n",
       "\n",
       "    .dataframe thead th {\n",
       "        text-align: right;\n",
       "    }\n",
       "</style>\n",
       "<table border=\"1\" class=\"dataframe\">\n",
       "  <thead>\n",
       "    <tr style=\"text-align: right;\">\n",
       "      <th></th>\n",
       "      <th>famid</th>\n",
       "      <th>birth</th>\n",
       "      <th>ht1</th>\n",
       "      <th>ht2</th>\n",
       "    </tr>\n",
       "  </thead>\n",
       "  <tbody>\n",
       "    <tr>\n",
       "      <th>0</th>\n",
       "      <td>1</td>\n",
       "      <td>1</td>\n",
       "      <td>2.8</td>\n",
       "      <td>3.4</td>\n",
       "    </tr>\n",
       "    <tr>\n",
       "      <th>1</th>\n",
       "      <td>1</td>\n",
       "      <td>2</td>\n",
       "      <td>2.9</td>\n",
       "      <td>3.8</td>\n",
       "    </tr>\n",
       "    <tr>\n",
       "      <th>2</th>\n",
       "      <td>1</td>\n",
       "      <td>3</td>\n",
       "      <td>2.2</td>\n",
       "      <td>2.9</td>\n",
       "    </tr>\n",
       "    <tr>\n",
       "      <th>3</th>\n",
       "      <td>2</td>\n",
       "      <td>1</td>\n",
       "      <td>2.0</td>\n",
       "      <td>3.2</td>\n",
       "    </tr>\n",
       "    <tr>\n",
       "      <th>4</th>\n",
       "      <td>2</td>\n",
       "      <td>2</td>\n",
       "      <td>1.8</td>\n",
       "      <td>2.8</td>\n",
       "    </tr>\n",
       "    <tr>\n",
       "      <th>5</th>\n",
       "      <td>2</td>\n",
       "      <td>3</td>\n",
       "      <td>1.9</td>\n",
       "      <td>2.4</td>\n",
       "    </tr>\n",
       "    <tr>\n",
       "      <th>6</th>\n",
       "      <td>3</td>\n",
       "      <td>1</td>\n",
       "      <td>2.2</td>\n",
       "      <td>3.3</td>\n",
       "    </tr>\n",
       "    <tr>\n",
       "      <th>7</th>\n",
       "      <td>3</td>\n",
       "      <td>2</td>\n",
       "      <td>2.3</td>\n",
       "      <td>3.4</td>\n",
       "    </tr>\n",
       "    <tr>\n",
       "      <th>8</th>\n",
       "      <td>3</td>\n",
       "      <td>3</td>\n",
       "      <td>2.1</td>\n",
       "      <td>2.9</td>\n",
       "    </tr>\n",
       "  </tbody>\n",
       "</table>\n",
       "</div>"
      ],
      "text/plain": [
       "   famid  birth  ht1  ht2\n",
       "0      1      1  2.8  3.4\n",
       "1      1      2  2.9  3.8\n",
       "2      1      3  2.2  2.9\n",
       "3      2      1  2.0  3.2\n",
       "4      2      2  1.8  2.8\n",
       "5      2      3  1.9  2.4\n",
       "6      3      1  2.2  3.3\n",
       "7      3      2  2.3  3.4\n",
       "8      3      3  2.1  2.9"
      ]
     },
     "execution_count": 49,
     "metadata": {},
     "output_type": "execute_result"
    }
   ],
   "source": [
    "df = pd.DataFrame({\n",
    "    'famid': [1, 1, 1, 2, 2, 2, 3, 3, 3],\n",
    "    'birth': [1, 2, 3, 1, 2, 3, 1, 2, 3],\n",
    "    'ht1': [2.8, 2.9, 2.2, 2, 1.8, 1.9, 2.2, 2.3, 2.1],\n",
    "    'ht2': [3.4, 3.8, 2.9, 3.2, 2.8, 2.4, 3.3, 3.4, 2.9]\n",
    "})\n",
    "df"
   ]
  },
  {
   "cell_type": "code",
   "execution_count": 50,
   "metadata": {},
   "outputs": [
    {
     "data": {
      "text/html": [
       "<div>\n",
       "<style scoped>\n",
       "    .dataframe tbody tr th:only-of-type {\n",
       "        vertical-align: middle;\n",
       "    }\n",
       "\n",
       "    .dataframe tbody tr th {\n",
       "        vertical-align: top;\n",
       "    }\n",
       "\n",
       "    .dataframe thead th {\n",
       "        text-align: right;\n",
       "    }\n",
       "</style>\n",
       "<table border=\"1\" class=\"dataframe\">\n",
       "  <thead>\n",
       "    <tr style=\"text-align: right;\">\n",
       "      <th></th>\n",
       "      <th></th>\n",
       "      <th></th>\n",
       "      <th>ht</th>\n",
       "    </tr>\n",
       "    <tr>\n",
       "      <th>famid</th>\n",
       "      <th>birth</th>\n",
       "      <th>age</th>\n",
       "      <th></th>\n",
       "    </tr>\n",
       "  </thead>\n",
       "  <tbody>\n",
       "    <tr>\n",
       "      <th rowspan=\"6\" valign=\"top\">1</th>\n",
       "      <th rowspan=\"2\" valign=\"top\">1</th>\n",
       "      <th>1</th>\n",
       "      <td>2.8</td>\n",
       "    </tr>\n",
       "    <tr>\n",
       "      <th>2</th>\n",
       "      <td>3.4</td>\n",
       "    </tr>\n",
       "    <tr>\n",
       "      <th rowspan=\"2\" valign=\"top\">2</th>\n",
       "      <th>1</th>\n",
       "      <td>2.9</td>\n",
       "    </tr>\n",
       "    <tr>\n",
       "      <th>2</th>\n",
       "      <td>3.8</td>\n",
       "    </tr>\n",
       "    <tr>\n",
       "      <th rowspan=\"2\" valign=\"top\">3</th>\n",
       "      <th>1</th>\n",
       "      <td>2.2</td>\n",
       "    </tr>\n",
       "    <tr>\n",
       "      <th>2</th>\n",
       "      <td>2.9</td>\n",
       "    </tr>\n",
       "    <tr>\n",
       "      <th rowspan=\"6\" valign=\"top\">2</th>\n",
       "      <th rowspan=\"2\" valign=\"top\">1</th>\n",
       "      <th>1</th>\n",
       "      <td>2.0</td>\n",
       "    </tr>\n",
       "    <tr>\n",
       "      <th>2</th>\n",
       "      <td>3.2</td>\n",
       "    </tr>\n",
       "    <tr>\n",
       "      <th rowspan=\"2\" valign=\"top\">2</th>\n",
       "      <th>1</th>\n",
       "      <td>1.8</td>\n",
       "    </tr>\n",
       "    <tr>\n",
       "      <th>2</th>\n",
       "      <td>2.8</td>\n",
       "    </tr>\n",
       "    <tr>\n",
       "      <th rowspan=\"2\" valign=\"top\">3</th>\n",
       "      <th>1</th>\n",
       "      <td>1.9</td>\n",
       "    </tr>\n",
       "    <tr>\n",
       "      <th>2</th>\n",
       "      <td>2.4</td>\n",
       "    </tr>\n",
       "    <tr>\n",
       "      <th rowspan=\"6\" valign=\"top\">3</th>\n",
       "      <th rowspan=\"2\" valign=\"top\">1</th>\n",
       "      <th>1</th>\n",
       "      <td>2.2</td>\n",
       "    </tr>\n",
       "    <tr>\n",
       "      <th>2</th>\n",
       "      <td>3.3</td>\n",
       "    </tr>\n",
       "    <tr>\n",
       "      <th rowspan=\"2\" valign=\"top\">2</th>\n",
       "      <th>1</th>\n",
       "      <td>2.3</td>\n",
       "    </tr>\n",
       "    <tr>\n",
       "      <th>2</th>\n",
       "      <td>3.4</td>\n",
       "    </tr>\n",
       "    <tr>\n",
       "      <th rowspan=\"2\" valign=\"top\">3</th>\n",
       "      <th>1</th>\n",
       "      <td>2.1</td>\n",
       "    </tr>\n",
       "    <tr>\n",
       "      <th>2</th>\n",
       "      <td>2.9</td>\n",
       "    </tr>\n",
       "  </tbody>\n",
       "</table>\n",
       "</div>"
      ],
      "text/plain": [
       "                  ht\n",
       "famid birth age     \n",
       "1     1     1    2.8\n",
       "            2    3.4\n",
       "      2     1    2.9\n",
       "            2    3.8\n",
       "      3     1    2.2\n",
       "            2    2.9\n",
       "2     1     1    2.0\n",
       "            2    3.2\n",
       "      2     1    1.8\n",
       "            2    2.8\n",
       "      3     1    1.9\n",
       "            2    2.4\n",
       "3     1     1    2.2\n",
       "            2    3.3\n",
       "      2     1    2.3\n",
       "            2    3.4\n",
       "      3     1    2.1\n",
       "            2    2.9"
      ]
     },
     "execution_count": 50,
     "metadata": {},
     "output_type": "execute_result"
    }
   ],
   "source": [
    "l = pd.wide_to_long(df, stubnames='ht', i=['famid', 'birth'], j='age')\n",
    "l"
   ]
  },
  {
   "cell_type": "code",
   "execution_count": 52,
   "metadata": {},
   "outputs": [
    {
     "data": {
      "text/html": [
       "<div>\n",
       "<style scoped>\n",
       "    .dataframe tbody tr th:only-of-type {\n",
       "        vertical-align: middle;\n",
       "    }\n",
       "\n",
       "    .dataframe tbody tr th {\n",
       "        vertical-align: top;\n",
       "    }\n",
       "\n",
       "    .dataframe thead th {\n",
       "        text-align: right;\n",
       "    }\n",
       "</style>\n",
       "<table border=\"1\" class=\"dataframe\">\n",
       "  <thead>\n",
       "    <tr style=\"text-align: right;\">\n",
       "      <th></th>\n",
       "      <th></th>\n",
       "      <th>ht1</th>\n",
       "      <th>ht2</th>\n",
       "    </tr>\n",
       "    <tr>\n",
       "      <th>famid</th>\n",
       "      <th>birth</th>\n",
       "      <th></th>\n",
       "      <th></th>\n",
       "    </tr>\n",
       "  </thead>\n",
       "  <tbody>\n",
       "    <tr>\n",
       "      <th rowspan=\"3\" valign=\"top\">1</th>\n",
       "      <th>1</th>\n",
       "      <td>2.8</td>\n",
       "      <td>3.4</td>\n",
       "    </tr>\n",
       "    <tr>\n",
       "      <th>2</th>\n",
       "      <td>2.9</td>\n",
       "      <td>3.8</td>\n",
       "    </tr>\n",
       "    <tr>\n",
       "      <th>3</th>\n",
       "      <td>2.2</td>\n",
       "      <td>2.9</td>\n",
       "    </tr>\n",
       "    <tr>\n",
       "      <th rowspan=\"3\" valign=\"top\">2</th>\n",
       "      <th>1</th>\n",
       "      <td>2.0</td>\n",
       "      <td>3.2</td>\n",
       "    </tr>\n",
       "    <tr>\n",
       "      <th>2</th>\n",
       "      <td>1.8</td>\n",
       "      <td>2.8</td>\n",
       "    </tr>\n",
       "    <tr>\n",
       "      <th>3</th>\n",
       "      <td>1.9</td>\n",
       "      <td>2.4</td>\n",
       "    </tr>\n",
       "    <tr>\n",
       "      <th rowspan=\"3\" valign=\"top\">3</th>\n",
       "      <th>1</th>\n",
       "      <td>2.2</td>\n",
       "      <td>3.3</td>\n",
       "    </tr>\n",
       "    <tr>\n",
       "      <th>2</th>\n",
       "      <td>2.3</td>\n",
       "      <td>3.4</td>\n",
       "    </tr>\n",
       "    <tr>\n",
       "      <th>3</th>\n",
       "      <td>2.1</td>\n",
       "      <td>2.9</td>\n",
       "    </tr>\n",
       "  </tbody>\n",
       "</table>\n",
       "</div>"
      ],
      "text/plain": [
       "             ht1  ht2\n",
       "famid birth          \n",
       "1     1      2.8  3.4\n",
       "      2      2.9  3.8\n",
       "      3      2.2  2.9\n",
       "2     1      2.0  3.2\n",
       "      2      1.8  2.8\n",
       "      3      1.9  2.4\n",
       "3     1      2.2  3.3\n",
       "      2      2.3  3.4\n",
       "      3      2.1  2.9"
      ]
     },
     "execution_count": 52,
     "metadata": {},
     "output_type": "execute_result"
    }
   ],
   "source": [
    "w = l.unstack()\n",
    "w.columns = w.columns.map('{0[0]}{0[1]}'.format)\n",
    "w.reset_index()\n",
    "w"
   ]
  },
  {
   "cell_type": "code",
   "execution_count": 53,
   "metadata": {},
   "outputs": [],
   "source": [
    "import pandas as pd\n",
    "\n",
    "# Display 6 columns for viewing purposes\n",
    "pd.set_option('display.max_columns', 6)\n",
    "\n",
    "# Reduce decimal points to 2\n",
    "pd.options.display.float_format = '{:,.2f}'.format\n",
    "\n",
    "realwage = pd.read_csv('https://github.com/QuantEcon/QuantEcon.lectures.code/raw/master/pandas_panel/realwage.csv')"
   ]
  },
  {
   "cell_type": "code",
   "execution_count": 55,
   "metadata": {},
   "outputs": [
    {
     "data": {
      "text/html": [
       "<div>\n",
       "<style scoped>\n",
       "    .dataframe tbody tr th:only-of-type {\n",
       "        vertical-align: middle;\n",
       "    }\n",
       "\n",
       "    .dataframe tbody tr th {\n",
       "        vertical-align: top;\n",
       "    }\n",
       "\n",
       "    .dataframe thead th {\n",
       "        text-align: right;\n",
       "    }\n",
       "</style>\n",
       "<table border=\"1\" class=\"dataframe\">\n",
       "  <thead>\n",
       "    <tr style=\"text-align: right;\">\n",
       "      <th></th>\n",
       "      <th>Unnamed: 0</th>\n",
       "      <th>Time</th>\n",
       "      <th>Country</th>\n",
       "      <th>Series</th>\n",
       "      <th>Pay period</th>\n",
       "      <th>value</th>\n",
       "    </tr>\n",
       "  </thead>\n",
       "  <tbody>\n",
       "    <tr>\n",
       "      <th>0</th>\n",
       "      <td>0</td>\n",
       "      <td>2006-01-01</td>\n",
       "      <td>Ireland</td>\n",
       "      <td>In 2015 constant prices at 2015 USD PPPs</td>\n",
       "      <td>Annual</td>\n",
       "      <td>17,132.44</td>\n",
       "    </tr>\n",
       "    <tr>\n",
       "      <th>1</th>\n",
       "      <td>1</td>\n",
       "      <td>2007-01-01</td>\n",
       "      <td>Ireland</td>\n",
       "      <td>In 2015 constant prices at 2015 USD PPPs</td>\n",
       "      <td>Annual</td>\n",
       "      <td>18,100.92</td>\n",
       "    </tr>\n",
       "    <tr>\n",
       "      <th>2</th>\n",
       "      <td>2</td>\n",
       "      <td>2008-01-01</td>\n",
       "      <td>Ireland</td>\n",
       "      <td>In 2015 constant prices at 2015 USD PPPs</td>\n",
       "      <td>Annual</td>\n",
       "      <td>17,747.41</td>\n",
       "    </tr>\n",
       "    <tr>\n",
       "      <th>3</th>\n",
       "      <td>3</td>\n",
       "      <td>2009-01-01</td>\n",
       "      <td>Ireland</td>\n",
       "      <td>In 2015 constant prices at 2015 USD PPPs</td>\n",
       "      <td>Annual</td>\n",
       "      <td>18,580.14</td>\n",
       "    </tr>\n",
       "    <tr>\n",
       "      <th>4</th>\n",
       "      <td>4</td>\n",
       "      <td>2010-01-01</td>\n",
       "      <td>Ireland</td>\n",
       "      <td>In 2015 constant prices at 2015 USD PPPs</td>\n",
       "      <td>Annual</td>\n",
       "      <td>18,755.83</td>\n",
       "    </tr>\n",
       "  </tbody>\n",
       "</table>\n",
       "</div>"
      ],
      "text/plain": [
       "   Unnamed: 0        Time  Country                                    Series  \\\n",
       "0           0  2006-01-01  Ireland  In 2015 constant prices at 2015 USD PPPs   \n",
       "1           1  2007-01-01  Ireland  In 2015 constant prices at 2015 USD PPPs   \n",
       "2           2  2008-01-01  Ireland  In 2015 constant prices at 2015 USD PPPs   \n",
       "3           3  2009-01-01  Ireland  In 2015 constant prices at 2015 USD PPPs   \n",
       "4           4  2010-01-01  Ireland  In 2015 constant prices at 2015 USD PPPs   \n",
       "\n",
       "  Pay period     value  \n",
       "0     Annual 17,132.44  \n",
       "1     Annual 18,100.92  \n",
       "2     Annual 17,747.41  \n",
       "3     Annual 18,580.14  \n",
       "4     Annual 18,755.83  "
      ]
     },
     "execution_count": 55,
     "metadata": {},
     "output_type": "execute_result"
    }
   ],
   "source": [
    "realwage.head()"
   ]
  },
  {
   "cell_type": "code",
   "execution_count": 56,
   "metadata": {},
   "outputs": [
    {
     "data": {
      "text/html": [
       "<div>\n",
       "<style scoped>\n",
       "    .dataframe tbody tr th:only-of-type {\n",
       "        vertical-align: middle;\n",
       "    }\n",
       "\n",
       "    .dataframe tbody tr th {\n",
       "        vertical-align: top;\n",
       "    }\n",
       "\n",
       "    .dataframe thead tr th {\n",
       "        text-align: left;\n",
       "    }\n",
       "\n",
       "    .dataframe thead tr:last-of-type th {\n",
       "        text-align: right;\n",
       "    }\n",
       "</style>\n",
       "<table border=\"1\" class=\"dataframe\">\n",
       "  <thead>\n",
       "    <tr>\n",
       "      <th>Country</th>\n",
       "      <th colspan=\"3\" halign=\"left\">Australia</th>\n",
       "      <th>...</th>\n",
       "      <th colspan=\"3\" halign=\"left\">United States</th>\n",
       "    </tr>\n",
       "    <tr>\n",
       "      <th>Series</th>\n",
       "      <th colspan=\"2\" halign=\"left\">In 2015 constant prices at 2015 USD PPPs</th>\n",
       "      <th>In 2015 constant prices at 2015 USD exchange rates</th>\n",
       "      <th>...</th>\n",
       "      <th>In 2015 constant prices at 2015 USD PPPs</th>\n",
       "      <th colspan=\"2\" halign=\"left\">In 2015 constant prices at 2015 USD exchange rates</th>\n",
       "    </tr>\n",
       "    <tr>\n",
       "      <th>Pay period</th>\n",
       "      <th>Annual</th>\n",
       "      <th>Hourly</th>\n",
       "      <th>Annual</th>\n",
       "      <th>...</th>\n",
       "      <th>Hourly</th>\n",
       "      <th>Annual</th>\n",
       "      <th>Hourly</th>\n",
       "    </tr>\n",
       "    <tr>\n",
       "      <th>Time</th>\n",
       "      <th></th>\n",
       "      <th></th>\n",
       "      <th></th>\n",
       "      <th></th>\n",
       "      <th></th>\n",
       "      <th></th>\n",
       "      <th></th>\n",
       "    </tr>\n",
       "  </thead>\n",
       "  <tbody>\n",
       "    <tr>\n",
       "      <th>2006-01-01</th>\n",
       "      <td>20,410.65</td>\n",
       "      <td>10.33</td>\n",
       "      <td>23,826.64</td>\n",
       "      <td>...</td>\n",
       "      <td>6.05</td>\n",
       "      <td>12,594.40</td>\n",
       "      <td>6.05</td>\n",
       "    </tr>\n",
       "    <tr>\n",
       "      <th>2007-01-01</th>\n",
       "      <td>21,087.57</td>\n",
       "      <td>10.67</td>\n",
       "      <td>24,616.84</td>\n",
       "      <td>...</td>\n",
       "      <td>6.24</td>\n",
       "      <td>12,974.40</td>\n",
       "      <td>6.24</td>\n",
       "    </tr>\n",
       "    <tr>\n",
       "      <th>2008-01-01</th>\n",
       "      <td>20,718.24</td>\n",
       "      <td>10.48</td>\n",
       "      <td>24,185.70</td>\n",
       "      <td>...</td>\n",
       "      <td>6.78</td>\n",
       "      <td>14,097.56</td>\n",
       "      <td>6.78</td>\n",
       "    </tr>\n",
       "    <tr>\n",
       "      <th>2009-01-01</th>\n",
       "      <td>20,984.77</td>\n",
       "      <td>10.62</td>\n",
       "      <td>24,496.84</td>\n",
       "      <td>...</td>\n",
       "      <td>7.58</td>\n",
       "      <td>15,756.42</td>\n",
       "      <td>7.58</td>\n",
       "    </tr>\n",
       "    <tr>\n",
       "      <th>2010-01-01</th>\n",
       "      <td>20,879.33</td>\n",
       "      <td>10.57</td>\n",
       "      <td>24,373.76</td>\n",
       "      <td>...</td>\n",
       "      <td>7.88</td>\n",
       "      <td>16,391.31</td>\n",
       "      <td>7.88</td>\n",
       "    </tr>\n",
       "  </tbody>\n",
       "</table>\n",
       "<p>5 rows × 128 columns</p>\n",
       "</div>"
      ],
      "text/plain": [
       "Country                                   Australia         \\\n",
       "Series     In 2015 constant prices at 2015 USD PPPs          \n",
       "Pay period                                   Annual Hourly   \n",
       "Time                                                         \n",
       "2006-01-01                                20,410.65  10.33   \n",
       "2007-01-01                                21,087.57  10.67   \n",
       "2008-01-01                                20,718.24  10.48   \n",
       "2009-01-01                                20,984.77  10.62   \n",
       "2010-01-01                                20,879.33  10.57   \n",
       "\n",
       "Country                                                        ...  \\\n",
       "Series     In 2015 constant prices at 2015 USD exchange rates  ...   \n",
       "Pay period                                             Annual  ...   \n",
       "Time                                                           ...   \n",
       "2006-01-01                                          23,826.64  ...   \n",
       "2007-01-01                                          24,616.84  ...   \n",
       "2008-01-01                                          24,185.70  ...   \n",
       "2009-01-01                                          24,496.84  ...   \n",
       "2010-01-01                                          24,373.76  ...   \n",
       "\n",
       "Country                               United States  \\\n",
       "Series     In 2015 constant prices at 2015 USD PPPs   \n",
       "Pay period                                   Hourly   \n",
       "Time                                                  \n",
       "2006-01-01                                     6.05   \n",
       "2007-01-01                                     6.24   \n",
       "2008-01-01                                     6.78   \n",
       "2009-01-01                                     7.58   \n",
       "2010-01-01                                     7.88   \n",
       "\n",
       "Country                                                               \n",
       "Series     In 2015 constant prices at 2015 USD exchange rates         \n",
       "Pay period                                             Annual Hourly  \n",
       "Time                                                                  \n",
       "2006-01-01                                          12,594.40   6.05  \n",
       "2007-01-01                                          12,974.40   6.24  \n",
       "2008-01-01                                          14,097.56   6.78  \n",
       "2009-01-01                                          15,756.42   7.58  \n",
       "2010-01-01                                          16,391.31   7.88  \n",
       "\n",
       "[5 rows x 128 columns]"
      ]
     },
     "execution_count": 56,
     "metadata": {},
     "output_type": "execute_result"
    }
   ],
   "source": [
    "realwage = realwage.pivot_table(values='value',\n",
    "                                index='Time',\n",
    "                                columns=['Country', 'Series', 'Pay period'])\n",
    "realwage.head()"
   ]
  },
  {
   "cell_type": "code",
   "execution_count": 57,
   "metadata": {},
   "outputs": [
    {
     "data": {
      "text/plain": [
       "pandas.core.indexes.datetimes.DatetimeIndex"
      ]
     },
     "execution_count": 57,
     "metadata": {},
     "output_type": "execute_result"
    }
   ],
   "source": [
    "realwage.index = pd.to_datetime(realwage.index)\n",
    "type(realwage.index)"
   ]
  },
  {
   "cell_type": "code",
   "execution_count": 58,
   "metadata": {},
   "outputs": [
    {
     "data": {
      "text/plain": [
       "pandas.core.indexes.multi.MultiIndex"
      ]
     },
     "execution_count": 58,
     "metadata": {},
     "output_type": "execute_result"
    }
   ],
   "source": [
    "type(realwage.columns)"
   ]
  },
  {
   "cell_type": "code",
   "execution_count": 59,
   "metadata": {},
   "outputs": [
    {
     "data": {
      "text/plain": [
       "FrozenList(['Country', 'Series', 'Pay period'])"
      ]
     },
     "execution_count": 59,
     "metadata": {},
     "output_type": "execute_result"
    }
   ],
   "source": [
    "realwage.columns.names"
   ]
  },
  {
   "cell_type": "code",
   "execution_count": 60,
   "metadata": {},
   "outputs": [
    {
     "data": {
      "text/html": [
       "<div>\n",
       "<style scoped>\n",
       "    .dataframe tbody tr th:only-of-type {\n",
       "        vertical-align: middle;\n",
       "    }\n",
       "\n",
       "    .dataframe tbody tr th {\n",
       "        vertical-align: top;\n",
       "    }\n",
       "\n",
       "    .dataframe thead tr th {\n",
       "        text-align: left;\n",
       "    }\n",
       "\n",
       "    .dataframe thead tr:last-of-type th {\n",
       "        text-align: right;\n",
       "    }\n",
       "</style>\n",
       "<table border=\"1\" class=\"dataframe\">\n",
       "  <thead>\n",
       "    <tr>\n",
       "      <th>Series</th>\n",
       "      <th colspan=\"2\" halign=\"left\">In 2015 constant prices at 2015 USD PPPs</th>\n",
       "      <th colspan=\"2\" halign=\"left\">In 2015 constant prices at 2015 USD exchange rates</th>\n",
       "    </tr>\n",
       "    <tr>\n",
       "      <th>Pay period</th>\n",
       "      <th>Annual</th>\n",
       "      <th>Hourly</th>\n",
       "      <th>Annual</th>\n",
       "      <th>Hourly</th>\n",
       "    </tr>\n",
       "    <tr>\n",
       "      <th>Time</th>\n",
       "      <th></th>\n",
       "      <th></th>\n",
       "      <th></th>\n",
       "      <th></th>\n",
       "    </tr>\n",
       "  </thead>\n",
       "  <tbody>\n",
       "    <tr>\n",
       "      <th>2006-01-01</th>\n",
       "      <td>12,594.40</td>\n",
       "      <td>6.05</td>\n",
       "      <td>12,594.40</td>\n",
       "      <td>6.05</td>\n",
       "    </tr>\n",
       "    <tr>\n",
       "      <th>2007-01-01</th>\n",
       "      <td>12,974.40</td>\n",
       "      <td>6.24</td>\n",
       "      <td>12,974.40</td>\n",
       "      <td>6.24</td>\n",
       "    </tr>\n",
       "    <tr>\n",
       "      <th>2008-01-01</th>\n",
       "      <td>14,097.56</td>\n",
       "      <td>6.78</td>\n",
       "      <td>14,097.56</td>\n",
       "      <td>6.78</td>\n",
       "    </tr>\n",
       "    <tr>\n",
       "      <th>2009-01-01</th>\n",
       "      <td>15,756.42</td>\n",
       "      <td>7.58</td>\n",
       "      <td>15,756.42</td>\n",
       "      <td>7.58</td>\n",
       "    </tr>\n",
       "    <tr>\n",
       "      <th>2010-01-01</th>\n",
       "      <td>16,391.31</td>\n",
       "      <td>7.88</td>\n",
       "      <td>16,391.31</td>\n",
       "      <td>7.88</td>\n",
       "    </tr>\n",
       "  </tbody>\n",
       "</table>\n",
       "</div>"
      ],
      "text/plain": [
       "Series     In 2015 constant prices at 2015 USD PPPs         \\\n",
       "Pay period                                   Annual Hourly   \n",
       "Time                                                         \n",
       "2006-01-01                                12,594.40   6.05   \n",
       "2007-01-01                                12,974.40   6.24   \n",
       "2008-01-01                                14,097.56   6.78   \n",
       "2009-01-01                                15,756.42   7.58   \n",
       "2010-01-01                                16,391.31   7.88   \n",
       "\n",
       "Series     In 2015 constant prices at 2015 USD exchange rates         \n",
       "Pay period                                             Annual Hourly  \n",
       "Time                                                                  \n",
       "2006-01-01                                          12,594.40   6.05  \n",
       "2007-01-01                                          12,974.40   6.24  \n",
       "2008-01-01                                          14,097.56   6.78  \n",
       "2009-01-01                                          15,756.42   7.58  \n",
       "2010-01-01                                          16,391.31   7.88  "
      ]
     },
     "execution_count": 60,
     "metadata": {},
     "output_type": "execute_result"
    }
   ],
   "source": [
    "realwage['United States'].head()"
   ]
  },
  {
   "cell_type": "code",
   "execution_count": 61,
   "metadata": {},
   "outputs": [
    {
     "data": {
      "text/html": [
       "<div>\n",
       "<style scoped>\n",
       "    .dataframe tbody tr th:only-of-type {\n",
       "        vertical-align: middle;\n",
       "    }\n",
       "\n",
       "    .dataframe tbody tr th {\n",
       "        vertical-align: top;\n",
       "    }\n",
       "\n",
       "    .dataframe thead tr th {\n",
       "        text-align: left;\n",
       "    }\n",
       "\n",
       "    .dataframe thead tr:last-of-type th {\n",
       "        text-align: right;\n",
       "    }\n",
       "</style>\n",
       "<table border=\"1\" class=\"dataframe\">\n",
       "  <thead>\n",
       "    <tr>\n",
       "      <th></th>\n",
       "      <th>Country</th>\n",
       "      <th colspan=\"2\" halign=\"left\">Australia</th>\n",
       "      <th>Belgium</th>\n",
       "      <th>...</th>\n",
       "      <th>United Kingdom</th>\n",
       "      <th colspan=\"2\" halign=\"left\">United States</th>\n",
       "    </tr>\n",
       "    <tr>\n",
       "      <th></th>\n",
       "      <th>Series</th>\n",
       "      <th>In 2015 constant prices at 2015 USD PPPs</th>\n",
       "      <th>In 2015 constant prices at 2015 USD exchange rates</th>\n",
       "      <th>In 2015 constant prices at 2015 USD PPPs</th>\n",
       "      <th>...</th>\n",
       "      <th>In 2015 constant prices at 2015 USD exchange rates</th>\n",
       "      <th>In 2015 constant prices at 2015 USD PPPs</th>\n",
       "      <th>In 2015 constant prices at 2015 USD exchange rates</th>\n",
       "    </tr>\n",
       "    <tr>\n",
       "      <th>Time</th>\n",
       "      <th>Pay period</th>\n",
       "      <th></th>\n",
       "      <th></th>\n",
       "      <th></th>\n",
       "      <th></th>\n",
       "      <th></th>\n",
       "      <th></th>\n",
       "      <th></th>\n",
       "    </tr>\n",
       "  </thead>\n",
       "  <tbody>\n",
       "    <tr>\n",
       "      <th rowspan=\"2\" valign=\"top\">2006-01-01</th>\n",
       "      <th>Annual</th>\n",
       "      <td>20,410.65</td>\n",
       "      <td>23,826.64</td>\n",
       "      <td>21,042.28</td>\n",
       "      <td>...</td>\n",
       "      <td>20,376.32</td>\n",
       "      <td>12,594.40</td>\n",
       "      <td>12,594.40</td>\n",
       "    </tr>\n",
       "    <tr>\n",
       "      <th>Hourly</th>\n",
       "      <td>10.33</td>\n",
       "      <td>12.06</td>\n",
       "      <td>10.09</td>\n",
       "      <td>...</td>\n",
       "      <td>9.81</td>\n",
       "      <td>6.05</td>\n",
       "      <td>6.05</td>\n",
       "    </tr>\n",
       "    <tr>\n",
       "      <th rowspan=\"2\" valign=\"top\">2007-01-01</th>\n",
       "      <th>Annual</th>\n",
       "      <td>21,087.57</td>\n",
       "      <td>24,616.84</td>\n",
       "      <td>21,310.05</td>\n",
       "      <td>...</td>\n",
       "      <td>20,954.13</td>\n",
       "      <td>12,974.40</td>\n",
       "      <td>12,974.40</td>\n",
       "    </tr>\n",
       "    <tr>\n",
       "      <th>Hourly</th>\n",
       "      <td>10.67</td>\n",
       "      <td>12.46</td>\n",
       "      <td>10.22</td>\n",
       "      <td>...</td>\n",
       "      <td>10.07</td>\n",
       "      <td>6.24</td>\n",
       "      <td>6.24</td>\n",
       "    </tr>\n",
       "    <tr>\n",
       "      <th>2008-01-01</th>\n",
       "      <th>Annual</th>\n",
       "      <td>20,718.24</td>\n",
       "      <td>24,185.70</td>\n",
       "      <td>21,416.96</td>\n",
       "      <td>...</td>\n",
       "      <td>20,902.87</td>\n",
       "      <td>14,097.56</td>\n",
       "      <td>14,097.56</td>\n",
       "    </tr>\n",
       "  </tbody>\n",
       "</table>\n",
       "<p>5 rows × 64 columns</p>\n",
       "</div>"
      ],
      "text/plain": [
       "Country                                              Australia  \\\n",
       "Series                In 2015 constant prices at 2015 USD PPPs   \n",
       "Time       Pay period                                            \n",
       "2006-01-01 Annual                                    20,410.65   \n",
       "           Hourly                                        10.33   \n",
       "2007-01-01 Annual                                    21,087.57   \n",
       "           Hourly                                        10.67   \n",
       "2008-01-01 Annual                                    20,718.24   \n",
       "\n",
       "Country                                                                   \\\n",
       "Series                In 2015 constant prices at 2015 USD exchange rates   \n",
       "Time       Pay period                                                      \n",
       "2006-01-01 Annual                                              23,826.64   \n",
       "           Hourly                                                  12.06   \n",
       "2007-01-01 Annual                                              24,616.84   \n",
       "           Hourly                                                  12.46   \n",
       "2008-01-01 Annual                                              24,185.70   \n",
       "\n",
       "Country                                                Belgium  ...  \\\n",
       "Series                In 2015 constant prices at 2015 USD PPPs  ...   \n",
       "Time       Pay period                                           ...   \n",
       "2006-01-01 Annual                                    21,042.28  ...   \n",
       "           Hourly                                        10.09  ...   \n",
       "2007-01-01 Annual                                    21,310.05  ...   \n",
       "           Hourly                                        10.22  ...   \n",
       "2008-01-01 Annual                                    21,416.96  ...   \n",
       "\n",
       "Country                                                   United Kingdom  \\\n",
       "Series                In 2015 constant prices at 2015 USD exchange rates   \n",
       "Time       Pay period                                                      \n",
       "2006-01-01 Annual                                              20,376.32   \n",
       "           Hourly                                                   9.81   \n",
       "2007-01-01 Annual                                              20,954.13   \n",
       "           Hourly                                                  10.07   \n",
       "2008-01-01 Annual                                              20,902.87   \n",
       "\n",
       "Country                                          United States  \\\n",
       "Series                In 2015 constant prices at 2015 USD PPPs   \n",
       "Time       Pay period                                            \n",
       "2006-01-01 Annual                                    12,594.40   \n",
       "           Hourly                                         6.05   \n",
       "2007-01-01 Annual                                    12,974.40   \n",
       "           Hourly                                         6.24   \n",
       "2008-01-01 Annual                                    14,097.56   \n",
       "\n",
       "Country                                                                   \n",
       "Series                In 2015 constant prices at 2015 USD exchange rates  \n",
       "Time       Pay period                                                     \n",
       "2006-01-01 Annual                                              12,594.40  \n",
       "           Hourly                                                   6.05  \n",
       "2007-01-01 Annual                                              12,974.40  \n",
       "           Hourly                                                   6.24  \n",
       "2008-01-01 Annual                                              14,097.56  \n",
       "\n",
       "[5 rows x 64 columns]"
      ]
     },
     "execution_count": 61,
     "metadata": {},
     "output_type": "execute_result"
    }
   ],
   "source": [
    "# .stack() rotates the lowest level of the column MultiIndex to the row index\n",
    "realwage.stack().head()"
   ]
  },
  {
   "cell_type": "code",
   "execution_count": 62,
   "metadata": {},
   "outputs": [
    {
     "data": {
      "text/html": [
       "<div>\n",
       "<style scoped>\n",
       "    .dataframe tbody tr th:only-of-type {\n",
       "        vertical-align: middle;\n",
       "    }\n",
       "\n",
       "    .dataframe tbody tr th {\n",
       "        vertical-align: top;\n",
       "    }\n",
       "\n",
       "    .dataframe thead tr th {\n",
       "        text-align: left;\n",
       "    }\n",
       "\n",
       "    .dataframe thead tr:last-of-type th {\n",
       "        text-align: right;\n",
       "    }\n",
       "</style>\n",
       "<table border=\"1\" class=\"dataframe\">\n",
       "  <thead>\n",
       "    <tr>\n",
       "      <th></th>\n",
       "      <th>Series</th>\n",
       "      <th colspan=\"2\" halign=\"left\">In 2015 constant prices at 2015 USD PPPs</th>\n",
       "      <th colspan=\"2\" halign=\"left\">In 2015 constant prices at 2015 USD exchange rates</th>\n",
       "    </tr>\n",
       "    <tr>\n",
       "      <th></th>\n",
       "      <th>Pay period</th>\n",
       "      <th>Annual</th>\n",
       "      <th>Hourly</th>\n",
       "      <th>Annual</th>\n",
       "      <th>Hourly</th>\n",
       "    </tr>\n",
       "    <tr>\n",
       "      <th>Time</th>\n",
       "      <th>Country</th>\n",
       "      <th></th>\n",
       "      <th></th>\n",
       "      <th></th>\n",
       "      <th></th>\n",
       "    </tr>\n",
       "  </thead>\n",
       "  <tbody>\n",
       "    <tr>\n",
       "      <th rowspan=\"5\" valign=\"top\">2006-01-01</th>\n",
       "      <th>Australia</th>\n",
       "      <td>20,410.65</td>\n",
       "      <td>10.33</td>\n",
       "      <td>23,826.64</td>\n",
       "      <td>12.06</td>\n",
       "    </tr>\n",
       "    <tr>\n",
       "      <th>Belgium</th>\n",
       "      <td>21,042.28</td>\n",
       "      <td>10.09</td>\n",
       "      <td>20,228.74</td>\n",
       "      <td>9.70</td>\n",
       "    </tr>\n",
       "    <tr>\n",
       "      <th>Brazil</th>\n",
       "      <td>3,310.51</td>\n",
       "      <td>1.41</td>\n",
       "      <td>2,032.87</td>\n",
       "      <td>0.87</td>\n",
       "    </tr>\n",
       "    <tr>\n",
       "      <th>Canada</th>\n",
       "      <td>13,649.69</td>\n",
       "      <td>6.56</td>\n",
       "      <td>14,335.12</td>\n",
       "      <td>6.89</td>\n",
       "    </tr>\n",
       "    <tr>\n",
       "      <th>Chile</th>\n",
       "      <td>5,201.65</td>\n",
       "      <td>2.22</td>\n",
       "      <td>3,333.76</td>\n",
       "      <td>1.42</td>\n",
       "    </tr>\n",
       "  </tbody>\n",
       "</table>\n",
       "</div>"
      ],
      "text/plain": [
       "Series               In 2015 constant prices at 2015 USD PPPs         \\\n",
       "Pay period                                             Annual Hourly   \n",
       "Time       Country                                                     \n",
       "2006-01-01 Australia                                20,410.65  10.33   \n",
       "           Belgium                                  21,042.28  10.09   \n",
       "           Brazil                                    3,310.51   1.41   \n",
       "           Canada                                   13,649.69   6.56   \n",
       "           Chile                                     5,201.65   2.22   \n",
       "\n",
       "Series               In 2015 constant prices at 2015 USD exchange rates         \n",
       "Pay period                                                       Annual Hourly  \n",
       "Time       Country                                                              \n",
       "2006-01-01 Australia                                          23,826.64  12.06  \n",
       "           Belgium                                            20,228.74   9.70  \n",
       "           Brazil                                              2,032.87   0.87  \n",
       "           Canada                                             14,335.12   6.89  \n",
       "           Chile                                               3,333.76   1.42  "
      ]
     },
     "execution_count": 62,
     "metadata": {},
     "output_type": "execute_result"
    }
   ],
   "source": [
    "realwage.stack(level='Country').head()"
   ]
  },
  {
   "cell_type": "code",
   "execution_count": 63,
   "metadata": {},
   "outputs": [
    {
     "data": {
      "text/html": [
       "<div>\n",
       "<style scoped>\n",
       "    .dataframe tbody tr th:only-of-type {\n",
       "        vertical-align: middle;\n",
       "    }\n",
       "\n",
       "    .dataframe tbody tr th {\n",
       "        vertical-align: top;\n",
       "    }\n",
       "\n",
       "    .dataframe thead tr th {\n",
       "        text-align: left;\n",
       "    }\n",
       "\n",
       "    .dataframe thead tr:last-of-type th {\n",
       "        text-align: right;\n",
       "    }\n",
       "</style>\n",
       "<table border=\"1\" class=\"dataframe\">\n",
       "  <thead>\n",
       "    <tr>\n",
       "      <th>Time</th>\n",
       "      <th colspan=\"4\" halign=\"left\">2015-01-01</th>\n",
       "    </tr>\n",
       "    <tr>\n",
       "      <th>Series</th>\n",
       "      <th colspan=\"2\" halign=\"left\">In 2015 constant prices at 2015 USD PPPs</th>\n",
       "      <th colspan=\"2\" halign=\"left\">In 2015 constant prices at 2015 USD exchange rates</th>\n",
       "    </tr>\n",
       "    <tr>\n",
       "      <th>Pay period</th>\n",
       "      <th>Annual</th>\n",
       "      <th>Hourly</th>\n",
       "      <th>Annual</th>\n",
       "      <th>Hourly</th>\n",
       "    </tr>\n",
       "    <tr>\n",
       "      <th>Country</th>\n",
       "      <th></th>\n",
       "      <th></th>\n",
       "      <th></th>\n",
       "      <th></th>\n",
       "    </tr>\n",
       "  </thead>\n",
       "  <tbody>\n",
       "    <tr>\n",
       "      <th>Australia</th>\n",
       "      <td>21,715.53</td>\n",
       "      <td>10.99</td>\n",
       "      <td>25,349.90</td>\n",
       "      <td>12.83</td>\n",
       "    </tr>\n",
       "    <tr>\n",
       "      <th>Belgium</th>\n",
       "      <td>21,588.12</td>\n",
       "      <td>10.35</td>\n",
       "      <td>20,753.48</td>\n",
       "      <td>9.95</td>\n",
       "    </tr>\n",
       "    <tr>\n",
       "      <th>Brazil</th>\n",
       "      <td>4,628.63</td>\n",
       "      <td>2.00</td>\n",
       "      <td>2,842.28</td>\n",
       "      <td>1.21</td>\n",
       "    </tr>\n",
       "    <tr>\n",
       "      <th>Canada</th>\n",
       "      <td>16,536.83</td>\n",
       "      <td>7.95</td>\n",
       "      <td>17,367.24</td>\n",
       "      <td>8.35</td>\n",
       "    </tr>\n",
       "    <tr>\n",
       "      <th>Chile</th>\n",
       "      <td>6,633.56</td>\n",
       "      <td>2.80</td>\n",
       "      <td>4,251.49</td>\n",
       "      <td>1.81</td>\n",
       "    </tr>\n",
       "  </tbody>\n",
       "</table>\n",
       "</div>"
      ],
      "text/plain": [
       "Time                                     2015-01-01         \\\n",
       "Series     In 2015 constant prices at 2015 USD PPPs          \n",
       "Pay period                                   Annual Hourly   \n",
       "Country                                                      \n",
       "Australia                                 21,715.53  10.99   \n",
       "Belgium                                   21,588.12  10.35   \n",
       "Brazil                                     4,628.63   2.00   \n",
       "Canada                                    16,536.83   7.95   \n",
       "Chile                                      6,633.56   2.80   \n",
       "\n",
       "Time                                                                  \n",
       "Series     In 2015 constant prices at 2015 USD exchange rates         \n",
       "Pay period                                             Annual Hourly  \n",
       "Country                                                               \n",
       "Australia                                           25,349.90  12.83  \n",
       "Belgium                                             20,753.48   9.95  \n",
       "Brazil                                               2,842.28   1.21  \n",
       "Canada                                              17,367.24   8.35  \n",
       "Chile                                                4,251.49   1.81  "
      ]
     },
     "execution_count": 63,
     "metadata": {},
     "output_type": "execute_result"
    }
   ],
   "source": [
    "realwage['2015'].stack(level=(1, 2)).transpose().head()"
   ]
  },
  {
   "cell_type": "code",
   "execution_count": 64,
   "metadata": {},
   "outputs": [
    {
     "data": {
      "text/html": [
       "<div>\n",
       "<style scoped>\n",
       "    .dataframe tbody tr th:only-of-type {\n",
       "        vertical-align: middle;\n",
       "    }\n",
       "\n",
       "    .dataframe tbody tr th {\n",
       "        vertical-align: top;\n",
       "    }\n",
       "\n",
       "    .dataframe thead th {\n",
       "        text-align: right;\n",
       "    }\n",
       "</style>\n",
       "<table border=\"1\" class=\"dataframe\">\n",
       "  <thead>\n",
       "    <tr style=\"text-align: right;\">\n",
       "      <th>Country</th>\n",
       "      <th>Australia</th>\n",
       "      <th>Belgium</th>\n",
       "      <th>Brazil</th>\n",
       "      <th>...</th>\n",
       "      <th>Turkey</th>\n",
       "      <th>United Kingdom</th>\n",
       "      <th>United States</th>\n",
       "    </tr>\n",
       "    <tr>\n",
       "      <th>Time</th>\n",
       "      <th></th>\n",
       "      <th></th>\n",
       "      <th></th>\n",
       "      <th></th>\n",
       "      <th></th>\n",
       "      <th></th>\n",
       "      <th></th>\n",
       "    </tr>\n",
       "  </thead>\n",
       "  <tbody>\n",
       "    <tr>\n",
       "      <th>2006-01-01</th>\n",
       "      <td>12.06</td>\n",
       "      <td>9.70</td>\n",
       "      <td>0.87</td>\n",
       "      <td>...</td>\n",
       "      <td>2.27</td>\n",
       "      <td>9.81</td>\n",
       "      <td>6.05</td>\n",
       "    </tr>\n",
       "    <tr>\n",
       "      <th>2007-01-01</th>\n",
       "      <td>12.46</td>\n",
       "      <td>9.82</td>\n",
       "      <td>0.92</td>\n",
       "      <td>...</td>\n",
       "      <td>2.26</td>\n",
       "      <td>10.07</td>\n",
       "      <td>6.24</td>\n",
       "    </tr>\n",
       "    <tr>\n",
       "      <th>2008-01-01</th>\n",
       "      <td>12.24</td>\n",
       "      <td>9.87</td>\n",
       "      <td>0.96</td>\n",
       "      <td>...</td>\n",
       "      <td>2.22</td>\n",
       "      <td>10.04</td>\n",
       "      <td>6.78</td>\n",
       "    </tr>\n",
       "    <tr>\n",
       "      <th>2009-01-01</th>\n",
       "      <td>12.40</td>\n",
       "      <td>10.21</td>\n",
       "      <td>1.03</td>\n",
       "      <td>...</td>\n",
       "      <td>2.28</td>\n",
       "      <td>10.15</td>\n",
       "      <td>7.58</td>\n",
       "    </tr>\n",
       "    <tr>\n",
       "      <th>2010-01-01</th>\n",
       "      <td>12.34</td>\n",
       "      <td>10.05</td>\n",
       "      <td>1.08</td>\n",
       "      <td>...</td>\n",
       "      <td>2.30</td>\n",
       "      <td>9.96</td>\n",
       "      <td>7.88</td>\n",
       "    </tr>\n",
       "  </tbody>\n",
       "</table>\n",
       "<p>5 rows × 32 columns</p>\n",
       "</div>"
      ],
      "text/plain": [
       "Country     Australia  Belgium  Brazil  ...  Turkey  United Kingdom  \\\n",
       "Time                                    ...                           \n",
       "2006-01-01      12.06     9.70    0.87  ...    2.27            9.81   \n",
       "2007-01-01      12.46     9.82    0.92  ...    2.26           10.07   \n",
       "2008-01-01      12.24     9.87    0.96  ...    2.22           10.04   \n",
       "2009-01-01      12.40    10.21    1.03  ...    2.28           10.15   \n",
       "2010-01-01      12.34    10.05    1.08  ...    2.30            9.96   \n",
       "\n",
       "Country     United States  \n",
       "Time                       \n",
       "2006-01-01           6.05  \n",
       "2007-01-01           6.24  \n",
       "2008-01-01           6.78  \n",
       "2009-01-01           7.58  \n",
       "2010-01-01           7.88  \n",
       "\n",
       "[5 rows x 32 columns]"
      ]
     },
     "execution_count": 64,
     "metadata": {},
     "output_type": "execute_result"
    }
   ],
   "source": [
    "realwage_f = realwage.xs(('Hourly', 'In 2015 constant prices at 2015 USD exchange rates'),\n",
    "                         level=('Pay period', 'Series'), axis=1)\n",
    "realwage_f.head()"
   ]
  },
  {
   "cell_type": "markdown",
   "metadata": {},
   "source": [
    "# Mixed Effect Linear Model"
   ]
  },
  {
   "cell_type": "code",
   "execution_count": 76,
   "metadata": {},
   "outputs": [
    {
     "name": "stdout",
     "output_type": "stream",
     "text": [
      "         Mixed Linear Model Regression Results\n",
      "========================================================\n",
      "Model:            MixedLM Dependent Variable: Weight    \n",
      "No. Observations: 789     Method:             REML      \n",
      "No. Groups:       72      Scale:              7.3643    \n",
      "Min. group size:  10      Likelihood:         -2050.9717\n",
      "Max. group size:  11      Converged:          Yes       \n",
      "Mean group size:  11.0                                  \n",
      "--------------------------------------------------------\n",
      "              Coef.  Std.Err.   z    P>|z| [0.025 0.975]\n",
      "--------------------------------------------------------\n",
      "Intercept     19.948    0.796 25.048 0.000 18.387 21.509\n",
      "Time           4.303    0.186 23.103 0.000  3.938  4.669\n",
      "Feed           0.172    0.011 15.259 0.000  0.150  0.195\n",
      "Group Var     31.836    2.125                           \n",
      "========================================================\n",
      "\n"
     ]
    }
   ],
   "source": [
    "import statsmodels.api as sm\n",
    "import statsmodels.formula.api as smf\n",
    "\n",
    "data = sm.datasets.get_rdataset(\"dietox\", \"geepack\").data\n",
    "md = smf.mixedlm(\"Weight ~ Time + Feed\", data, groups=data[\"Pig\"], missing='drop')\n",
    "mdf = md.fit()\n",
    "print(mdf.summary())"
   ]
  },
  {
   "cell_type": "markdown",
   "metadata": {},
   "source": [
    "```python\n",
    "- compute.[use_bottleneck, use_numexpr]\n",
    "- display.[chop_threshold, colheader_justify, column_space, date_dayfirst,\n",
    "  date_yearfirst, encoding, expand_frame_repr, float_format]\n",
    "- display.html.[border, table_schema, use_mathjax]\n",
    "- display.[large_repr]\n",
    "- display.latex.[escape, longtable, multicolumn, multicolumn_format, multirow,\n",
    "  repr]\n",
    "- display.[max_categories, max_columns, max_colwidth, max_info_columns,\n",
    "  max_info_rows, max_rows, max_seq_items, memory_usage, multi_sparse,\n",
    "  notebook_repr_html, pprint_nest_depth, precision, show_dimensions]\n",
    "- display.unicode.[ambiguous_as_wide, east_asian_width]\n",
    "- display.[width]\n",
    "- html.[border]\n",
    "- io.excel.xls.[writer]\n",
    "- io.excel.xlsm.[writer]\n",
    "- io.excel.xlsx.[writer]\n",
    "- io.hdf.[default_format, dropna_table]\n",
    "- io.parquet.[engine]\n",
    "- mode.[chained_assignment, sim_interactive, use_inf_as_na, use_inf_as_null]\n",
    "- plotting.matplotlib.[register_converters]\n",
    "```"
   ]
  },
  {
   "cell_type": "code",
   "execution_count": 85,
   "metadata": {},
   "outputs": [
    {
     "data": {
      "text/html": [
       "<div>\n",
       "<style scoped>\n",
       "    .dataframe tbody tr th:only-of-type {\n",
       "        vertical-align: middle;\n",
       "    }\n",
       "\n",
       "    .dataframe tbody tr th {\n",
       "        vertical-align: top;\n",
       "    }\n",
       "\n",
       "    .dataframe thead th {\n",
       "        text-align: right;\n",
       "    }\n",
       "</style>\n",
       "<table border=\"1\" class=\"dataframe\">\n",
       "  <thead>\n",
       "    <tr style=\"text-align: right;\">\n",
       "      <th></th>\n",
       "      <th>Weight</th>\n",
       "      <th>Feed</th>\n",
       "      <th>Time</th>\n",
       "      <th>Pig</th>\n",
       "      <th>Evit</th>\n",
       "      <th>Cu</th>\n",
       "      <th>Litter</th>\n",
       "    </tr>\n",
       "  </thead>\n",
       "  <tbody>\n",
       "    <tr>\n",
       "      <th>0</th>\n",
       "      <td>26.50</td>\n",
       "      <td>nan</td>\n",
       "      <td>1</td>\n",
       "      <td>4601</td>\n",
       "      <td>1</td>\n",
       "      <td>1</td>\n",
       "      <td>1</td>\n",
       "    </tr>\n",
       "    <tr>\n",
       "      <th>1</th>\n",
       "      <td>27.60</td>\n",
       "      <td>5.20</td>\n",
       "      <td>2</td>\n",
       "      <td>4601</td>\n",
       "      <td>1</td>\n",
       "      <td>1</td>\n",
       "      <td>1</td>\n",
       "    </tr>\n",
       "    <tr>\n",
       "      <th>2</th>\n",
       "      <td>36.50</td>\n",
       "      <td>17.60</td>\n",
       "      <td>3</td>\n",
       "      <td>4601</td>\n",
       "      <td>1</td>\n",
       "      <td>1</td>\n",
       "      <td>1</td>\n",
       "    </tr>\n",
       "    <tr>\n",
       "      <th>3</th>\n",
       "      <td>40.30</td>\n",
       "      <td>28.50</td>\n",
       "      <td>4</td>\n",
       "      <td>4601</td>\n",
       "      <td>1</td>\n",
       "      <td>1</td>\n",
       "      <td>1</td>\n",
       "    </tr>\n",
       "    <tr>\n",
       "      <th>4</th>\n",
       "      <td>49.10</td>\n",
       "      <td>45.20</td>\n",
       "      <td>5</td>\n",
       "      <td>4601</td>\n",
       "      <td>1</td>\n",
       "      <td>1</td>\n",
       "      <td>1</td>\n",
       "    </tr>\n",
       "  </tbody>\n",
       "</table>\n",
       "</div>"
      ],
      "text/plain": [
       "   Weight  Feed  Time   Pig  Evit  Cu  Litter\n",
       "0   26.50   nan     1  4601     1   1       1\n",
       "1   27.60  5.20     2  4601     1   1       1\n",
       "2   36.50 17.60     3  4601     1   1       1\n",
       "3   40.30 28.50     4  4601     1   1       1\n",
       "4   49.10 45.20     5  4601     1   1       1"
      ]
     },
     "execution_count": 85,
     "metadata": {},
     "output_type": "execute_result"
    }
   ],
   "source": [
    "pd.set_option('display.max_columns', 20)\n",
    "data.dropna(inplace=True)\n",
    "data.head()"
   ]
  },
  {
   "cell_type": "markdown",
   "metadata": {},
   "source": [
    "# Multi-Task ElasticNet"
   ]
  },
  {
   "cell_type": "code",
   "execution_count": 77,
   "metadata": {},
   "outputs": [],
   "source": [
    "from sklearn import linear_model"
   ]
  },
  {
   "cell_type": "code",
   "execution_count": 94,
   "metadata": {},
   "outputs": [],
   "source": [
    "clf = linear_model.MultiTaskElasticNetCV(cv=5, n_jobs=-1)"
   ]
  },
  {
   "cell_type": "code",
   "execution_count": 100,
   "metadata": {},
   "outputs": [
    {
     "data": {
      "text/plain": [
       "MultiTaskElasticNetCV(alphas=None, copy_X=True, cv=5, eps=0.001,\n",
       "           fit_intercept=True, l1_ratio=0.5, max_iter=1000, n_alphas=100,\n",
       "           n_jobs=-1, normalize=False, random_state=None,\n",
       "           selection='cyclic', tol=0.0001, verbose=0)"
      ]
     },
     "execution_count": 100,
     "metadata": {},
     "output_type": "execute_result"
    }
   ],
   "source": [
    "clf.fit(data[['Feed']], data[['Weight', 'Feed']])"
   ]
  },
  {
   "cell_type": "code",
   "execution_count": 101,
   "metadata": {},
   "outputs": [
    {
     "data": {
      "text/plain": [
       "array([[0.43112407],\n",
       "       [0.99791294]])"
      ]
     },
     "execution_count": 101,
     "metadata": {},
     "output_type": "execute_result"
    }
   ],
   "source": [
    "clf.coef_"
   ]
  },
  {
   "cell_type": "code",
   "execution_count": 133,
   "metadata": {},
   "outputs": [],
   "source": [
    "from IPython.display import set_matplotlib_formats\n",
    "set_matplotlib_formats('retina')"
   ]
  },
  {
   "cell_type": "markdown",
   "metadata": {},
   "source": [
    "# Multi-Task Lasso\n",
    "\n",
    "- Fit multiple regression jointly enforcing identical features across tasks\n",
    "- Example each task a time instant\n",
    "- Imposing features selected (lasso) at one instant selected for all time\n",
    "- Making feature selection by Lasso more stable"
   ]
  },
  {
   "cell_type": "code",
   "execution_count": 102,
   "metadata": {},
   "outputs": [],
   "source": [
    "import matplotlib.pyplot as plt\n",
    "from sklearn.linear_model import MultiTaskLasso, Lasso"
   ]
  },
  {
   "cell_type": "code",
   "execution_count": 103,
   "metadata": {},
   "outputs": [],
   "source": [
    "rng = np.random.RandomState(42)"
   ]
  },
  {
   "cell_type": "code",
   "execution_count": 182,
   "metadata": {},
   "outputs": [],
   "source": [
    "n_samples, n_features, n_tasks = 100, 30, 40\n",
    "n_relevant_features = 10\n",
    "coef = np.zeros((n_tasks, n_features))\n",
    "times = np.linspace(0, 2 * np.pi, n_tasks)\n",
    "for k in range(n_relevant_features):\n",
    "    coef[:, k] = np.sin((1. + rng.randn(1)) * times + 3 * rng.randn(1))"
   ]
  },
  {
   "cell_type": "code",
   "execution_count": 183,
   "metadata": {},
   "outputs": [
    {
     "data": {
      "image/png": "[encoded data removed]",
      "text/plain": [
       "<Figure size 432x288 with 1 Axes>"
      ]
     },
     "metadata": {
      "image/png": {
       "height": 250,
       "width": 388
      },
      "needs_background": "light"
     },
     "output_type": "display_data"
    }
   ],
   "source": [
    "plt.plot(coef);"
   ]
  },
  {
   "cell_type": "code",
   "execution_count": 184,
   "metadata": {},
   "outputs": [],
   "source": [
    "X = rng.randn(n_samples, n_features)\n",
    "Y = np.dot(X, coef.T) + rng.randn(n_samples, n_tasks)"
   ]
  },
  {
   "cell_type": "code",
   "execution_count": 185,
   "metadata": {},
   "outputs": [],
   "source": [
    "coef_lasso_ = np.array([Lasso(alpha=0.5).fit(X, y).coef_ for y in Y.T])"
   ]
  },
  {
   "cell_type": "code",
   "execution_count": 186,
   "metadata": {},
   "outputs": [],
   "source": [
    "coef_multi_task_lasso_ = MultiTaskLasso(alpha=1.).fit(X, Y).coef_"
   ]
  },
  {
   "cell_type": "code",
   "execution_count": 206,
   "metadata": {},
   "outputs": [],
   "source": [
    "coef_multi_task_lasso_cv_ = linear_model.MultiTaskLassoCV(cv=5).fit(X, Y).coef_"
   ]
  },
  {
   "cell_type": "code",
   "execution_count": 200,
   "metadata": {},
   "outputs": [
    {
     "data": {
      "text/plain": [
       "MultiTaskElasticNetCV(alphas=None, copy_X=True, cv=5, eps=0.001,\n",
       "           fit_intercept=True, l1_ratio=0.5, max_iter=1000, n_alphas=100,\n",
       "           n_jobs=-1, normalize=False, random_state=None,\n",
       "           selection='cyclic', tol=0.0001, verbose=0)"
      ]
     },
     "execution_count": 200,
     "metadata": {},
     "output_type": "execute_result"
    }
   ],
   "source": [
    "# MultiTask ElasticNet\n",
    "clf.fit(X, Y)"
   ]
  },
  {
   "cell_type": "code",
   "execution_count": 201,
   "metadata": {},
   "outputs": [
    {
     "data": {
      "text/plain": [
       "(40, 30)"
      ]
     },
     "execution_count": 201,
     "metadata": {},
     "output_type": "execute_result"
    }
   ],
   "source": [
    "clf.coef_.shape"
   ]
  },
  {
   "cell_type": "code",
   "execution_count": 209,
   "metadata": {},
   "outputs": [
    {
     "data": {
      "text/plain": [
       "Text(0.5, 0.98, 'Coefficient non-zero location')"
      ]
     },
     "execution_count": 209,
     "metadata": {},
     "output_type": "execute_result"
    },
    {
     "data": {
      "image/png": "[encoded data removed]",
      "text/plain": [
       "<Figure size 576x360 with 4 Axes>"
      ]
     },
     "metadata": {
      "image/png": {
       "height": 264,
       "width": 532
      },
      "needs_background": "light"
     },
     "output_type": "display_data"
    }
   ],
   "source": [
    "fig = plt.figure(figsize=(8, 5))\n",
    "plt.subplot(1, 4, 1)\n",
    "plt.spy(coef_lasso_)\n",
    "plt.xlabel('Feature')\n",
    "plt.ylabel('Time (or Tasks)')\n",
    "plt.text(10, 5, 'Lasso')\n",
    "plt.subplot(1, 4, 2)\n",
    "plt.spy(coef_multi_task_lasso_)\n",
    "plt.xlabel('Feature')\n",
    "plt.ylabel('Time (or Task)')\n",
    "plt.text(10, 5, 'MultiTaskLasso')\n",
    "fig.suptitle('Coefficient non-zero location')\n",
    "plt.subplot(1, 4, 3)\n",
    "plt.spy(coef_multi_task_lasso_cv_)\n",
    "plt.xlabel('Feature')\n",
    "plt.ylabel('Time (or Task)')\n",
    "plt.text(10, 5, 'MultiTaskLasso CV')\n",
    "fig.suptitle('Coefficient non-zero location')\n",
    "plt.subplot(1, 4, 4)\n",
    "plt.spy(clf.coef_.)\n",
    "plt.xlabel('Feature')\n",
    "plt.ylabel('Time (or Task)')\n",
    "plt.text(10, 5, 'MultiTask ElasticNet')\n",
    "fig.suptitle('Coefficient non-zero location')"
   ]
  },
  {
   "cell_type": "code",
   "execution_count": 212,
   "metadata": {},
   "outputs": [
    {
     "data": {
      "image/png": "[encoded data removed]",
      "text/plain": [
       "<Figure size 432x288 with 1 Axes>"
      ]
     },
     "metadata": {
      "image/png": {
       "height": 250,
       "width": 388
      },
      "needs_background": "light"
     },
     "output_type": "display_data"
    }
   ],
   "source": [
    "feature_to_plot = 6\n",
    "plt.figure()\n",
    "lw = 2\n",
    "plt.plot(coef[:, feature_to_plot], color='seagreen', linewidth=lw,\n",
    "         label='Ground truth')\n",
    "plt.plot(coef_lasso_[:, feature_to_plot], color='cornflowerblue', linewidth=lw,\n",
    "         label='Lasso')\n",
    "plt.plot(coef_multi_task_lasso_[:, feature_to_plot], color='gold', linewidth=lw,\n",
    "         label='MultiTaskLasso')\n",
    "plt.plot(coef_multi_task_lasso_cv_[:, feature_to_plot], color='black', linewidth=lw,\n",
    "         label='MultiTaskLasso')\n",
    "plt.plot(clf.coef_[:, feature_to_plot], color='red', linewidth=lw,\n",
    "         label='MultiTaskElasticNet')\n",
    "plt.legend(loc='upper center')\n",
    "plt.axis('tight')\n",
    "plt.ylim([-1.1, 1.1])\n",
    "plt.show()"
   ]
  },
  {
   "cell_type": "code",
   "execution_count": null,
   "metadata": {},
   "outputs": [],
   "source": []
  },
  {
   "cell_type": "code",
   "execution_count": null,
   "metadata": {},
   "outputs": [],
   "source": []
  },
  {
   "cell_type": "markdown",
   "metadata": {},
   "source": [
    "# Convert HTML notebook to IPYNB"
   ]
  },
  {
   "cell_type": "code",
   "execution_count": 214,
   "metadata": {},
   "outputs": [],
   "source": [
    "from bs4 import BeautifulSoup\n",
    "import json\n",
    "# import urllib.request\n",
    "# url = 'http://nbviewer.jupyter.org/url/jakevdp.github.com/downloads/notebooks/XKCD_plots.ipynb'\n",
    "# response = urllib.request.urlopen(url)\n",
    "# for local html file\n",
    "response = open(\"/Users/Ocean/Desktop/Supervised_Project_HEC.html\")\n",
    "text = response.read()"
   ]
  },
  {
   "cell_type": "code",
   "execution_count": 215,
   "metadata": {},
   "outputs": [],
   "source": [
    "soup = BeautifulSoup(text, 'lxml')"
   ]
  },
  {
   "cell_type": "code",
   "execution_count": 219,
   "metadata": {},
   "outputs": [
    {
     "data": {
      "text/plain": [
       "26586"
      ]
     },
     "execution_count": 219,
     "metadata": {},
     "output_type": "execute_result"
    }
   ],
   "source": [
    "dictionary = {'nbformat': 4, 'nbformat_minor': 1, 'cells': [], 'metadata': {}}\n",
    "for d in soup.findAll(\"div\"):\n",
    "    if 'class' in d.attrs.keys():\n",
    "        for clas in d.attrs[\"class\"]:\n",
    "            if clas in [\"text_cell_render\", \"input_area\"]:\n",
    "                # code cell\n",
    "                if clas == \"input_area\":\n",
    "                    cell = {}\n",
    "                    cell['metadata'] = {}\n",
    "                    cell['outputs'] = []\n",
    "                    cell['source'] = [d.get_text()]\n",
    "                    cell['execution_count'] = None\n",
    "                    cell['cell_type'] = 'code'\n",
    "                    dictionary['cells'].append(cell)\n",
    "\n",
    "                else:\n",
    "                    cell = {}\n",
    "                    cell['metadata'] = {}\n",
    "\n",
    "                    cell['source'] = [d.decode_contents()]\n",
    "                    cell['cell_type'] = 'markdown'\n",
    "                    dictionary['cells'].append(cell)\n",
    "open('Supervised_HEC.ipynb', 'w').write(json.dumps(dictionary))"
   ]
  },
  {
   "cell_type": "code",
   "execution_count": null,
   "metadata": {},
   "outputs": [],
   "source": []
  },
  {
   "cell_type": "code",
   "execution_count": null,
   "metadata": {},
   "outputs": [],
   "source": []
  },
  {
   "cell_type": "markdown",
   "metadata": {},
   "source": [
    "# BERT vs Row_Max_Similarity"
   ]
  },
  {
   "cell_type": "code",
   "execution_count": 22,
   "metadata": {},
   "outputs": [],
   "source": [
    "doc1 = 'The Donald Trump baby blimp, which became the focal point\\\n",
    "        of protests against the US president’s visit to the UK in July,\\\n",
    "           will rise again for the state visit and\\\n",
    "           could be accompanied by a bigger version, activists have revealed.'\n",
    "\n",
    "doc2 = 'Blimp, the latest balloon Trump will see a bigger version that could accompany the state visit.'\n",
    "\n",
    "doc3 = 'Wednesday marked the 150th anniversay of the WWI with many celebrations around the globe. The U.S. president\\\n",
    "    Donal Trump issued contentious statement on the occasion remarking that the world would face the third one.'"
   ]
  },
  {
   "cell_type": "code",
   "execution_count": 23,
   "metadata": {},
   "outputs": [],
   "source": [
    "# Special_SIM\n",
    "import numpy as np\n",
    "\n",
    "def cosine_similarity(vec1, vec2):\n",
    "    return vec1.dot(vec2)\n",
    "\n",
    "def row_max_similarity(doc1, doc2, sim_metric=None):\n",
    "    if sim_metric is None:\n",
    "        sim_metric = cosine_similarity\n",
    "\n",
    "    doc1 = [t for t in doc1 if t.has_vector]\n",
    "    doc2 = [t for t in doc2 if t.has_vector]\n",
    "    N1 = len(doc1)\n",
    "    N2 = len(doc2)\n",
    "    similarities = np.zeros((N1, N2))\n",
    "    for i in range(N1):\n",
    "        vec1 = doc1[i].vector / doc1[i].vector_norm\n",
    "        for j in range(N2):\n",
    "            vec2 = doc2[j].vector / doc2[j].vector_norm\n",
    "            similarities[i, j] = sim_metric(vec1, vec2)\n",
    "    flows1 = similarities.argmax(axis=0)\n",
    "    flows2 = similarities.argmax(axis=1)\n",
    "    sim = (similarities.max(axis=0).sum() + similarities.max(axis=1).sum()) / (N1+N2)\n",
    "    return sim, flows1, flows2"
   ]
  },
  {
   "cell_type": "code",
   "execution_count": 24,
   "metadata": {},
   "outputs": [
    {
     "name": "stdout",
     "output_type": "stream",
     "text": [
      "\u001b[2K\u001b[38;5;2m✔ Loaded compatibility table\u001b[0m\n",
      "\u001b[1m\n",
      "====================== Installed models (spaCy v2.1.3) ======================\u001b[0m\n",
      "\u001b[38;5;4mℹ spaCy installation:\n",
      "/Users/Ocean/.virtualenvs/general/lib/python3.7/site-packages/spacy\u001b[0m\n",
      "\n",
      "TYPE      NAME             MODEL            VERSION                            \n",
      "package   en-core-web-sm   en_core_web_sm   \u001b[38;5;2m2.1.0\u001b[0m   \u001b[38;5;2m✔\u001b[0m\n",
      "package   en-core-web-lg   en_core_web_lg   \u001b[38;5;2m2.1.0\u001b[0m   \u001b[38;5;2m✔\u001b[0m\n",
      "\n"
     ]
    }
   ],
   "source": [
    "!python -m spacy validate"
   ]
  },
  {
   "cell_type": "code",
   "execution_count": 25,
   "metadata": {},
   "outputs": [],
   "source": [
    "import spacy\n",
    "nlp = spacy.load('en_core_web_lg')"
   ]
  },
  {
   "cell_type": "code",
   "execution_count": 26,
   "metadata": {},
   "outputs": [],
   "source": [
    "doc1 = nlp(doc1)\n",
    "doc2 = nlp(doc2)\n",
    "doc3 = nlp(doc3)"
   ]
  },
  {
   "cell_type": "code",
   "execution_count": 34,
   "metadata": {},
   "outputs": [
    {
     "data": {
      "text/plain": [
       "0.7765253444039633"
      ]
     },
     "execution_count": 34,
     "metadata": {},
     "output_type": "execute_result"
    },
    {
     "name": "stdout",
     "output_type": "stream",
     "text": [
      "\n"
     ]
    },
    {
     "data": {
      "text/plain": [
       "0.6460121090029493"
      ]
     },
     "execution_count": 34,
     "metadata": {},
     "output_type": "execute_result"
    },
    {
     "name": "stdout",
     "output_type": "stream",
     "text": [
      "\n"
     ]
    },
    {
     "data": {
      "text/plain": [
       "0.6203916438475803"
      ]
     },
     "execution_count": 34,
     "metadata": {},
     "output_type": "execute_result"
    }
   ],
   "source": [
    "row_max_similarity(doc1, doc2)[0]\n",
    "print()\n",
    "row_max_similarity(doc1, doc3)[0]\n",
    "print()\n",
    "row_max_similarity(doc2, doc3)[0]"
   ]
  },
  {
   "cell_type": "code",
   "execution_count": 35,
   "metadata": {},
   "outputs": [
    {
     "data": {
      "text/plain": [
       "0.9427334649306618"
      ]
     },
     "execution_count": 35,
     "metadata": {},
     "output_type": "execute_result"
    },
    {
     "name": "stdout",
     "output_type": "stream",
     "text": [
      "\n"
     ]
    },
    {
     "data": {
      "text/plain": [
       "0.9191492552576657"
      ]
     },
     "execution_count": 35,
     "metadata": {},
     "output_type": "execute_result"
    },
    {
     "data": {
      "text/plain": [
       "0.8654894195845644"
      ]
     },
     "execution_count": 35,
     "metadata": {},
     "output_type": "execute_result"
    }
   ],
   "source": [
    "doc1.similarity(doc2)\n",
    "print()\n",
    "doc1.similarity(doc3)\n",
    "doc2.similarity(doc3)"
   ]
  },
  {
   "cell_type": "markdown",
   "metadata": {},
   "source": [
    "# LexRank"
   ]
  },
  {
   "cell_type": "code",
   "execution_count": 37,
   "metadata": {},
   "outputs": [],
   "source": [
    "from lexrank import STOPWORDS, LexRank"
   ]
  },
  {
   "cell_type": "code",
   "execution_count": 39,
   "metadata": {},
   "outputs": [],
   "source": [
    "from path import Path\n",
    "\n",
    "documents = []\n",
    "#documents_dir = Path('/Users/Ocean/Desktop/')\n",
    "\n",
    "#for file_path in documents_dir.files('*.txt'):\n",
    "with open('/users/Ocean/Desktop/news.txt',mode='rt', encoding='utf-8') as fp:\n",
    "    documents.append(fp.readlines())\n"
   ]
  },
  {
   "cell_type": "code",
   "execution_count": 46,
   "metadata": {},
   "outputs": [],
   "source": [
    "lxr = LexRank(documents, stopwords=STOPWORDS['en'])"
   ]
  },
  {
   "cell_type": "code",
   "execution_count": 48,
   "metadata": {},
   "outputs": [
    {
     "name": "stdout",
     "output_type": "stream",
     "text": [
      "['“I do not think the delay [of the Galaxy Fold launch] will negatively impact the company,” said Li. “There is no mass production, so Samsung has no financial or market share loss.”', 'A Reuters report said the delay appeared to be related to the Galaxy Fold’s screen either cracking or flickering, according to Twitter posts by technology journalists from Bloomberg, The Verge and CNBC, who received the smartphone this week for review purposes.\\n']\n"
     ]
    }
   ],
   "source": [
    "# get summary with classical LexRank algorithm\n",
    "summary = lxr.get_summary(documents[0], summary_size=2, threshold=.1)\n",
    "print(summary)"
   ]
  },
  {
   "cell_type": "code",
   "execution_count": 49,
   "metadata": {},
   "outputs": [
    {
     "name": "stdout",
     "output_type": "stream",
     "text": [
      "['“I do not think the delay [of the Galaxy Fold launch] will negatively impact the company,” said Li. “There is no mass production, so Samsung has no financial or market share loss.”']\n"
     ]
    }
   ],
   "source": [
    "# get summary with continuous LexRank\n",
    "summary_cont = lxr.get_summary(documents[0], threshold=None)\n",
    "print(summary_cont)"
   ]
  },
  {
   "cell_type": "code",
   "execution_count": 50,
   "metadata": {},
   "outputs": [
    {
     "name": "stdout",
     "output_type": "stream",
     "text": [
      "[1. 1. 1. 1. 1. 1. 1. 1. 1. 1. 1. 1. 1. 1. 1. 1. 1. 1. 1. 1. 1. 1. 1. 1.\n",
      " 1.]\n"
     ]
    }
   ],
   "source": [
    "# get LexRank scores for sentences\n",
    "# 'fast_power_method' speeds up the calculation, but requires more RAM\n",
    "scores_cont = lxr.rank_sentences(\n",
    "    documents[0],\n",
    "    threshold=None,\n",
    "    fast_power_method=False,\n",
    ")\n",
    "print(scores_cont)"
   ]
  },
  {
   "cell_type": "code",
   "execution_count": null,
   "metadata": {},
   "outputs": [],
   "source": []
  }
 ],
 "metadata": {
  "kernelspec": {
   "display_name": "Python 3",
   "language": "python",
   "name": "python3"
  },
  "language_info": {
   "codemirror_mode": {
    "name": "ipython",
    "version": 3
   },
   "file_extension": ".py",
   "mimetype": "text/x-python",
   "name": "python",
   "nbconvert_exporter": "python",
   "pygments_lexer": "ipython3",
   "version": "3.7.2"
  }
 },
 "nbformat": 4,
 "nbformat_minor": 2
}
