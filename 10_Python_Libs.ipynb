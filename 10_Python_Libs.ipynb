{
 "cells": [
  {
   "cell_type": "code",
   "execution_count": 1,
   "metadata": {},
   "outputs": [],
   "source": [
    "from IPython.core.interactiveshell import InteractiveShell\n",
    "InteractiveShell.ast_node_interactivity = \"all\""
   ]
  },
  {
   "cell_type": "markdown",
   "metadata": {},
   "source": [
    "# Loguru — Logging made easy\n",
    "\n",
    "https://github.com/Delgan/loguru"
   ]
  },
  {
   "cell_type": "code",
   "execution_count": 4,
   "metadata": {},
   "outputs": [],
   "source": [
    "from loguru import logger"
   ]
  },
  {
   "cell_type": "code",
   "execution_count": 5,
   "metadata": {},
   "outputs": [
    {
     "name": "stderr",
     "output_type": "stream",
     "text": [
      "2019-04-23 16:36:06.397 | DEBUG    | __main__:<module>:1 - Hello, cool debugger\n"
     ]
    }
   ],
   "source": [
    "logger.debug(\"Hello, cool debugger\")"
   ]
  },
  {
   "cell_type": "markdown",
   "metadata": {},
   "source": [
    "# more-itertool"
   ]
  },
  {
   "cell_type": "code",
   "execution_count": 4,
   "metadata": {},
   "outputs": [],
   "source": [
    "from more_itertools import peekable, chunked"
   ]
  },
  {
   "cell_type": "code",
   "execution_count": 3,
   "metadata": {},
   "outputs": [
    {
     "data": {
      "text/plain": [
       "'a'"
      ]
     },
     "execution_count": 3,
     "metadata": {},
     "output_type": "execute_result"
    },
    {
     "data": {
      "text/plain": [
       "'a'"
      ]
     },
     "execution_count": 3,
     "metadata": {},
     "output_type": "execute_result"
    }
   ],
   "source": [
    " p = peekable(['a', 'b'])\n",
    " p.peek()\n",
    " next(p)"
   ]
  },
  {
   "cell_type": "code",
   "execution_count": 5,
   "metadata": {},
   "outputs": [
    {
     "data": {
      "text/plain": [
       "[[1, 2, 3], [4, 5, 6]]"
      ]
     },
     "execution_count": 5,
     "metadata": {},
     "output_type": "execute_result"
    }
   ],
   "source": [
    "list(chunked([1, 2, 3, 4, 5, 6], 3))"
   ]
  },
  {
   "cell_type": "markdown",
   "metadata": {},
   "source": [
    "# MonkeyType\n",
    "MonkeyType collects runtime types of function arguments and return values, and can automatically generate stub files or even add draft type annotations directly to your Python code based on the types collected at runtime."
   ]
  },
  {
   "cell_type": "markdown",
   "metadata": {},
   "source": [
    "# requests-async\n",
    "Brings support for async/await syntax to Python's fabulous requests library."
   ]
  },
  {
   "cell_type": "markdown",
   "metadata": {},
   "source": [
    "# pyright\n",
    "Static type checker for Python\n"
   ]
  },
  {
   "cell_type": "markdown",
   "metadata": {},
   "source": [
    "# black\n",
    "The uncompromising Python code formatter https://black.readthedocs.io/en/stable/"
   ]
  },
  {
   "cell_type": "markdown",
   "metadata": {},
   "source": [
    "# Custom Magic CMD and C++ Kernel"
   ]
  },
  {
   "cell_type": "code",
   "execution_count": 6,
   "metadata": {},
   "outputs": [],
   "source": [
    "from IPython.core.magic import register_cell_magic"
   ]
  },
  {
   "cell_type": "code",
   "execution_count": 12,
   "metadata": {},
   "outputs": [],
   "source": [
    "@register_cell_magic\n",
    "def cpp(line, cell):\n",
    "    \"\"\"Compile, execute C++ code, and return stdout\"\"\"\n",
    "    # First retrieve the current IPython interpreter instance\n",
    "    ip = get_ipython()\n",
    "    \n",
    "    # Define source and executable filenames\n",
    "    source_filename = '_temp.cpp'\n",
    "    program_filename = '_temp'\n",
    "    \n",
    "    # write code to C++ file\n",
    "    with open(source_filename, 'w') as f:\n",
    "        f.write(cell)\n",
    "    \n",
    "    # compile C++ code into an executable\n",
    "    compile = ip.getoutput('g++ {0:s} -o {1:s}'.format(source_filename, program_filename))\n",
    "    \n",
    "    # execute the exectuable and return output\n",
    "    output = ip.getoutput('./{0:s}'.format(program_filename))\n",
    "    \n",
    "    print('\\n'.join(output))    "
   ]
  },
  {
   "cell_type": "code",
   "execution_count": 13,
   "metadata": {},
   "outputs": [
    {
     "name": "stdout",
     "output_type": "stream",
     "text": [
      "Hello World\n"
     ]
    }
   ],
   "source": [
    "%%cpp\n",
    "#include <iostream>\n",
    "int main()\n",
    "{\n",
    "    std::cout << \"Hello World\";\n",
    "}"
   ]
  },
  {
   "cell_type": "markdown",
   "metadata": {},
   "source": [
    "> Cell magic only exist in runtime\n",
    "    - pack into extension\n",
    "\n",
    "```python\n",
    "# save above cpp() as cpp_ext.py appending below\n",
    "def load_ipython_extension(ipython):\n",
    "    ipython.register_magic_function(cpp, 'cell')\n",
    "```\n",
    "    - then load with `%load_ext cpp_ext`"
   ]
  },
  {
   "cell_type": "markdown",
   "metadata": {},
   "source": [
    "### C++ Kernel"
   ]
  },
  {
   "cell_type": "code",
   "execution_count": 27,
   "metadata": {},
   "outputs": [],
   "source": [
    "%mkdir cpp"
   ]
  },
  {
   "cell_type": "code",
   "execution_count": 31,
   "metadata": {},
   "outputs": [
    {
     "name": "stdout",
     "output_type": "stream",
     "text": [
      "Writing cpp/cpp_kernel.py\n"
     ]
    }
   ],
   "source": [
    "%%writefile cpp/cpp_kernel.py\n",
    "\n",
    "import os\n",
    "import os.path as op\n",
    "import tempfile\n",
    "\n",
    "# import `getoutput()` func by IPython\n",
    "# allowing sys call from Python\n",
    "from IPython.utils.process import getoutput\n",
    "\n",
    "def exec_cpp(code):\n",
    "    \"\"\"Compile-execute C++ code and return stdout\"\"\"\n",
    "    # create a temp dir to be deleted end of 'with' context\n",
    "    with tempfile.TemporaryDirectory() as tmpdir:\n",
    "        # define source and exec filenames\n",
    "        source_path = op.join(tmpdir, 'temp.cpp')\n",
    "        program_path = op.join(tmpdir, 'temp')\n",
    "        # write code to C++ file\n",
    "        with open(source_path, 'w') as f:\n",
    "            f.write(code)\n",
    "        # compile into exec\n",
    "        os.system(\"g++ {0:s} -o {1:s}\".format(\n",
    "            source_path, program_path))\n",
    "        # execute program and return output\n",
    "        return getoutput(program_path)"
   ]
  },
  {
   "cell_type": "code",
   "execution_count": 32,
   "metadata": {},
   "outputs": [
    {
     "name": "stdout",
     "output_type": "stream",
     "text": [
      "Appending to cpp/cpp_kernel.py\n"
     ]
    }
   ],
   "source": [
    "%%writefile -a cpp/cpp_kernel.py\n",
    "\n",
    "\"\"\"C++ wrapper kernel.\"\"\"\n",
    "from ipykernel.kernelbase import Kernel\n",
    "\n",
    "class CppKernel(Kernel):\n",
    "    \"Kernel Info\"\n",
    "    implementation = 'C++'\n",
    "    implementation_version = '1.0'\n",
    "    language = 'C++'\n",
    "    language_version = '1.0'\n",
    "    language_info = {'name': 'c++',\n",
    "                     'mimetype': 'text/plain'}\n",
    "    banner = \"C++ kernel\"\n",
    "    \n",
    "    def do_execute(self, code, silent,\n",
    "                  store_history=True,\n",
    "                  user_expressions=None,\n",
    "                  allow_stdin=False):\n",
    "        \"\"\"This func called as code cell executed\"\"\"\n",
    "        if not silent:\n",
    "            # run C++ code and get output\n",
    "            output = exec_cpp(code)\n",
    "            # send back result to frontned\n",
    "            stream_content = {'name': 'stdout',\n",
    "                             'text': output}\n",
    "            self.send_response(self.iopub_socket,\n",
    "                              'stream', stream_content)\n",
    "            return {'status': 'ok',\n",
    "                   # base class increments the execution count\n",
    "                   'execution_count': self.execution_count,\n",
    "                   'payload': [],\n",
    "                   'user_expressions': {},\n",
    "                   }\n",
    "\n",
    "if __name__ == '__main__':\n",
    "    from ipykernel.kernelapp import IPKernelApp\n",
    "    IPKernelApp.launch_instance(kernel_class=CppKernel)"
   ]
  },
  {
   "cell_type": "code",
   "execution_count": 33,
   "metadata": {},
   "outputs": [
    {
     "name": "stdout",
     "output_type": "stream",
     "text": [
      "Writing cpp/kernel.json\n"
     ]
    }
   ],
   "source": [
    "%%writefile cpp/kernel.json\n",
    "\n",
    "{\n",
    "    \"argv\": [\"python\",\n",
    "            \"cpp/cpp_kernel.py\",\n",
    "            \"-f\",\n",
    "            \"{connection_file}\"\n",
    "            ],\n",
    "    \"display_name\": \"C++\"\n",
    "}"
   ]
  },
  {
   "cell_type": "code",
   "execution_count": 34,
   "metadata": {},
   "outputs": [
    {
     "name": "stdout",
     "output_type": "stream",
     "text": [
      "[InstallKernelSpec] Installed kernelspec cpp in /Users/Ocean/Library/Jupyter/kernels/cpp\n"
     ]
    }
   ],
   "source": [
    "!jupyter kernelspec install --replace --user cpp"
   ]
  },
  {
   "cell_type": "code",
   "execution_count": 35,
   "metadata": {},
   "outputs": [
    {
     "name": "stdout",
     "output_type": "stream",
     "text": [
      "Available kernels:\n",
      "  cpp          /Users/Ocean/Library/Jupyter/kernels/cpp\n",
      "  ir           /Users/Ocean/Library/Jupyter/kernels/ir\n",
      "  julia-0.6    /Users/Ocean/Library/Jupyter/kernels/julia-0.6\n",
      "  python3      /Users/Ocean/.virtualenvs/general/bin/../share/jupyter/kernels/python3\n"
     ]
    }
   ],
   "source": [
    "!jupyter kernelspec list"
   ]
  },
  {
   "cell_type": "code",
   "execution_count": null,
   "metadata": {},
   "outputs": [],
   "source": []
  }
 ],
 "metadata": {
  "kernelspec": {
   "display_name": "Python 3",
   "language": "python",
   "name": "python3"
  },
  "language_info": {
   "codemirror_mode": {
    "name": "ipython",
    "version": 3
   },
   "file_extension": ".py",
   "mimetype": "text/x-python",
   "name": "python",
   "nbconvert_exporter": "python",
   "pygments_lexer": "ipython3",
   "version": "3.7.2"
  }
 },
 "nbformat": 4,
 "nbformat_minor": 2
}
