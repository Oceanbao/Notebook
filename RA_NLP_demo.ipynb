{
 "cells": [
  {
   "cell_type": "markdown",
   "metadata": {},
   "source": [
    "## Demo of `RA_NLP.py`"
   ]
  },
  {
   "cell_type": "code",
   "execution_count": 1,
   "metadata": {},
   "outputs": [],
   "source": [
    "from RA_NLP import NLP_Trainer"
   ]
  },
  {
   "cell_type": "code",
   "execution_count": 2,
   "metadata": {},
   "outputs": [],
   "source": [
    "import pickle"
   ]
  },
  {
   "cell_type": "code",
   "execution_count": 3,
   "metadata": {},
   "outputs": [
    {
     "data": {
      "text/plain": [
       "(10, 7)"
      ]
     },
     "execution_count": 3,
     "metadata": {},
     "output_type": "execute_result"
    }
   ],
   "source": [
    "with open(\"df (1).pkl\", 'rb') as F:\n",
    "    df = pickle.load(F)\n",
    "    \n",
    "df.shape"
   ]
  },
  {
   "cell_type": "code",
   "execution_count": 5,
   "metadata": {},
   "outputs": [
    {
     "name": "stderr",
     "output_type": "stream",
     "text": [
      "/home/oceanbao/miniconda3/envs/dev/lib/python3.7/site-packages/ipykernel_launcher.py:1: SettingWithCopyWarning: \n",
      "A value is trying to be set on a copy of a slice from a DataFrame\n",
      "\n",
      "See the caveats in the documentation: http://pandas.pydata.org/pandas-docs/stable/user_guide/indexing.html#returning-a-view-versus-a-copy\n",
      "  \"\"\"Entry point for launching an IPython kernel.\n"
     ]
    }
   ],
   "source": [
    "df.entities[0] = '[[22, 28, \"DOOM\"]]'"
   ]
  },
  {
   "cell_type": "code",
   "execution_count": 6,
   "metadata": {},
   "outputs": [
    {
     "data": {
      "text/html": [
       "<div>\n",
       "<style scoped>\n",
       "    .dataframe tbody tr th:only-of-type {\n",
       "        vertical-align: middle;\n",
       "    }\n",
       "\n",
       "    .dataframe tbody tr th {\n",
       "        vertical-align: top;\n",
       "    }\n",
       "\n",
       "    .dataframe thead th {\n",
       "        text-align: right;\n",
       "    }\n",
       "</style>\n",
       "<table border=\"1\" class=\"dataframe\">\n",
       "  <thead>\n",
       "    <tr style=\"text-align: right;\">\n",
       "      <th></th>\n",
       "      <th>flashcard_id</th>\n",
       "      <th>doc_title</th>\n",
       "      <th>doc_body</th>\n",
       "      <th>date</th>\n",
       "      <th>classifiers</th>\n",
       "      <th>entities</th>\n",
       "      <th>label</th>\n",
       "    </tr>\n",
       "  </thead>\n",
       "  <tbody>\n",
       "    <tr>\n",
       "      <td>0</td>\n",
       "      <td>10</td>\n",
       "      <td>None</td>\n",
       "      <td>I am so worried about Brexit</td>\n",
       "      <td>2019-09-25 08:43:49</td>\n",
       "      <td>[{\"clf_id\": 1, \"selected\": {\"Neutral\": 1, \"Neg...</td>\n",
       "      <td>[[22, 28, \"DOOM\"]]</td>\n",
       "      <td>{'cats': {'Funny': 0, 'Other': 1, 'Creepy': 0}}</td>\n",
       "    </tr>\n",
       "    <tr>\n",
       "      <td>1</td>\n",
       "      <td>9</td>\n",
       "      <td>None</td>\n",
       "      <td>I would love to have a hot dog before going to...</td>\n",
       "      <td>2019-09-25 08:43:43</td>\n",
       "      <td>[{\"clf_id\": 1, \"selected\": {\"Neutral\": 0, \"Neg...</td>\n",
       "      <td>[[23, 26, \"EVENT\"], [27, 30, \"EVENT\"]]</td>\n",
       "      <td>{'cats': {'Funny': 1, 'Other': 0, 'Creepy': 0}}</td>\n",
       "    </tr>\n",
       "    <tr>\n",
       "      <td>2</td>\n",
       "      <td>3</td>\n",
       "      <td>None</td>\n",
       "      <td>This is the first time taking Lyft. I have to ...</td>\n",
       "      <td>2019-09-22 20:37:14</td>\n",
       "      <td>[{\"clf_id\": 1, \"selected\": {\"Neutral\": 1, \"Neg...</td>\n",
       "      <td>[[12, 17, \"ORDINAL\"], [30, 34, \"ORG\"]]</td>\n",
       "      <td>{'cats': {'Funny': 1, 'Other': 0, 'Creepy': 0}}</td>\n",
       "    </tr>\n",
       "    <tr>\n",
       "      <td>3</td>\n",
       "      <td>6</td>\n",
       "      <td>None</td>\n",
       "      <td>I decided to take Lyft to go to a restaurant i...</td>\n",
       "      <td>2019-09-22 20:37:00</td>\n",
       "      <td>[{\"clf_id\": 1, \"selected\": {\"Neutral\": 0, \"Neg...</td>\n",
       "      <td>[[18, 22, \"ORG\"], [48, 57, \"GPE\"]]</td>\n",
       "      <td>{'cats': {'Funny': 0, 'Other': 0, 'Creepy': 0}}</td>\n",
       "    </tr>\n",
       "    <tr>\n",
       "      <td>4</td>\n",
       "      <td>7</td>\n",
       "      <td>None</td>\n",
       "      <td>This driver is so considerate! He helped me op...</td>\n",
       "      <td>2019-09-22 19:35:43</td>\n",
       "      <td>[{\"clf_id\": 1, \"selected\": {\"Neutral\": 0, \"Neg...</td>\n",
       "      <td>[]</td>\n",
       "      <td>{'cats': {'Funny': 0, 'Other': 0, 'Creepy': 0}}</td>\n",
       "    </tr>\n",
       "    <tr>\n",
       "      <td>5</td>\n",
       "      <td>8</td>\n",
       "      <td>None</td>\n",
       "      <td>This guy was so funny and had a great sense of...</td>\n",
       "      <td>2019-09-22 19:35:39</td>\n",
       "      <td>[{\"clf_id\": 1, \"selected\": {\"Neutral\": 0, \"Neg...</td>\n",
       "      <td>[[38, 43, \"PERSON\"]]</td>\n",
       "      <td>{'cats': {'Funny': 1, 'Other': 0, 'Creepy': 0}}</td>\n",
       "    </tr>\n",
       "    <tr>\n",
       "      <td>6</td>\n",
       "      <td>5</td>\n",
       "      <td>None</td>\n",
       "      <td>Cubans are always the best! They are so friend...</td>\n",
       "      <td>2019-09-22 14:25:19</td>\n",
       "      <td>[{\"clf_id\": 1, \"selected\": {\"Neutral\": 0, \"Neg...</td>\n",
       "      <td>[[0, 6, \"NORP\"]]</td>\n",
       "      <td>{'cats': {'Funny': 1, 'Other': 0, 'Creepy': 0}}</td>\n",
       "    </tr>\n",
       "    <tr>\n",
       "      <td>7</td>\n",
       "      <td>4</td>\n",
       "      <td>None</td>\n",
       "      <td>Worst driver ever!</td>\n",
       "      <td>2019-09-22 14:25:15</td>\n",
       "      <td>[{\"clf_id\": 1, \"selected\": {\"Neutral\": 0, \"Neg...</td>\n",
       "      <td>[]</td>\n",
       "      <td>{'cats': {'Funny': 1, 'Other': 0, 'Creepy': 0}}</td>\n",
       "    </tr>\n",
       "    <tr>\n",
       "      <td>8</td>\n",
       "      <td>2</td>\n",
       "      <td>None</td>\n",
       "      <td>I asked the driver if he could turn on the air...</td>\n",
       "      <td>2019-09-22 14:25:07</td>\n",
       "      <td>[{\"clf_id\": 1, \"selected\": {\"Neutral\": 0, \"Neg...</td>\n",
       "      <td>[[106, 110, \"ORG\"]]</td>\n",
       "      <td>{'cats': {'Funny': 1, 'Other': 0, 'Creepy': 0}}</td>\n",
       "    </tr>\n",
       "    <tr>\n",
       "      <td>9</td>\n",
       "      <td>1</td>\n",
       "      <td>None</td>\n",
       "      <td>This driver is really creepy. He was taking me...</td>\n",
       "      <td>2019-09-22 14:25:01</td>\n",
       "      <td>[{\"clf_id\": 1, \"selected\": {\"Neutral\": 0, \"Neg...</td>\n",
       "      <td>[[22, 28, \"PERCENT\"], [104, 106, \"PERCENT\"]]</td>\n",
       "      <td>{'cats': {'Funny': 0, 'Other': 0, 'Creepy': 1}}</td>\n",
       "    </tr>\n",
       "  </tbody>\n",
       "</table>\n",
       "</div>"
      ],
      "text/plain": [
       "   flashcard_id doc_title                                           doc_body  \\\n",
       "0            10      None                       I am so worried about Brexit   \n",
       "1             9      None  I would love to have a hot dog before going to...   \n",
       "2             3      None  This is the first time taking Lyft. I have to ...   \n",
       "3             6      None  I decided to take Lyft to go to a restaurant i...   \n",
       "4             7      None  This driver is so considerate! He helped me op...   \n",
       "5             8      None  This guy was so funny and had a great sense of...   \n",
       "6             5      None  Cubans are always the best! They are so friend...   \n",
       "7             4      None                                 Worst driver ever!   \n",
       "8             2      None  I asked the driver if he could turn on the air...   \n",
       "9             1      None  This driver is really creepy. He was taking me...   \n",
       "\n",
       "                 date                                        classifiers  \\\n",
       "0 2019-09-25 08:43:49  [{\"clf_id\": 1, \"selected\": {\"Neutral\": 1, \"Neg...   \n",
       "1 2019-09-25 08:43:43  [{\"clf_id\": 1, \"selected\": {\"Neutral\": 0, \"Neg...   \n",
       "2 2019-09-22 20:37:14  [{\"clf_id\": 1, \"selected\": {\"Neutral\": 1, \"Neg...   \n",
       "3 2019-09-22 20:37:00  [{\"clf_id\": 1, \"selected\": {\"Neutral\": 0, \"Neg...   \n",
       "4 2019-09-22 19:35:43  [{\"clf_id\": 1, \"selected\": {\"Neutral\": 0, \"Neg...   \n",
       "5 2019-09-22 19:35:39  [{\"clf_id\": 1, \"selected\": {\"Neutral\": 0, \"Neg...   \n",
       "6 2019-09-22 14:25:19  [{\"clf_id\": 1, \"selected\": {\"Neutral\": 0, \"Neg...   \n",
       "7 2019-09-22 14:25:15  [{\"clf_id\": 1, \"selected\": {\"Neutral\": 0, \"Neg...   \n",
       "8 2019-09-22 14:25:07  [{\"clf_id\": 1, \"selected\": {\"Neutral\": 0, \"Neg...   \n",
       "9 2019-09-22 14:25:01  [{\"clf_id\": 1, \"selected\": {\"Neutral\": 0, \"Neg...   \n",
       "\n",
       "                                       entities  \\\n",
       "0                            [[22, 28, \"DOOM\"]]   \n",
       "1        [[23, 26, \"EVENT\"], [27, 30, \"EVENT\"]]   \n",
       "2        [[12, 17, \"ORDINAL\"], [30, 34, \"ORG\"]]   \n",
       "3            [[18, 22, \"ORG\"], [48, 57, \"GPE\"]]   \n",
       "4                                            []   \n",
       "5                          [[38, 43, \"PERSON\"]]   \n",
       "6                              [[0, 6, \"NORP\"]]   \n",
       "7                                            []   \n",
       "8                           [[106, 110, \"ORG\"]]   \n",
       "9  [[22, 28, \"PERCENT\"], [104, 106, \"PERCENT\"]]   \n",
       "\n",
       "                                             label  \n",
       "0  {'cats': {'Funny': 0, 'Other': 1, 'Creepy': 0}}  \n",
       "1  {'cats': {'Funny': 1, 'Other': 0, 'Creepy': 0}}  \n",
       "2  {'cats': {'Funny': 1, 'Other': 0, 'Creepy': 0}}  \n",
       "3  {'cats': {'Funny': 0, 'Other': 0, 'Creepy': 0}}  \n",
       "4  {'cats': {'Funny': 0, 'Other': 0, 'Creepy': 0}}  \n",
       "5  {'cats': {'Funny': 1, 'Other': 0, 'Creepy': 0}}  \n",
       "6  {'cats': {'Funny': 1, 'Other': 0, 'Creepy': 0}}  \n",
       "7  {'cats': {'Funny': 1, 'Other': 0, 'Creepy': 0}}  \n",
       "8  {'cats': {'Funny': 1, 'Other': 0, 'Creepy': 0}}  \n",
       "9  {'cats': {'Funny': 0, 'Other': 0, 'Creepy': 1}}  "
      ]
     },
     "execution_count": 6,
     "metadata": {},
     "output_type": "execute_result"
    }
   ],
   "source": [
    "df"
   ]
  },
  {
   "cell_type": "markdown",
   "metadata": {},
   "source": [
    "### To convert the string of expression inside DF from DB into original Python object"
   ]
  },
  {
   "cell_type": "code",
   "execution_count": 7,
   "metadata": {},
   "outputs": [],
   "source": [
    "from ast import literal_eval as LE"
   ]
  },
  {
   "cell_type": "markdown",
   "metadata": {},
   "source": [
    "## entities == string while label == Dict"
   ]
  },
  {
   "cell_type": "code",
   "execution_count": 8,
   "metadata": {},
   "outputs": [],
   "source": [
    "TRAIN_DATA = [\n",
    "    NLP_Trainer.converter(row.doc_body, \n",
    "              LE(row.entities), \n",
    "              row.label)\n",
    "    for row in list(df.itertuples())\n",
    "]"
   ]
  },
  {
   "cell_type": "code",
   "execution_count": 9,
   "metadata": {},
   "outputs": [
    {
     "data": {
      "text/plain": [
       "('I am so worried about Brexit',\n",
       " {'entities': [(22, 28, 'DOOM')],\n",
       "  'cats': {'Funny': 0, 'Other': 1, 'Creepy': 0}})"
      ]
     },
     "execution_count": 9,
     "metadata": {},
     "output_type": "execute_result"
    }
   ],
   "source": [
    "TRAIN_DATA[0]"
   ]
  },
  {
   "cell_type": "code",
   "execution_count": null,
   "metadata": {},
   "outputs": [],
   "source": []
  },
  {
   "cell_type": "code",
   "execution_count": 2,
   "metadata": {},
   "outputs": [],
   "source": [
    "import spacy"
   ]
  },
  {
   "cell_type": "code",
   "execution_count": 3,
   "metadata": {},
   "outputs": [
    {
     "name": "stderr",
     "output_type": "stream",
     "text": [
      "/home/oceanbao/miniconda3/envs/dev/lib/python3.7/importlib/_bootstrap.py:219: RuntimeWarning: numpy.ufunc size changed, may indicate binary incompatibility. Expected 176 from C header, got 216 from PyObject\n",
      "  return f(*args, **kwds)\n"
     ]
    }
   ],
   "source": [
    "en_large = spacy.load('eng_large')"
   ]
  },
  {
   "cell_type": "code",
   "execution_count": 4,
   "metadata": {},
   "outputs": [
    {
     "data": {
      "text/plain": [
       "<spacy.lang.en.English at 0x7f4066408690>"
      ]
     },
     "execution_count": 4,
     "metadata": {},
     "output_type": "execute_result"
    }
   ],
   "source": [
    "en_large"
   ]
  },
  {
   "cell_type": "code",
   "execution_count": null,
   "metadata": {},
   "outputs": [],
   "source": []
  },
  {
   "cell_type": "markdown",
   "metadata": {},
   "source": [
    "## Using Kaggle"
   ]
  },
  {
   "cell_type": "code",
   "execution_count": 5,
   "metadata": {},
   "outputs": [
    {
     "data": {
      "text/html": [
       "<div>\n",
       "<style scoped>\n",
       "    .dataframe tbody tr th:only-of-type {\n",
       "        vertical-align: middle;\n",
       "    }\n",
       "\n",
       "    .dataframe tbody tr th {\n",
       "        vertical-align: top;\n",
       "    }\n",
       "\n",
       "    .dataframe thead th {\n",
       "        text-align: right;\n",
       "    }\n",
       "</style>\n",
       "<table border=\"1\" class=\"dataframe\">\n",
       "  <thead>\n",
       "    <tr style=\"text-align: right;\">\n",
       "      <th></th>\n",
       "      <th>sentences</th>\n",
       "      <th>sentiment</th>\n",
       "      <th>id</th>\n",
       "      <th>label</th>\n",
       "      <th>input</th>\n",
       "    </tr>\n",
       "  </thead>\n",
       "  <tbody>\n",
       "    <tr>\n",
       "      <td>7837</td>\n",
       "      <td>directorial debut music video show off higuchi...</td>\n",
       "      <td>0</td>\n",
       "      <td>7837</td>\n",
       "      <td>{'cats': {'POS': 0, 'NEG': 1}}</td>\n",
       "      <td>(directorial debut music video show off higuch...</td>\n",
       "    </tr>\n",
       "    <tr>\n",
       "      <td>7553</td>\n",
       "      <td>neat little story believing swamped heavy hand...</td>\n",
       "      <td>0</td>\n",
       "      <td>7553</td>\n",
       "      <td>{'cats': {'POS': 0, 'NEG': 1}}</td>\n",
       "      <td>(neat little story believing swamped heavy han...</td>\n",
       "    </tr>\n",
       "    <tr>\n",
       "      <td>1294</td>\n",
       "      <td>kind attentive concern hoffman brings characte...</td>\n",
       "      <td>1</td>\n",
       "      <td>1294</td>\n",
       "      <td>{'cats': {'POS': 1, 'NEG': 0}}</td>\n",
       "      <td>(kind attentive concern hoffman brings charact...</td>\n",
       "    </tr>\n",
       "    <tr>\n",
       "      <td>5280</td>\n",
       "      <td>filmmakers know eye prettiest pictures tell be...</td>\n",
       "      <td>0</td>\n",
       "      <td>5280</td>\n",
       "      <td>{'cats': {'POS': 0, 'NEG': 1}}</td>\n",
       "      <td>(filmmakers know eye prettiest pictures tell b...</td>\n",
       "    </tr>\n",
       "    <tr>\n",
       "      <td>5153</td>\n",
       "      <td>draws decent laughs low cal woody best</td>\n",
       "      <td>0</td>\n",
       "      <td>5153</td>\n",
       "      <td>{'cats': {'POS': 0, 'NEG': 1}}</td>\n",
       "      <td>(draws decent laughs low cal woody best, {'cat...</td>\n",
       "    </tr>\n",
       "  </tbody>\n",
       "</table>\n",
       "</div>"
      ],
      "text/plain": [
       "                                              sentences  ...                                              input\n",
       "7837  directorial debut music video show off higuchi...  ...  (directorial debut music video show off higuch...\n",
       "7553  neat little story believing swamped heavy hand...  ...  (neat little story believing swamped heavy han...\n",
       "1294  kind attentive concern hoffman brings characte...  ...  (kind attentive concern hoffman brings charact...\n",
       "5280  filmmakers know eye prettiest pictures tell be...  ...  (filmmakers know eye prettiest pictures tell b...\n",
       "5153             draws decent laughs low cal woody best  ...  (draws decent laughs low cal woody best, {'cat...\n",
       "\n",
       "[5 rows x 5 columns]"
      ]
     },
     "execution_count": 5,
     "metadata": {},
     "output_type": "execute_result"
    }
   ],
   "source": [
    "import pandas as pd\n",
    "df = pd.read_csv('/home/oceanbao/HACKING/MISC/BACKUP/kaggle_train_clean.csv')\n",
    "\n",
    "import copy\n",
    "\n",
    "df.dropna(inplace=True)\n",
    "df.sentences.notna().value_counts()\n",
    "df['label'] = df['sentiment'].apply(lambda x: {'cats': {'POS': 1, 'NEG': 0}} if x == 1 else {'cats': {'POS': 0, 'NEG': 1}} )\n",
    "df['input'] = df.apply(lambda x: (x['sentences'], x['label']), axis=1)\n",
    "\n",
    "df = df.sample(frac=1)\n",
    "df.head()"
   ]
  },
  {
   "cell_type": "markdown",
   "metadata": {},
   "source": [
    "## `NLP_Trainer` has default not multilabel (non-exclusive)"
   ]
  },
  {
   "cell_type": "code",
   "execution_count": 6,
   "metadata": {},
   "outputs": [],
   "source": [
    "trainer = NLP_Trainer(\n",
    "    df.input.values[:2000],\n",
    "    model=en_large, \n",
    "    pipelines=['textcat'], \n",
    "    train_ratio=0.8,\n",
    "    epoch=10,\n",
    "    multilabel=False,\n",
    "    )"
   ]
  },
  {
   "cell_type": "code",
   "execution_count": 12,
   "metadata": {},
   "outputs": [],
   "source": [
    "# trainer = NLP_Trainer(\n",
    "#     TRAIN_DATA,\n",
    "#     model=en_large, \n",
    "#     pipelines=['textcat', 'ner'], \n",
    "#     train_ratio=0.8,\n",
    "#     epoch=10,\n",
    "#     multilabel=False,\n",
    "#     )"
   ]
  },
  {
   "cell_type": "markdown",
   "metadata": {},
   "source": [
    "## Main methods/data under class\n",
    "\n",
    "1. First call `.prep_data()`\n",
    "2. Then train `.start_train()`"
   ]
  },
  {
   "cell_type": "code",
   "execution_count": 7,
   "metadata": {},
   "outputs": [
    {
     "name": "stdout",
     "output_type": "stream",
     "text": [
      "Using 2000 examples (1600 training, 400 evaluation)\n"
     ]
    }
   ],
   "source": [
    "trainer.prep_data()"
   ]
  },
  {
   "cell_type": "code",
   "execution_count": 8,
   "metadata": {},
   "outputs": [
    {
     "data": {
      "text/plain": [
       "('NEG', 'POS')"
      ]
     },
     "execution_count": 8,
     "metadata": {},
     "output_type": "execute_result"
    }
   ],
   "source": [
    "trainer.textcat.labels"
   ]
  },
  {
   "cell_type": "code",
   "execution_count": 9,
   "metadata": {},
   "outputs": [
    {
     "name": "stdout",
     "output_type": "stream",
     "text": [
      "Training TextCat model...\n",
      "=== Running epoch: 1 of 10 ===\n",
      "Finish epoch with elapsed time: 20.498968362808228\n",
      ">>> TextCat Loss : 416.10545225068927\n",
      "=== Running epoch: 2 of 10 ===\n",
      "Finish epoch with elapsed time: 29.772125720977783\n",
      ">>> TextCat Loss : 407.54056717455387\n",
      "=== Running epoch: 3 of 10 ===\n",
      "Finish epoch with elapsed time: 38.32855010032654\n",
      ">>> TextCat Loss : 414.44762884881993\n",
      "=== Running epoch: 4 of 10 ===\n",
      "Finish epoch with elapsed time: 38.0252799987793\n",
      ">>> TextCat Loss : 342.2217726911616\n",
      "=== Running epoch: 5 of 10 ===\n",
      "Finish epoch with elapsed time: 37.377896308898926\n",
      ">>> TextCat Loss : 197.96264577729315\n",
      "=== Running epoch: 6 of 10 ===\n",
      "Finish epoch with elapsed time: 36.45556163787842\n",
      ">>> TextCat Loss : 87.50730255251243\n",
      "=== Running epoch: 7 of 10 ===\n",
      "Finish epoch with elapsed time: 36.49740266799927\n",
      ">>> TextCat Loss : 69.86024663745513\n",
      "=== Running epoch: 8 of 10 ===\n",
      "Finish epoch with elapsed time: 36.4478554725647\n",
      ">>> TextCat Loss : 37.65640189094903\n",
      "=== Running epoch: 9 of 10 ===\n",
      "Finish epoch with elapsed time: 36.72077488899231\n",
      ">>> TextCat Loss : 14.684272134113666\n",
      "=== Running epoch: 10 of 10 ===\n",
      "Finish epoch with elapsed time: 36.3849310874939\n",
      ">>> TextCat Loss : 14.02852023790405\n"
     ]
    }
   ],
   "source": [
    "trainer.start_train()"
   ]
  },
  {
   "cell_type": "markdown",
   "metadata": {},
   "source": [
    "### `.nlp` object is exposed"
   ]
  },
  {
   "cell_type": "code",
   "execution_count": 10,
   "metadata": {},
   "outputs": [
    {
     "data": {
      "text/plain": [
       "['tagger', 'parser', 'ner', 'textcat']"
      ]
     },
     "execution_count": 10,
     "metadata": {},
     "output_type": "execute_result"
    }
   ],
   "source": [
    "trainer.nlp.pipe_names"
   ]
  },
  {
   "cell_type": "code",
   "execution_count": 11,
   "metadata": {},
   "outputs": [
    {
     "data": {
      "text/plain": [
       "['U-ORDINAL', 'U-PRODUCT', 'U-LAW', 'U-LANGUAGE', 'O']"
      ]
     },
     "execution_count": 11,
     "metadata": {},
     "output_type": "execute_result"
    }
   ],
   "source": [
    "trainer.nlp.get_pipe('ner').move_names[-5:]"
   ]
  },
  {
   "cell_type": "code",
   "execution_count": 12,
   "metadata": {},
   "outputs": [
    {
     "data": {
      "text/plain": [
       "('NEG', 'POS')"
      ]
     },
     "execution_count": 12,
     "metadata": {},
     "output_type": "execute_result"
    }
   ],
   "source": [
    "trainer.nlp.get_pipe('textcat').labels"
   ]
  },
  {
   "cell_type": "markdown",
   "metadata": {},
   "source": [
    "### Save to disk method"
   ]
  },
  {
   "cell_type": "code",
   "execution_count": 13,
   "metadata": {},
   "outputs": [
    {
     "name": "stdout",
     "output_type": "stream",
     "text": [
      "Saved model to DELE_MOD\n"
     ]
    }
   ],
   "source": [
    "trainer.to_disk('DELE_MOD', 'Demo_Model')"
   ]
  },
  {
   "cell_type": "code",
   "execution_count": 14,
   "metadata": {},
   "outputs": [
    {
     "name": "stdout",
     "output_type": "stream",
     "text": [
      "\u001b[01;34mDELE_MOD\u001b[00m\n",
      "├── [ 808]  meta.json\n",
      "├── [4.0K]  \u001b[01;34mner\u001b[00m\n",
      "│   ├── [ 329]  cfg\n",
      "│   ├── [4.0M]  model\n",
      "│   └── [1.0K]  moves\n",
      "├── [4.0K]  \u001b[01;34mparser\u001b[00m\n",
      "│   ├── [ 330]  cfg\n",
      "│   ├── [4.2M]  model\n",
      "│   └── [1.6K]  moves\n",
      "├── [4.0K]  \u001b[01;34mtagger\u001b[00m\n",
      "│   ├── [ 137]  cfg\n",
      "│   ├── [3.8M]  model\n",
      "│   └── [1.1K]  tag_map\n",
      "├── [4.0K]  \u001b[01;34mtextcat\u001b[00m\n",
      "│   ├── [ 130]  cfg\n",
      "│   └── [5.4M]  model\n",
      "├── [ 77K]  tokenizer\n",
      "└── [4.0K]  \u001b[01;34mvocab\u001b[00m\n",
      "    ├── [9.0M]  key2row\n",
      "    ├── [123M]  lexemes.bin\n",
      "    ├── [ 22M]  strings.json\n",
      "    └── [784M]  vectors\n",
      "\n",
      "5 directories, 17 files\n"
     ]
    }
   ],
   "source": [
    "!tree DELE_MOD -sh"
   ]
  },
  {
   "cell_type": "code",
   "execution_count": 23,
   "metadata": {},
   "outputs": [],
   "source": [
    "# !rm -rf DELE_MOD/"
   ]
  },
  {
   "cell_type": "markdown",
   "metadata": {},
   "source": [
    "### dataframe containing epoch-metrics"
   ]
  },
  {
   "cell_type": "code",
   "execution_count": 16,
   "metadata": {},
   "outputs": [
    {
     "data": {
      "text/html": [
       "<div>\n",
       "<style scoped>\n",
       "    .dataframe tbody tr th:only-of-type {\n",
       "        vertical-align: middle;\n",
       "    }\n",
       "\n",
       "    .dataframe tbody tr th {\n",
       "        vertical-align: top;\n",
       "    }\n",
       "\n",
       "    .dataframe thead th {\n",
       "        text-align: right;\n",
       "    }\n",
       "</style>\n",
       "<table border=\"1\" class=\"dataframe\">\n",
       "  <thead>\n",
       "    <tr style=\"text-align: right;\">\n",
       "      <th></th>\n",
       "      <th>train_accu</th>\n",
       "      <th>dev_accu</th>\n",
       "      <th>train_fscore</th>\n",
       "      <th>dev_fscore</th>\n",
       "      <th>train_bal_accu</th>\n",
       "      <th>dev_bal_accu</th>\n",
       "    </tr>\n",
       "  </thead>\n",
       "  <tbody>\n",
       "    <tr>\n",
       "      <td>0</td>\n",
       "      <td>0.553125</td>\n",
       "      <td>0.5450</td>\n",
       "      <td>0.385211</td>\n",
       "      <td>0.368056</td>\n",
       "      <td>0.555912</td>\n",
       "      <td>0.538336</td>\n",
       "    </tr>\n",
       "    <tr>\n",
       "      <td>1</td>\n",
       "      <td>0.735625</td>\n",
       "      <td>0.5700</td>\n",
       "      <td>0.720792</td>\n",
       "      <td>0.514124</td>\n",
       "      <td>0.736230</td>\n",
       "      <td>0.567480</td>\n",
       "    </tr>\n",
       "    <tr>\n",
       "      <td>2</td>\n",
       "      <td>0.767500</td>\n",
       "      <td>0.5850</td>\n",
       "      <td>0.768944</td>\n",
       "      <td>0.585000</td>\n",
       "      <td>0.767514</td>\n",
       "      <td>0.585366</td>\n",
       "    </tr>\n",
       "    <tr>\n",
       "      <td>3</td>\n",
       "      <td>0.875625</td>\n",
       "      <td>0.6050</td>\n",
       "      <td>0.873490</td>\n",
       "      <td>0.601010</td>\n",
       "      <td>0.875881</td>\n",
       "      <td>0.605128</td>\n",
       "    </tr>\n",
       "    <tr>\n",
       "      <td>4</td>\n",
       "      <td>0.945000</td>\n",
       "      <td>0.6350</td>\n",
       "      <td>0.944862</td>\n",
       "      <td>0.623711</td>\n",
       "      <td>0.945120</td>\n",
       "      <td>0.634647</td>\n",
       "    </tr>\n",
       "    <tr>\n",
       "      <td>5</td>\n",
       "      <td>0.974375</td>\n",
       "      <td>0.6125</td>\n",
       "      <td>0.974455</td>\n",
       "      <td>0.609572</td>\n",
       "      <td>0.974441</td>\n",
       "      <td>0.612695</td>\n",
       "    </tr>\n",
       "    <tr>\n",
       "      <td>6</td>\n",
       "      <td>0.991250</td>\n",
       "      <td>0.6275</td>\n",
       "      <td>0.991326</td>\n",
       "      <td>0.632099</td>\n",
       "      <td>0.991262</td>\n",
       "      <td>0.628205</td>\n",
       "    </tr>\n",
       "    <tr>\n",
       "      <td>7</td>\n",
       "      <td>0.995625</td>\n",
       "      <td>0.6150</td>\n",
       "      <td>0.995666</td>\n",
       "      <td>0.609137</td>\n",
       "      <td>0.995631</td>\n",
       "      <td>0.615009</td>\n",
       "    </tr>\n",
       "    <tr>\n",
       "      <td>8</td>\n",
       "      <td>0.997500</td>\n",
       "      <td>0.6175</td>\n",
       "      <td>0.997525</td>\n",
       "      <td>0.614610</td>\n",
       "      <td>0.997500</td>\n",
       "      <td>0.617699</td>\n",
       "    </tr>\n",
       "    <tr>\n",
       "      <td>9</td>\n",
       "      <td>0.998125</td>\n",
       "      <td>0.6175</td>\n",
       "      <td>0.998145</td>\n",
       "      <td>0.612658</td>\n",
       "      <td>0.998119</td>\n",
       "      <td>0.617573</td>\n",
       "    </tr>\n",
       "  </tbody>\n",
       "</table>\n",
       "</div>"
      ],
      "text/plain": [
       "   train_accu  dev_accu  train_fscore  dev_fscore  train_bal_accu  dev_bal_accu\n",
       "0    0.553125    0.5450      0.385211    0.368056        0.555912      0.538336\n",
       "1    0.735625    0.5700      0.720792    0.514124        0.736230      0.567480\n",
       "2    0.767500    0.5850      0.768944    0.585000        0.767514      0.585366\n",
       "3    0.875625    0.6050      0.873490    0.601010        0.875881      0.605128\n",
       "4    0.945000    0.6350      0.944862    0.623711        0.945120      0.634647\n",
       "5    0.974375    0.6125      0.974455    0.609572        0.974441      0.612695\n",
       "6    0.991250    0.6275      0.991326    0.632099        0.991262      0.628205\n",
       "7    0.995625    0.6150      0.995666    0.609137        0.995631      0.615009\n",
       "8    0.997500    0.6175      0.997525    0.614610        0.997500      0.617699\n",
       "9    0.998125    0.6175      0.998145    0.612658        0.998119      0.617573"
      ]
     },
     "execution_count": 16,
     "metadata": {},
     "output_type": "execute_result"
    }
   ],
   "source": [
    "trainer.eval_info"
   ]
  },
  {
   "cell_type": "code",
   "execution_count": 17,
   "metadata": {},
   "outputs": [
    {
     "data": {
      "image/png": "[encoded data removed]",
      "text/plain": [
       "<Figure size 576x432 with 2 Axes>"
      ]
     },
     "metadata": {
      "needs_background": "light"
     },
     "output_type": "display_data"
    }
   ],
   "source": [
    "trainer.plot_confusion()"
   ]
  },
  {
   "cell_type": "code",
   "execution_count": 18,
   "metadata": {},
   "outputs": [
    {
     "data": {
      "image/png": "[encoded data removed]",
      "text/plain": [
       "<Figure size 720x720 with 1 Axes>"
      ]
     },
     "metadata": {},
     "output_type": "display_data"
    }
   ],
   "source": [
    "trainer.plot_score()"
   ]
  },
  {
   "cell_type": "code",
   "execution_count": 19,
   "metadata": {},
   "outputs": [
    {
     "name": "stdout",
     "output_type": "stream",
     "text": [
      "              precision    recall  f1-score   support\n",
      "\n",
      "         NEG       0.60      0.62      0.61       195\n",
      "         POS       0.63      0.61      0.62       205\n",
      "\n",
      "    accuracy                           0.62       400\n",
      "   macro avg       0.62      0.62      0.62       400\n",
      "weighted avg       0.62      0.62      0.62       400\n",
      "\n"
     ]
    }
   ],
   "source": [
    "print(trainer.class_report)"
   ]
  },
  {
   "cell_type": "markdown",
   "metadata": {},
   "source": [
    "## Test NE"
   ]
  },
  {
   "cell_type": "code",
   "execution_count": 13,
   "metadata": {},
   "outputs": [],
   "source": [
    "test_nlp = spacy.load('DELE_MOD')"
   ]
  },
  {
   "cell_type": "code",
   "execution_count": 14,
   "metadata": {},
   "outputs": [
    {
     "data": {
      "text/plain": [
       "['O', 'B-DOOM', 'I-DOOM', 'L-DOOM', 'U-DOOM']"
      ]
     },
     "execution_count": 14,
     "metadata": {},
     "output_type": "execute_result"
    }
   ],
   "source": [
    "test_nlp.get_pipe('ner').move_names[-5:]"
   ]
  },
  {
   "cell_type": "code",
   "execution_count": 58,
   "metadata": {},
   "outputs": [],
   "source": [
    "test_data = [x[0] for x in TRAIN_DATA]"
   ]
  },
  {
   "cell_type": "code",
   "execution_count": null,
   "metadata": {},
   "outputs": [],
   "source": []
  },
  {
   "cell_type": "markdown",
   "metadata": {},
   "source": [
    "## Prediction Score Distribution (regardless of train or new dataset)\n",
    "\n",
    "1. some bug on the y-axis TODO"
   ]
  },
  {
   "cell_type": "code",
   "execution_count": 20,
   "metadata": {},
   "outputs": [
    {
     "data": {
      "image/png": "[encoded data removed]",
      "text/plain": [
       "<Figure size 720x720 with 1 Axes>"
      ]
     },
     "metadata": {
      "needs_background": "light"
     },
     "output_type": "display_data"
    }
   ],
   "source": [
    "NLP_Trainer.plot_predict_distribution(nlp=trainer.nlp, text=trainer.train_texts, save_png=None)"
   ]
  },
  {
   "cell_type": "markdown",
   "metadata": {},
   "source": [
    "## Get Top Loss Data\n",
    "\n",
    "1. currently only available for `type='train'`, new data prediction requires some math calcu TODO\n",
    "2. as method is static (available from class NLP_Trainer without init instance), need to prep input data such as `docs` (pass through nlp and clean label iterable `annos`\n",
    "3. Train data has True labels, hence able to use losses to sort worst prediction"
   ]
  },
  {
   "cell_type": "code",
   "execution_count": 21,
   "metadata": {},
   "outputs": [],
   "source": [
    "# testing on train-data\n",
    "\n",
    "docs_train = list(trainer.nlp.pipe((x for x in trainer.train_texts)))"
   ]
  },
  {
   "cell_type": "code",
   "execution_count": 22,
   "metadata": {},
   "outputs": [
    {
     "data": {
      "text/html": [
       "<div>\n",
       "<style scoped>\n",
       "    .dataframe tbody tr th:only-of-type {\n",
       "        vertical-align: middle;\n",
       "    }\n",
       "\n",
       "    .dataframe tbody tr th {\n",
       "        vertical-align: top;\n",
       "    }\n",
       "\n",
       "    .dataframe thead th {\n",
       "        text-align: right;\n",
       "    }\n",
       "</style>\n",
       "<table border=\"1\" class=\"dataframe\">\n",
       "  <thead>\n",
       "    <tr style=\"text-align: right;\">\n",
       "      <th></th>\n",
       "      <th>text</th>\n",
       "      <th>loss</th>\n",
       "      <th>true</th>\n",
       "      <th>pred</th>\n",
       "    </tr>\n",
       "  </thead>\n",
       "  <tbody>\n",
       "    <tr>\n",
       "      <td>1336</td>\n",
       "      <td>entertaining new</td>\n",
       "      <td>4.338858e-01</td>\n",
       "      <td>{'POS': 0, 'NEG': 1}</td>\n",
       "      <td>{'NEG': 0.06845736503601074, 'POS': 0.93154257...</td>\n",
       "    </tr>\n",
       "    <tr>\n",
       "      <td>322</td>\n",
       "      <td>bad movie near good original</td>\n",
       "      <td>2.968656e-01</td>\n",
       "      <td>{'POS': 1, 'NEG': 0}</td>\n",
       "      <td>{'NEG': 0.7705395817756653, 'POS': 0.229460373...</td>\n",
       "    </tr>\n",
       "    <tr>\n",
       "      <td>63</td>\n",
       "      <td>story unrequited love doesn sustain half hour</td>\n",
       "      <td>2.473763e-01</td>\n",
       "      <td>{'POS': 0, 'NEG': 1}</td>\n",
       "      <td>{'NEG': 0.29661351442337036, 'POS': 0.70338648...</td>\n",
       "    </tr>\n",
       "    <tr>\n",
       "      <td>536</td>\n",
       "      <td>kept wishing watching documentary wartime nava...</td>\n",
       "      <td>8.615337e-02</td>\n",
       "      <td>{'POS': 0, 'NEG': 1}</td>\n",
       "      <td>{'NEG': 0.5849015116691589, 'POS': 0.415098458...</td>\n",
       "    </tr>\n",
       "    <tr>\n",
       "      <td>658</td>\n",
       "      <td>narc remind brilliant crime dramas</td>\n",
       "      <td>8.231591e-02</td>\n",
       "      <td>{'POS': 0, 'NEG': 1}</td>\n",
       "      <td>{'NEG': 0.5942515134811401, 'POS': 0.405748486...</td>\n",
       "    </tr>\n",
       "    <tr>\n",
       "      <td>...</td>\n",
       "      <td>...</td>\n",
       "      <td>...</td>\n",
       "      <td>...</td>\n",
       "      <td>...</td>\n",
       "    </tr>\n",
       "    <tr>\n",
       "      <td>1074</td>\n",
       "      <td>flick cool crowd pleasing documentary</td>\n",
       "      <td>1.563014e-11</td>\n",
       "      <td>{'POS': 1, 'NEG': 0}</td>\n",
       "      <td>{'NEG': 5.579317985393573e-06, 'POS': 0.999994...</td>\n",
       "    </tr>\n",
       "    <tr>\n",
       "      <td>1440</td>\n",
       "      <td>lejos del paraíso mismo tiempo una fiesta para...</td>\n",
       "      <td>1.504334e-11</td>\n",
       "      <td>{'POS': 1, 'NEG': 0}</td>\n",
       "      <td>{'NEG': 5.486636382556753e-06, 'POS': 0.999994...</td>\n",
       "    </tr>\n",
       "    <tr>\n",
       "      <td>1482</td>\n",
       "      <td>stanley kwan directed best gay love stories be...</td>\n",
       "      <td>1.129288e-11</td>\n",
       "      <td>{'POS': 1, 'NEG': 0}</td>\n",
       "      <td>{'NEG': 4.73646878162981e-06, 'POS': 0.9999952...</td>\n",
       "    </tr>\n",
       "    <tr>\n",
       "      <td>1218</td>\n",
       "      <td>bold lyrical feature raja amari expands pat no...</td>\n",
       "      <td>8.752128e-12</td>\n",
       "      <td>{'POS': 1, 'NEG': 0}</td>\n",
       "      <td>{'NEG': 4.195261226414004e-06, 'POS': 0.999995...</td>\n",
       "    </tr>\n",
       "    <tr>\n",
       "      <td>228</td>\n",
       "      <td>superbly controlled passionate adaptation grah...</td>\n",
       "      <td>6.728162e-12</td>\n",
       "      <td>{'POS': 1, 'NEG': 0}</td>\n",
       "      <td>{'NEG': 3.640881232058746e-06, 'POS': 0.999996...</td>\n",
       "    </tr>\n",
       "  </tbody>\n",
       "</table>\n",
       "<p>1600 rows × 4 columns</p>\n",
       "</div>"
      ],
      "text/plain": [
       "                                                   text  ...                                               pred\n",
       "1336                                   entertaining new  ...  {'NEG': 0.06845736503601074, 'POS': 0.93154257...\n",
       "322                        bad movie near good original  ...  {'NEG': 0.7705395817756653, 'POS': 0.229460373...\n",
       "63        story unrequited love doesn sustain half hour  ...  {'NEG': 0.29661351442337036, 'POS': 0.70338648...\n",
       "536   kept wishing watching documentary wartime nava...  ...  {'NEG': 0.5849015116691589, 'POS': 0.415098458...\n",
       "658                  narc remind brilliant crime dramas  ...  {'NEG': 0.5942515134811401, 'POS': 0.405748486...\n",
       "...                                                 ...  ...                                                ...\n",
       "1074              flick cool crowd pleasing documentary  ...  {'NEG': 5.579317985393573e-06, 'POS': 0.999994...\n",
       "1440  lejos del paraíso mismo tiempo una fiesta para...  ...  {'NEG': 5.486636382556753e-06, 'POS': 0.999994...\n",
       "1482  stanley kwan directed best gay love stories be...  ...  {'NEG': 4.73646878162981e-06, 'POS': 0.9999952...\n",
       "1218  bold lyrical feature raja amari expands pat no...  ...  {'NEG': 4.195261226414004e-06, 'POS': 0.999995...\n",
       "228   superbly controlled passionate adaptation grah...  ...  {'NEG': 3.640881232058746e-06, 'POS': 0.999996...\n",
       "\n",
       "[1600 rows x 4 columns]"
      ]
     },
     "execution_count": 22,
     "metadata": {},
     "output_type": "execute_result"
    }
   ],
   "source": [
    "NLP_Trainer.get_top_loss(nlp=trainer.nlp, docs=docs_train, annos=trainer.train_labels, type='train')"
   ]
  }
 ],
 "metadata": {
  "kernelspec": {
   "display_name": "Python 3",
   "language": "python",
   "name": "python3"
  },
  "language_info": {
   "codemirror_mode": {
    "name": "ipython",
    "version": 3
   },
   "file_extension": ".py",
   "mimetype": "text/x-python",
   "name": "python",
   "nbconvert_exporter": "python",
   "pygments_lexer": "ipython3",
   "version": "3.7.4"
  }
 },
 "nbformat": 4,
 "nbformat_minor": 4
}
