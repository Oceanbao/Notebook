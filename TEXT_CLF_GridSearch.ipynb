{
 "cells": [
  {
   "cell_type": "markdown",
   "metadata": {},
   "source": [
    "```python\n",
    "from sklearn.feature_extraction.text import TfidfTransformer, TfidfVectorizer\n",
    "from sklearn.feature_selection import SelectFromModel\n",
    "from sklearn.feature_selection import SelectKBest, chi2\n",
    "from sklearn.linear_model import RidgeClassifier\n",
    "from sklearn.pipeline import Pipeline\n",
    "from sklearn.svm import LinearSVC\n",
    "from sklearn.linear_model import SGDClassifier\n",
    "from sklearn.linear_model import Perceptron\n",
    "from sklearn.linear_model import PassiveAggressiveClassifier\n",
    "from sklearn.naive_bayes import BernoulliNB, ComplementNB, MultinomialNB\n",
    "from sklearn.neighbors import KNeighborsClassifier\n",
    "from sklearn.neighbors import NearestCentroid\n",
    "from sklearn.ensemble import RandomForestClassifier\n",
    "from sklearn.utils.extmath import density\n",
    "from sklearn import metrics\n",
    "```"
   ]
  },
  {
   "cell_type": "markdown",
   "metadata": {},
   "source": [
    "# Setup Dask"
   ]
  },
  {
   "cell_type": "code",
   "execution_count": 3,
   "metadata": {},
   "outputs": [],
   "source": [
    "import dask\n",
    "\n",
    "dask.config.set({'temporary_directory': '~/dask_tmp_dir'})\n",
    "\n",
    "from distributed import Client, progress\n",
    "\n",
    "client = Client('172.17.0.2:8786')\n",
    "\n",
    "client.restart()"
   ]
  },
  {
   "cell_type": "code",
   "execution_count": null,
   "metadata": {},
   "outputs": [],
   "source": []
  },
  {
   "cell_type": "code",
   "execution_count": null,
   "metadata": {},
   "outputs": [],
   "source": []
  },
  {
   "cell_type": "code",
   "execution_count": null,
   "metadata": {},
   "outputs": [],
   "source": []
  },
  {
   "cell_type": "markdown",
   "metadata": {},
   "source": [
    "# 3 Versions of Preprocessing Text\n",
    "\n",
    "1. Bare Token: Sans grammer, sans semantics\n",
    "\n",
    "```python\n",
    "def token_cleaner(text):\n",
    "    text = strip_multiple_whitespaces(text)\n",
    "    text = remove_stopwords(text)\n",
    "    text = strip_numeric(text) \n",
    "    text = strip_non_alphanum(text)\n",
    "    text = strip_punctuation(text)\n",
    "    text = strip_short(text, minsize=3)\n",
    "    text = [ tok.lemma_.lower().strip() for tok in nlp(text, disable=['tagger', 'parser', 'ner']) ]\n",
    "    text = [ tok for tok in text if tok not in SYMBOLS and tok not in STOPLIST ]\n",
    "    return ' '.join(text)\n",
    "```\n",
    "\n",
    "2. Lemmas: Retain grammar and semantcis\n",
    "\n",
    "```python\n",
    "def token_cleaner(text):\n",
    "    text = strip_multiple_whitespaces(text)\n",
    "    text = strip_non_alphanum(text)\n",
    "    text = strip_punctuation(text)\n",
    "    text = strip_short(text, minsize=3) # optional\n",
    "    text = [ tok.lemma_.lower().strip() for tok in nlp(text, disable=['tagger', 'parser', 'ner']) ]\n",
    "    text = [ tok for tok in text if tok not in SYMBOLS ]\n",
    "    return ' '.join(text)\n",
    "```\n",
    "\n",
    "3. Clean Text: Remove non-text only\n",
    "\n",
    "```python\n",
    "def token_cleaner(text):\n",
    "    text = strip_multiple_whitespaces(text)\n",
    "    text = strip_non_alphanum(text)\n",
    "    text = strip_punctuation(text)\n",
    "    text = strip_short(text, minsize=3) # optional\n",
    "    text = [ tok.text.lower().strip() for tok in nlp(text, disable=['tagger', 'parser', 'ner']) ]\n",
    "    text = [ tok for tok in text if tok not in SYMBOLS ]\n",
    "    return ' '.join(text)\n",
    "```\n",
    "\n",
    "### SpaCy Trick nlp()\n",
    "\n",
    "```python\n",
    "def doc_to_spans(list_of_texts, join_string=' ||| '):\n",
    "    all_docs = nlp(' ||| '.join(list_of_texts))\n",
    "    split_inds = [i for i, token in enumerate(all_docs) if token.text == '|||'] + [len(all_docs)]\n",
    "    new_docs = [all_docs[(i + 1 if i > 0 else i):j] for i, j in zip([0] + split_inds[:-1], split_inds)]\n",
    "    return new_docs \n",
    "```"
   ]
  },
  {
   "cell_type": "code",
   "execution_count": null,
   "metadata": {},
   "outputs": [],
   "source": [
    "import nltk\n",
    "nltk.download('stopwords')"
   ]
  },
  {
   "cell_type": "code",
   "execution_count": 13,
   "metadata": {},
   "outputs": [
    {
     "name": "stdout",
     "output_type": "stream",
     "text": [
      "Collecting en_core_web_sm==2.1.0 from https://github.com/explosion/spacy-models/releases/download/en_core_web_sm-2.1.0/en_core_web_sm-2.1.0.tar.gz#egg=en_core_web_sm==2.1.0\n",
      "\u001b[?25l  Downloading https://github.com/explosion/spacy-models/releases/download/en_core_web_sm-2.1.0/en_core_web_sm-2.1.0.tar.gz (11.1MB)\n",
      "\u001b[K    100% |################################| 11.1MB 94.7MB/s \n",
      "\u001b[?25hInstalling collected packages: en-core-web-sm\n",
      "  Running setup.py install for en-core-web-sm ... \u001b[?25ldone\n",
      "\u001b[?25hSuccessfully installed en-core-web-sm-2.1.0\n",
      "\u001b[38;5;2m[+] Download and installation successful\u001b[0m\n",
      "You can now load the model via spacy.load('en_core_web_sm')\n"
     ]
    }
   ],
   "source": [
    "!python3 -m spacy download en_core_web_sm"
   ]
  },
  {
   "cell_type": "code",
   "execution_count": 1,
   "metadata": {},
   "outputs": [],
   "source": [
    "import pandas as pd\n",
    "import base64\n",
    "import string\n",
    "SYMBOLS = \" \".join(string.punctuation).split(\" \") + [\"-\", \"...\", \"”\", \"”\"]\n",
    "import re\n",
    "import spacy\n",
    "nlp = spacy.load('en_core_web_sm')\n",
    "from nltk.corpus import stopwords\n",
    "from sklearn.feature_extraction.stop_words import ENGLISH_STOP_WORDS \n",
    "STOPLIST = set(stopwords.words('english') + list(ENGLISH_STOP_WORDS))\n",
    "from gensim.parsing.preprocessing import remove_stopwords, strip_punctuation, strip_numeric\n",
    "from gensim.parsing.preprocessing import strip_non_alphanum, strip_short, strip_multiple_whitespaces"
   ]
  },
  {
   "cell_type": "code",
   "execution_count": 9,
   "metadata": {},
   "outputs": [],
   "source": [
    "def token_cleaner(text):\n",
    "    text = strip_multiple_whitespaces(text)\n",
    "    text = remove_stopwords(text)\n",
    "    text = strip_numeric(text) \n",
    "    text = strip_non_alphanum(text)\n",
    "    text = strip_punctuation(text)\n",
    "    text = strip_short(text, minsize=3)\n",
    "    text = [ tok.lemma_.lower().strip() for tok in nlp(text, disable=['tagger', 'parser', 'ner']) ]\n",
    "    text = [ tok for tok in text if tok not in SYMBOLS and tok not in STOPLIST ]\n",
    "    return ' '.join(text)"
   ]
  },
  {
   "cell_type": "code",
   "execution_count": 10,
   "metadata": {},
   "outputs": [
    {
     "data": {
      "text/html": [
       "<div>\n",
       "<style scoped>\n",
       "    .dataframe tbody tr th:only-of-type {\n",
       "        vertical-align: middle;\n",
       "    }\n",
       "\n",
       "    .dataframe tbody tr th {\n",
       "        vertical-align: top;\n",
       "    }\n",
       "\n",
       "    .dataframe thead th {\n",
       "        text-align: right;\n",
       "    }\n",
       "</style>\n",
       "<table border=\"1\" class=\"dataframe\">\n",
       "  <thead>\n",
       "    <tr style=\"text-align: right;\">\n",
       "      <th></th>\n",
       "      <th>sentences</th>\n",
       "      <th>sentiment</th>\n",
       "      <th>id</th>\n",
       "    </tr>\n",
       "  </thead>\n",
       "  <tbody>\n",
       "    <tr>\n",
       "      <th>0</th>\n",
       "      <td>béart and berling are both superb , while hupp...</td>\n",
       "      <td>1</td>\n",
       "      <td>0</td>\n",
       "    </tr>\n",
       "    <tr>\n",
       "      <th>1</th>\n",
       "      <td>not only a coming-of-age story and cautionary ...</td>\n",
       "      <td>1</td>\n",
       "      <td>1</td>\n",
       "    </tr>\n",
       "    <tr>\n",
       "      <th>2</th>\n",
       "      <td>at the end of the movie , my 6-year-old nephew...</td>\n",
       "      <td>1</td>\n",
       "      <td>2</td>\n",
       "    </tr>\n",
       "    <tr>\n",
       "      <th>3</th>\n",
       "      <td>even if you can't pronounce \" gyro \" correctly...</td>\n",
       "      <td>1</td>\n",
       "      <td>3</td>\n",
       "    </tr>\n",
       "    <tr>\n",
       "      <th>4</th>\n",
       "      <td>an immensely entertaining look at some of the ...</td>\n",
       "      <td>1</td>\n",
       "      <td>4</td>\n",
       "    </tr>\n",
       "  </tbody>\n",
       "</table>\n",
       "</div>"
      ],
      "text/plain": [
       "                                           sentences  sentiment  id\n",
       "0  béart and berling are both superb , while hupp...          1   0\n",
       "1  not only a coming-of-age story and cautionary ...          1   1\n",
       "2  at the end of the movie , my 6-year-old nephew...          1   2\n",
       "3  even if you can't pronounce \" gyro \" correctly...          1   3\n",
       "4  an immensely entertaining look at some of the ...          1   4"
      ]
     },
     "execution_count": 10,
     "metadata": {},
     "output_type": "execute_result"
    }
   ],
   "source": [
    "import pandas as pd\n",
    "import numpy as np\n",
    "train_raw = pd.read_csv('kaggle_train.csv', dtype={'sentences': str})\n",
    "train_raw.head()"
   ]
  },
  {
   "cell_type": "code",
   "execution_count": 11,
   "metadata": {},
   "outputs": [],
   "source": [
    "train_raw['sentences'] = train_raw['sentences'].apply(token_cleaner)"
   ]
  },
  {
   "cell_type": "code",
   "execution_count": 12,
   "metadata": {},
   "outputs": [],
   "source": [
    "train_raw.head()\n",
    "del train_raw['id']"
   ]
  },
  {
   "cell_type": "code",
   "execution_count": 64,
   "metadata": {},
   "outputs": [],
   "source": [
    "from sklearn.model_selection import train_test_split\n",
    "X_train, X_test, y_train, y_test = train_test_split(train_raw['sentences'], \n",
    "                                                    train_raw['sentiment'], \n",
    "                                                    random_state=42, \n",
    "                                                    shuffle=True)"
   ]
  },
  {
   "cell_type": "code",
   "execution_count": 15,
   "metadata": {},
   "outputs": [],
   "source": [
    "# Standalone Vectoriser\n",
    "\n",
    "from sklearn.feature_extraction.text import TfidfTransformer, TfidfVectorizer\n",
    "vectorizer_tfidf = TfidfVectorizer(sublinear_tf=True, max_df=0.5)"
   ]
  },
  {
   "cell_type": "code",
   "execution_count": 17,
   "metadata": {},
   "outputs": [],
   "source": [
    "X_train, X_test = vectorizer_tfidf.fit_transform(X_train), vectorizer_tfidf.transform(X_test)"
   ]
  },
  {
   "cell_type": "code",
   "execution_count": null,
   "metadata": {},
   "outputs": [],
   "source": []
  },
  {
   "cell_type": "code",
   "execution_count": null,
   "metadata": {},
   "outputs": [],
   "source": []
  },
  {
   "cell_type": "markdown",
   "metadata": {},
   "source": [
    "# Dask GLM and GridSearch"
   ]
  },
  {
   "cell_type": "code",
   "execution_count": 20,
   "metadata": {},
   "outputs": [
    {
     "name": "stdout",
     "output_type": "stream",
     "text": [
      "Collecting dask-ml[complete]\n",
      "  Using cached https://files.pythonhosted.org/packages/da/a4/3a54ca439a8d07d5582e076344cf27a3b0c77e0b63bee4824eb8fec3201b/dask_ml-0.12.0-py2.py3-none-any.whl\n",
      "Collecting numba (from dask-ml[complete])\n",
      "  Using cached https://files.pythonhosted.org/packages/8d/c6/b28f5cada2aca31018a8bb210065f9b6a3174d25a80a9961c7bd3e831c3e/numba-0.43.1-cp36-cp36m-manylinux1_x86_64.whl\n",
      "Requirement already satisfied: scikit-learn>=0.20 in /usr/local/lib/python3.6/dist-packages (from dask-ml[complete]) (0.20.3)\n",
      "Collecting dask-glm (from dask-ml[complete])\n",
      "  Using cached https://files.pythonhosted.org/packages/cb/ee/36c6e0e7b51e08406e5c3bb036f35adb77bd0a89335437b2e6f03c948f1a/dask_glm-0.2.0-py2.py3-none-any.whl\n",
      "Requirement already satisfied: pandas>=0.23.4 in /usr/local/lib/python3.6/dist-packages (from dask-ml[complete]) (0.24.2)\n",
      "Requirement already satisfied: distributed>=1.25.0 in /usr/local/lib/python3.6/dist-packages (from dask-ml[complete]) (1.26.1)\n",
      "Requirement already satisfied: numpy in /usr/local/lib/python3.6/dist-packages (from dask-ml[complete]) (1.16.2)\n",
      "Requirement already satisfied: scipy in /usr/local/lib/python3.6/dist-packages (from dask-ml[complete]) (1.2.1)\n",
      "Collecting multipledispatch>=0.4.9 (from dask-ml[complete])\n",
      "  Using cached https://files.pythonhosted.org/packages/89/79/429ecef45fd5e4504f7474d4c3c3c4668c267be3370e4c2fd33e61506833/multipledispatch-0.6.0-py3-none-any.whl\n",
      "Requirement already satisfied: packaging in /usr/local/lib/python3.6/dist-packages (from dask-ml[complete]) (19.0)\n",
      "Requirement already satisfied: six in /usr/local/lib/python3.6/dist-packages (from dask-ml[complete]) (1.12.0)\n",
      "Requirement already satisfied: dask[array]>=1.0.0 in /usr/local/lib/python3.6/dist-packages (from dask-ml[complete]) (1.1.5)\n",
      "Collecting dask-tensorflow; extra == \"complete\" (from dask-ml[complete])\n",
      "  Using cached https://files.pythonhosted.org/packages/00/a5/6cd58713aacf16fc8ef801e3020894a1faba7710c19c047c3e9582081b20/dask_tensorflow-0.0.2-py2.py3-none-any.whl\n",
      "Collecting xgboost; extra == \"complete\" (from dask-ml[complete])\n",
      "  Using cached https://files.pythonhosted.org/packages/6a/49/7e10686647f741bd9c8918b0decdb94135b542fe372ca1100739b8529503/xgboost-0.82-py2.py3-none-manylinux1_x86_64.whl\n",
      "Collecting dask-xgboost; extra == \"complete\" (from dask-ml[complete])\n",
      "Requirement already satisfied: tensorflow; extra == \"complete\" in /usr/local/lib/python3.6/dist-packages (from dask-ml[complete]) (1.13.1)\n",
      "Collecting llvmlite>=0.28.0dev0 (from numba->dask-ml[complete])\n",
      "  Using cached https://files.pythonhosted.org/packages/b5/f3/6d7f49db45df0276166f99723aa10310862a3783556cd284793da478afed/llvmlite-0.28.0-1-cp36-cp36m-manylinux1_x86_64.whl\n",
      "Requirement already satisfied: cloudpickle>=0.2.2 in /usr/local/lib/python3.6/dist-packages (from dask-glm->dask-ml[complete]) (0.8.1)\n",
      "Requirement already satisfied: python-dateutil>=2.5.0 in /usr/local/lib/python3.6/dist-packages (from pandas>=0.23.4->dask-ml[complete]) (2.8.0)\n",
      "Requirement already satisfied: pytz>=2011k in /usr/local/lib/python3.6/dist-packages (from pandas>=0.23.4->dask-ml[complete]) (2018.9)\n",
      "Requirement already satisfied: toolz>=0.7.4 in /usr/local/lib/python3.6/dist-packages (from distributed>=1.25.0->dask-ml[complete]) (0.9.0)\n",
      "Requirement already satisfied: msgpack in /usr/local/lib/python3.6/dist-packages (from distributed>=1.25.0->dask-ml[complete]) (0.6.1)\n",
      "Requirement already satisfied: click>=6.6 in /usr/local/lib/python3.6/dist-packages (from distributed>=1.25.0->dask-ml[complete]) (7.0)\n",
      "Requirement already satisfied: tornado>=5 in /usr/local/lib/python3.6/dist-packages (from distributed>=1.25.0->dask-ml[complete]) (6.0.2)\n",
      "Requirement already satisfied: tblib in /usr/local/lib/python3.6/dist-packages (from distributed>=1.25.0->dask-ml[complete]) (1.3.2)\n",
      "Requirement already satisfied: pyyaml in /usr/local/lib/python3.6/dist-packages (from distributed>=1.25.0->dask-ml[complete]) (5.1)\n",
      "Requirement already satisfied: psutil>=5.0 in /usr/local/lib/python3.6/dist-packages (from distributed>=1.25.0->dask-ml[complete]) (5.6.1)\n",
      "Requirement already satisfied: sortedcontainers!=2.0.0,!=2.0.1 in /usr/local/lib/python3.6/dist-packages (from distributed>=1.25.0->dask-ml[complete]) (2.1.0)\n",
      "Requirement already satisfied: zict>=0.1.3 in /usr/local/lib/python3.6/dist-packages (from distributed>=1.25.0->dask-ml[complete]) (0.1.4)\n",
      "Requirement already satisfied: pyparsing>=2.0.2 in /usr/local/lib/python3.6/dist-packages (from packaging->dask-ml[complete]) (2.3.1)\n",
      "Requirement already satisfied: astor>=0.6.0 in /usr/local/lib/python3.6/dist-packages (from tensorflow; extra == \"complete\"->dask-ml[complete]) (0.7.1)\n",
      "Requirement already satisfied: tensorflow-estimator<1.14.0rc0,>=1.13.0 in /usr/local/lib/python3.6/dist-packages (from tensorflow; extra == \"complete\"->dask-ml[complete]) (1.13.0)\n",
      "Requirement already satisfied: gast>=0.2.0 in /usr/local/lib/python3.6/dist-packages (from tensorflow; extra == \"complete\"->dask-ml[complete]) (0.2.2)\n",
      "Requirement already satisfied: tensorboard<1.14.0,>=1.13.0 in /usr/local/lib/python3.6/dist-packages (from tensorflow; extra == \"complete\"->dask-ml[complete]) (1.13.1)\n",
      "Requirement already satisfied: protobuf>=3.6.1 in /usr/local/lib/python3.6/dist-packages (from tensorflow; extra == \"complete\"->dask-ml[complete]) (3.7.1)\n",
      "Requirement already satisfied: absl-py>=0.1.6 in /usr/local/lib/python3.6/dist-packages (from tensorflow; extra == \"complete\"->dask-ml[complete]) (0.7.1)\n",
      "Requirement already satisfied: termcolor>=1.1.0 in /usr/local/lib/python3.6/dist-packages (from tensorflow; extra == \"complete\"->dask-ml[complete]) (1.1.0)\n",
      "Requirement already satisfied: keras-preprocessing>=1.0.5 in /usr/local/lib/python3.6/dist-packages (from tensorflow; extra == \"complete\"->dask-ml[complete]) (1.0.9)\n",
      "Requirement already satisfied: grpcio>=1.8.6 in /usr/local/lib/python3.6/dist-packages (from tensorflow; extra == \"complete\"->dask-ml[complete]) (1.19.0)\n",
      "Requirement already satisfied: keras-applications>=1.0.6 in /usr/local/lib/python3.6/dist-packages (from tensorflow; extra == \"complete\"->dask-ml[complete]) (1.0.7)\n",
      "Requirement already satisfied: wheel>=0.26 in /usr/lib/python3/dist-packages (from tensorflow; extra == \"complete\"->dask-ml[complete]) (0.30.0)\n",
      "Requirement already satisfied: heapdict in /usr/local/lib/python3.6/dist-packages (from zict>=0.1.3->distributed>=1.25.0->dask-ml[complete]) (1.0.0)\n",
      "Requirement already satisfied: mock>=2.0.0 in /usr/local/lib/python3.6/dist-packages (from tensorflow-estimator<1.14.0rc0,>=1.13.0->tensorflow; extra == \"complete\"->dask-ml[complete]) (2.0.0)\n",
      "Requirement already satisfied: markdown>=2.6.8 in /usr/local/lib/python3.6/dist-packages (from tensorboard<1.14.0,>=1.13.0->tensorflow; extra == \"complete\"->dask-ml[complete]) (3.1)\n",
      "Requirement already satisfied: werkzeug>=0.11.15 in /usr/local/lib/python3.6/dist-packages (from tensorboard<1.14.0,>=1.13.0->tensorflow; extra == \"complete\"->dask-ml[complete]) (0.15.1)\n",
      "Requirement already satisfied: setuptools in /usr/lib/python3/dist-packages (from protobuf>=3.6.1->tensorflow; extra == \"complete\"->dask-ml[complete]) (39.0.1)\n",
      "Requirement already satisfied: h5py in /usr/local/lib/python3.6/dist-packages (from keras-applications>=1.0.6->tensorflow; extra == \"complete\"->dask-ml[complete]) (2.9.0)\n",
      "Requirement already satisfied: pbr>=0.11 in /usr/local/lib/python3.6/dist-packages (from mock>=2.0.0->tensorflow-estimator<1.14.0rc0,>=1.13.0->tensorflow; extra == \"complete\"->dask-ml[complete]) (5.1.3)\n",
      "Installing collected packages: llvmlite, numba, multipledispatch, dask-glm, dask-tensorflow, xgboost, dask-xgboost, dask-ml\n",
      "Successfully installed dask-glm-0.2.0 dask-ml-0.12.0 dask-tensorflow-0.0.2 dask-xgboost-0.1.5 llvmlite-0.28.0 multipledispatch-0.6.0 numba-0.43.1 xgboost-0.82\n"
     ]
    }
   ],
   "source": [
    "!pip install dask-ml[complete]   # install all optional dependencies"
   ]
  },
  {
   "cell_type": "code",
   "execution_count": 71,
   "metadata": {},
   "outputs": [],
   "source": [
    "import pandas as pd\n",
    "import dask.array as da\n",
    "import dask.dataframe as dd\n",
    "\n",
    "from dask import persist, compute\n",
    "from dask_glm.estimators import LogisticRegression"
   ]
  },
  {
   "cell_type": "code",
   "execution_count": 72,
   "metadata": {},
   "outputs": [],
   "source": [
    "X_train, y_train, X_test, y_test = persist(X_train, y_train, X_test, y_test)"
   ]
  },
  {
   "cell_type": "code",
   "execution_count": 73,
   "metadata": {},
   "outputs": [],
   "source": [
    "pipeline = Pipeline([\n",
    "    ('vect', TfidfVectorizer()),\n",
    "    ('tfidf', TfidfTransformer()),\n",
    "    ('clf', SGDClassifier()),\n",
    "])"
   ]
  },
  {
   "cell_type": "code",
   "execution_count": 95,
   "metadata": {},
   "outputs": [],
   "source": [
    "parameters = {\n",
    "    'vect__max_features': (None, 5000, 10000, 50000),\n",
    "    'vect__ngram_range': ((1, 1), (1, 2)),  # unigrams or bigrams\n",
    "    #'tfidf__use_idf': (True),\n",
    "    'tfidf__norm': ('l1', 'l2'),\n",
    "    'clf__max_iter': (5,),\n",
    "    'clf__alpha': [1e-4, 1e-3, 1e-2, 1e-1, 1e0, 1e1, 1e2, 1e3],\n",
    "    'clf__penalty': ('l2', 'elasticnet'),\n",
    "    'clf__n_iter': [1000],\n",
    "    'clf__max_iter': (10, 50, 80),\n",
    "    'clf__loss': ['log']\n",
    "}"
   ]
  },
  {
   "cell_type": "markdown",
   "metadata": {},
   "source": [
    "```python\n",
    "from sklearn.pipeline import make_pipeline\n",
    "\n",
    "pipeline = make_pipeline(CountVectorizer(),\n",
    "                         TfidfTransformer(),\n",
    "                         SGDClassifier())\n",
    " \n",
    "pipe = make_pipeline(\n",
    "    CategoricalEncoder({\"VendorID\": [1, 2],\n",
    "                        \"payment_type\": [1, 2, 3, 4, 5]}),\n",
    "    DummyEncoder(),\n",
    "    StandardScaler(columns=['passenger_count', 'trip_distance', 'fare_amount']),\n",
    "    LogisticRegression(fit_intercept=False)\n",
    ")\n",
    "```"
   ]
  },
  {
   "cell_type": "code",
   "execution_count": 87,
   "metadata": {},
   "outputs": [],
   "source": [
    "from dask_ml.model_selection import GridSearchCV, RandomizedSearchCV"
   ]
  },
  {
   "cell_type": "code",
   "execution_count": 96,
   "metadata": {},
   "outputs": [],
   "source": [
    "#clf = GridSearchCV(pipeline, param_grid=parameters, cv=5, n_jobs=-1)\n",
    "clf = RandomizedSearchCV(pipeline, param_distributions=parameters, cv=5, n_iter=50, n_jobs=-1)"
   ]
  },
  {
   "cell_type": "code",
   "execution_count": 97,
   "metadata": {},
   "outputs": [
    {
     "data": {
      "text/plain": [
       "RandomizedSearchCV(cache_cv=True, cv=5, error_score='raise',\n",
       "          estimator=Pipeline(memory=None,\n",
       "     steps=[('vect', TfidfVectorizer(analyzer='word', binary=False, decode_error='strict',\n",
       "        dtype=<class 'numpy.float64'>, encoding='utf-8', input='content',\n",
       "        lowercase=True, max_df=1.0, max_features=None, min_df=1,\n",
       "        ngram_range=(1, 1), norm='l2', preprocessor=None, smooth_idf=True,\n",
       "...m_state=None, shuffle=True, tol=None,\n",
       "       validation_fraction=0.1, verbose=0, warm_start=False))]),\n",
       "          iid=True, n_iter=50, n_jobs=-1,\n",
       "          param_distributions={'vect__max_features': (None, 5000, 10000, 50000), 'vect__ngram_range': ((1, 1), (1, 2)), 'tfidf__norm': ('l1', 'l2'), 'clf__max_iter': (10, 50, 80), 'clf__alpha': [0.0001, 0.001, 0.01, 0.1, 1.0, 10.0, 100.0, 1000.0], 'clf__penalty': ('l2', 'elasticnet'), 'clf__n_iter': [1000], 'clf__loss': ['log']},\n",
       "          random_state=None, refit=True, return_train_score='warn',\n",
       "          scheduler=None, scoring=None)"
      ]
     },
     "execution_count": 97,
     "metadata": {},
     "output_type": "execute_result"
    }
   ],
   "source": [
    "clf.fit(X_train, y_train)"
   ]
  },
  {
   "cell_type": "code",
   "execution_count": 98,
   "metadata": {},
   "outputs": [
    {
     "name": "stdout",
     "output_type": "stream",
     "text": [
      "Best score: 0.746\n",
      "Best parameters set:\n",
      "\tclf__alpha: 0.001\n",
      "\tclf__loss: 'log'\n",
      "\tclf__max_iter: 50\n",
      "\tclf__n_iter: 1000\n",
      "\tclf__penalty: 'l2'\n",
      "\ttfidf__norm: 'l2'\n",
      "\tvect__max_features: 10000\n",
      "\tvect__ngram_range: (1, 1)\n"
     ]
    }
   ],
   "source": [
    "print(\"Best score: %0.3f\" % clf.best_score_)\n",
    "print(\"Best parameters set:\")\n",
    "best_parameters = clf.best_estimator_.get_params()\n",
    "for param_name in sorted(parameters.keys()):\n",
    "    print(\"\\t%s: %r\" % (param_name, best_parameters[param_name]))"
   ]
  },
  {
   "cell_type": "code",
   "execution_count": 99,
   "metadata": {},
   "outputs": [
    {
     "name": "stdout",
     "output_type": "stream",
     "text": [
      "accuracy: 0.7454289732770746\n",
      "\n",
      "F1-score: 0.7430194036914339\n"
     ]
    }
   ],
   "source": [
    "print(f'accuracy: {metrics.accuracy_score(y_test, clf.predict(X_test))}')\n",
    "print()\n",
    "print(f'F1-score: {metrics.f1_score(y_test, clf.predict(X_test))}')"
   ]
  },
  {
   "cell_type": "code",
   "execution_count": null,
   "metadata": {},
   "outputs": [],
   "source": []
  },
  {
   "cell_type": "code",
   "execution_count": null,
   "metadata": {},
   "outputs": [],
   "source": []
  },
  {
   "cell_type": "markdown",
   "metadata": {},
   "source": [
    "# Dask Joblib"
   ]
  },
  {
   "cell_type": "markdown",
   "metadata": {},
   "source": [
    "```python\n",
    "import dask_ml.joblib  # registers joblib plugin\n",
    "from dask.distributed import Client\n",
    "\n",
    "#client = Client(processes=False)             # create local cluster\n",
    "client = Client(\"scheduler-address:8786\")  # or connect to remote cluster\n",
    "\n",
    "from joblib import Parallel, parallel_backend\n",
    "import time\n",
    "\n",
    "# Embarrassingly Parallel\n",
    "from math import sqrt\n",
    "[sqrt(i ** 2) for i in range(10)]\n",
    "from joblib import Parallel, delayed\n",
    "Parallel(n_jobs=2)(delayed(sqrt)(i ** 2) for i in range(10))\n",
    "\n",
    "from joblib import parallel_backend\n",
    "with parallel_backend('threading', n_jobs=2):\n",
    "    Parallel()(delayed(sqrt)(i ** 2) for i in range(10))\n",
    "\n",
    "def long_running_function(i):\n",
    "    time.sleep(.1)\n",
    "    return i\n",
    "\n",
    "with joblib.parallel_backend('dask'):\n",
    "    joblib.Parallel(verbose=100)(\n",
    "        joblib.delayed(long_running_function)(i)\n",
    "        for i in range(10))\n",
    "\n",
    "# DASK-JOBLIB-SKL\n",
    "with parallel_backend('dask'):\n",
    "    # normal Joblib code\n",
    "\n",
    "import dask_ml.joblib  # registers joblib plugin\n",
    "# Scikit-learn bundles joblib, so you need to import from\n",
    "# `sklearn.externals.joblib` instead of `joblib` directly\n",
    "from sklearn.externals.joblib import parallel_backend\n",
    "from sklearn.datasets import load_digits\n",
    "from sklearn.grid_search import RandomizedSearchCV\n",
    "from sklearn.svm import SVC\n",
    "import numpy as np\n",
    "\n",
    "digits = load_digits()\n",
    "\n",
    "param_space = {\n",
    "    'C': np.logspace(-6, 6, 13),\n",
    "    'gamma': np.logspace(-8, 8, 17),\n",
    "    'tol': np.logspace(-4, -1, 4),\n",
    "    'class_weight': [None, 'balanced'],\n",
    "}\n",
    "\n",
    "model = SVC(kernel='rbf')\n",
    "search = RandomizedSearchCV(model, param_space, cv=3, n_iter=50, verbose=10)\n",
    "\n",
    "with parallel_backend('dask'):\n",
    "    search.fit(digits.data, digits.target)\n",
    "    \n",
    "# Serialize the training data only once to each worker\n",
    "with parallel_backend('dask', scatter=[digits.data, digits.target]):\n",
    "    search.fit(digits.data, digits.target)\n",
    "```"
   ]
  },
  {
   "cell_type": "markdown",
   "metadata": {},
   "source": [
    "### TQDM\n",
    "\n",
    "```python\n",
    "from tqdm import tqdm\n",
    "\n",
    "for i in tqdm(range(10)):\n",
    "    [i*2 for j in range(100)]\n",
    "```"
   ]
  },
  {
   "cell_type": "markdown",
   "metadata": {},
   "source": [
    "# Benchmark Pythonic Parallel Libs\n",
    "\n",
    "```python\n",
    "import multiprocessing as mp\n",
    "from joblib import Parallel, delayed\n",
    "import numpy as np\n",
    "pool = mp.Pool(processes=num_cores)\n",
    "import concurrent.features\n",
    "\n",
    "\n",
    "def my_sum(n): return sum(range(n))\n",
    "\n",
    "num_cores = mp.cpu_count()\n",
    "\n",
    "# With no parallelization, 13.6 seconds per loop:\n",
    "%%timeit -n 3 -r 3\n",
    "for i in range(48):\n",
    "    my_sum(10000000)\n",
    "\n",
    "#With joblib, 736ms per loop:\n",
    "%%timeit -n 3 -r 3\n",
    "results = Parallel(n_jobs=num_cores)(delayed(my_sum)(10000000) for i in range(num_cores))\n",
    "\n",
    "#With multiprocessing package, 815ms per loop:\n",
    "%%timeit -n 3 -r 3\n",
    "results = [pool.apply_async(my_sum,args=(10000000,)) for i in range(num_cores)]\n",
    "output = [p.get() for p in results]\n",
    "\n",
    "#With concurrent.futures, 1.29s per loop:\n",
    "%%timeit -n 3 -r 3\n",
    "with concurrent.futures.ProcessPoolExecutor() as executor:\n",
    "    output = executor.map(my_sum,[10000000]*num_cores)\n",
    "```"
   ]
  },
  {
   "cell_type": "code",
   "execution_count": null,
   "metadata": {},
   "outputs": [],
   "source": []
  },
  {
   "cell_type": "code",
   "execution_count": null,
   "metadata": {},
   "outputs": [],
   "source": []
  },
  {
   "cell_type": "code",
   "execution_count": null,
   "metadata": {},
   "outputs": [],
   "source": []
  },
  {
   "cell_type": "markdown",
   "metadata": {},
   "source": [
    "# SKL Benchmark"
   ]
  },
  {
   "cell_type": "code",
   "execution_count": 26,
   "metadata": {},
   "outputs": [],
   "source": [
    "from sklearn.feature_selection import SelectFromModel\n",
    "from sklearn.feature_selection import SelectKBest, chi2\n",
    "from sklearn.linear_model import RidgeClassifier\n",
    "from sklearn.pipeline import Pipeline\n",
    "from sklearn.svm import LinearSVC\n",
    "from sklearn.linear_model import SGDClassifier\n",
    "from sklearn.linear_model import Perceptron\n",
    "from sklearn.linear_model import PassiveAggressiveClassifier\n",
    "from sklearn.naive_bayes import BernoulliNB, ComplementNB, MultinomialNB\n",
    "from sklearn.neighbors import KNeighborsClassifier\n",
    "from sklearn.neighbors import NearestCentroid\n",
    "from sklearn.ensemble import RandomForestClassifier\n",
    "from sklearn.utils.extmath import density\n",
    "from sklearn import metrics"
   ]
  },
  {
   "cell_type": "code",
   "execution_count": 22,
   "metadata": {},
   "outputs": [],
   "source": [
    "from sklearn.externals.joblib import parallel_backend"
   ]
  },
  {
   "cell_type": "code",
   "execution_count": null,
   "metadata": {},
   "outputs": [],
   "source": [
    "from joblib import Parallel, parallel_backend"
   ]
  },
  {
   "cell_type": "code",
   "execution_count": 23,
   "metadata": {},
   "outputs": [],
   "source": [
    "import logging\n",
    "import numpy as np\n",
    "from optparse import OptionParser\n",
    "import sys\n",
    "from time import time\n",
    "import matplotlib.pyplot as plt"
   ]
  },
  {
   "cell_type": "code",
   "execution_count": 24,
   "metadata": {},
   "outputs": [],
   "source": [
    "def benchmark(clf):\n",
    "    print('_' * 80)\n",
    "    print(\"Training: \")\n",
    "    print(clf)\n",
    "    t0 = time()\n",
    "    clf.fit(X_train, y_train)\n",
    "    train_time = time() - t0\n",
    "    print(\"train time: %0.3fs\" % train_time)\n",
    "\n",
    "    t0 = time()\n",
    "    pred = clf.predict(X_test)\n",
    "    test_time = time() - t0\n",
    "    print(\"test time:  %0.3fs\" % test_time)\n",
    "\n",
    "    score = metrics.accuracy_score(y_test, pred)\n",
    "    print(\"accuracy:   %0.3f\" % score)\n",
    "\n",
    "    if hasattr(clf, 'coef_'):\n",
    "        print(\"dimensionality: %d\" % clf.coef_.shape[1])\n",
    "        print(\"density: %f\" % density(clf.coef_))\n",
    "\n",
    "    print(\"confusion matrix:\")\n",
    "    print(metrics.confusion_matrix(y_test, pred))\n",
    "    print()\n",
    "    clf_descr = str(clf).split('(')[0]\n",
    "    return clf_descr, score, train_time, test_time"
   ]
  },
  {
   "cell_type": "code",
   "execution_count": 53,
   "metadata": {},
   "outputs": [
    {
     "name": "stdout",
     "output_type": "stream",
     "text": [
      "================================================================================\n",
      "Ridge Classifier\n",
      "________________________________________________________________________________\n",
      "Training: \n",
      "RidgeClassifier(alpha=1.0, class_weight=None, copy_X=True, fit_intercept=True,\n",
      "        max_iter=None, normalize=False, random_state=None, solver='sag',\n",
      "        tol=0.01)\n",
      "train time: 0.052s\n",
      "test time:  0.001s\n",
      "accuracy:   0.730\n",
      "dimensionality: 10874\n",
      "density: 1.000000\n",
      "confusion matrix:\n",
      "[[769 282]\n",
      " [294 788]]\n",
      "\n",
      "================================================================================\n",
      "Perceptron\n",
      "________________________________________________________________________________\n",
      "Training: \n",
      "Perceptron(alpha=0.0001, class_weight=None, early_stopping=False, eta0=1.0,\n",
      "      fit_intercept=True, max_iter=50, n_iter=None, n_iter_no_change=5,\n",
      "      n_jobs=None, penalty=None, random_state=0, shuffle=True, tol=0.001,\n",
      "      validation_fraction=0.1, verbose=0, warm_start=False)\n",
      "train time: 0.009s\n",
      "test time:  0.001s\n",
      "accuracy:   0.676\n",
      "dimensionality: 10874\n",
      "density: 0.788302\n",
      "confusion matrix:\n",
      "[[729 322]\n",
      " [369 713]]\n",
      "\n",
      "================================================================================\n",
      "Passive-Aggressive\n",
      "________________________________________________________________________________\n",
      "Training: \n",
      "PassiveAggressiveClassifier(C=1.0, average=False, class_weight=None,\n",
      "              early_stopping=False, fit_intercept=True, loss='hinge',\n",
      "              max_iter=50, n_iter=None, n_iter_no_change=5, n_jobs=None,\n",
      "              random_state=None, shuffle=True, tol=0.001,\n",
      "              validation_fraction=0.1, verbose=0, warm_start=False)\n",
      "train time: 0.025s\n",
      "test time:  0.001s\n",
      "accuracy:   0.681\n",
      "dimensionality: 10874\n",
      "density: 0.969101\n",
      "confusion matrix:\n",
      "[[712 339]\n",
      " [341 741]]\n",
      "\n",
      "================================================================================\n",
      "kNN\n",
      "________________________________________________________________________________\n",
      "Training: \n",
      "KNeighborsClassifier(algorithm='auto', leaf_size=30, metric='minkowski',\n",
      "           metric_params=None, n_jobs=None, n_neighbors=10, p=2,\n",
      "           weights='uniform')\n",
      "train time: 0.002s\n",
      "test time:  1.117s\n",
      "accuracy:   0.625\n",
      "confusion matrix:\n",
      "[[957  94]\n",
      " [705 377]]\n",
      "\n",
      "================================================================================\n",
      "Random forest\n",
      "________________________________________________________________________________\n",
      "Training: \n",
      "RandomForestClassifier(bootstrap=True, class_weight=None, criterion='gini',\n",
      "            max_depth=None, max_features='auto', max_leaf_nodes=None,\n",
      "            min_impurity_decrease=0.0, min_impurity_split=None,\n",
      "            min_samples_leaf=1, min_samples_split=2,\n",
      "            min_weight_fraction_leaf=0.0, n_estimators=100, n_jobs=None,\n",
      "            oob_score=False, random_state=None, verbose=0,\n",
      "            warm_start=False)\n",
      "train time: 3.100s\n",
      "test time:  0.106s\n",
      "accuracy:   0.688\n",
      "confusion matrix:\n",
      "[[792 259]\n",
      " [407 675]]\n",
      "\n"
     ]
    }
   ],
   "source": [
    "results = []\n",
    "with parallel_backend('dask'):\n",
    "    for clf, name in (\n",
    "            (RidgeClassifier(tol=1e-2, solver=\"sag\"), \"Ridge Classifier\"),\n",
    "            (Perceptron(max_iter=50, tol=1e-3), \"Perceptron\"),\n",
    "            (PassiveAggressiveClassifier(max_iter=50, tol=1e-3),\n",
    "             \"Passive-Aggressive\"),\n",
    "            (KNeighborsClassifier(n_neighbors=10), \"kNN\"),\n",
    "            (RandomForestClassifier(n_estimators=100), \"Random forest\")):\n",
    "        print('=' * 80)\n",
    "        print(name)\n",
    "        results.append(benchmark(clf))"
   ]
  },
  {
   "cell_type": "code",
   "execution_count": 54,
   "metadata": {},
   "outputs": [
    {
     "name": "stdout",
     "output_type": "stream",
     "text": [
      "================================================================================\n",
      "L2 penalty\n",
      "________________________________________________________________________________\n",
      "Training: \n",
      "LinearSVC(C=1.0, class_weight=None, dual=False, fit_intercept=True,\n",
      "     intercept_scaling=1, loss='squared_hinge', max_iter=1000,\n",
      "     multi_class='ovr', penalty='l2', random_state=None, tol=0.001,\n",
      "     verbose=0)\n",
      "train time: 0.040s\n",
      "test time:  0.001s\n",
      "accuracy:   0.729\n",
      "dimensionality: 10874\n",
      "density: 1.000000\n",
      "confusion matrix:\n",
      "[[761 290]\n",
      " [287 795]]\n",
      "\n",
      "________________________________________________________________________________\n",
      "Training: \n",
      "SGDClassifier(alpha=0.0001, average=False, class_weight=None,\n",
      "       early_stopping=False, epsilon=0.1, eta0=0.0, fit_intercept=True,\n",
      "       l1_ratio=0.15, learning_rate='optimal', loss='hinge', max_iter=50,\n",
      "       n_iter=None, n_iter_no_change=5, n_jobs=None, penalty='l2',\n",
      "       power_t=0.5, random_state=None, shuffle=True, tol=None,\n",
      "       validation_fraction=0.1, verbose=0, warm_start=False)\n",
      "train time: 0.036s\n",
      "test time:  0.001s\n",
      "accuracy:   0.732\n",
      "dimensionality: 10874\n",
      "density: 0.951168\n",
      "confusion matrix:\n",
      "[[767 284]\n",
      " [287 795]]\n",
      "\n",
      "================================================================================\n",
      "L1 penalty\n",
      "________________________________________________________________________________\n",
      "Training: \n",
      "LinearSVC(C=1.0, class_weight=None, dual=False, fit_intercept=True,\n",
      "     intercept_scaling=1, loss='squared_hinge', max_iter=1000,\n",
      "     multi_class='ovr', penalty='l1', random_state=None, tol=0.001,\n",
      "     verbose=0)\n",
      "train time: 0.059s\n",
      "test time:  0.001s\n",
      "accuracy:   0.725\n",
      "dimensionality: 10874\n",
      "density: 0.214548\n",
      "confusion matrix:\n",
      "[[774 277]\n",
      " [310 772]]\n",
      "\n",
      "________________________________________________________________________________\n",
      "Training: \n",
      "SGDClassifier(alpha=0.0001, average=False, class_weight=None,\n",
      "       early_stopping=False, epsilon=0.1, eta0=0.0, fit_intercept=True,\n",
      "       l1_ratio=0.15, learning_rate='optimal', loss='hinge', max_iter=50,\n",
      "       n_iter=None, n_iter_no_change=5, n_jobs=None, penalty='l1',\n",
      "       power_t=0.5, random_state=None, shuffle=True, tol=None,\n",
      "       validation_fraction=0.1, verbose=0, warm_start=False)\n",
      "train time: 0.068s\n",
      "test time:  0.001s\n",
      "accuracy:   0.727\n",
      "dimensionality: 10874\n",
      "density: 0.175005\n",
      "confusion matrix:\n",
      "[[782 269]\n",
      " [314 768]]\n",
      "\n"
     ]
    },
    {
     "name": "stderr",
     "output_type": "stream",
     "text": [
      "/usr/local/lib/python3.6/dist-packages/sklearn/linear_model/stochastic_gradient.py:183: FutureWarning: max_iter and tol parameters have been added in SGDClassifier in 0.19. If max_iter is set but tol is left unset, the default value for tol in 0.19 and 0.20 will be None (which is equivalent to -infinity, so it has no effect) but will change in 0.21 to 1e-3. Specify tol to silence this warning.\n",
      "  FutureWarning)\n"
     ]
    }
   ],
   "source": [
    "with parallel_backend('dask'):\n",
    "    for penalty in [\"l2\", \"l1\"]:\n",
    "        print('=' * 80)\n",
    "        print(\"%s penalty\" % penalty.upper())\n",
    "        # Train Liblinear model\n",
    "        results.append(benchmark(LinearSVC(penalty=penalty, dual=False,\n",
    "                                           tol=1e-3)))\n",
    "        # Train SGD model\n",
    "        results.append(benchmark(SGDClassifier(alpha=.0001, max_iter=50,\n",
    "                                               penalty=penalty)))"
   ]
  },
  {
   "cell_type": "code",
   "execution_count": 55,
   "metadata": {},
   "outputs": [
    {
     "name": "stdout",
     "output_type": "stream",
     "text": [
      "================================================================================\n",
      "Elastic-Net penalty\n",
      "________________________________________________________________________________\n",
      "Training: \n",
      "SGDClassifier(alpha=0.0001, average=False, class_weight=None,\n",
      "       early_stopping=False, epsilon=0.1, eta0=0.0, fit_intercept=True,\n",
      "       l1_ratio=0.15, learning_rate='optimal', loss='hinge', max_iter=50,\n",
      "       n_iter=None, n_iter_no_change=5, n_jobs=None, penalty='elasticnet',\n",
      "       power_t=0.5, random_state=None, shuffle=True, tol=None,\n",
      "       validation_fraction=0.1, verbose=0, warm_start=False)\n",
      "train time: 0.071s\n",
      "test time:  0.001s\n",
      "accuracy:   0.733\n",
      "dimensionality: 10874\n",
      "density: 0.789590\n",
      "confusion matrix:\n",
      "[[766 285]\n",
      " [285 797]]\n",
      "\n",
      "================================================================================\n",
      "NearestCentroid (aka Rocchio classifier)\n",
      "________________________________________________________________________________\n",
      "Training: \n",
      "NearestCentroid(metric='euclidean', shrink_threshold=None)\n",
      "train time: 0.005s\n",
      "test time:  0.054s\n",
      "accuracy:   0.710\n",
      "confusion matrix:\n",
      "[[741 310]\n",
      " [308 774]]\n",
      "\n",
      "================================================================================\n",
      "Naive Bayes\n",
      "________________________________________________________________________________\n",
      "Training: \n",
      "MultinomialNB(alpha=0.01, class_prior=None, fit_prior=True)\n",
      "train time: 0.004s\n",
      "test time:  0.001s\n",
      "accuracy:   0.708\n",
      "dimensionality: 10874\n",
      "density: 1.000000\n",
      "confusion matrix:\n",
      "[[740 311]\n",
      " [312 770]]\n",
      "\n",
      "________________________________________________________________________________\n",
      "Training: \n",
      "BernoulliNB(alpha=0.01, binarize=0.0, class_prior=None, fit_prior=True)\n",
      "train time: 0.004s\n",
      "test time:  0.002s\n",
      "accuracy:   0.712\n",
      "dimensionality: 10874\n",
      "density: 1.000000\n",
      "confusion matrix:\n",
      "[[760 291]\n",
      " [323 759]]\n",
      "\n",
      "________________________________________________________________________________\n",
      "Training: \n",
      "ComplementNB(alpha=0.1, class_prior=None, fit_prior=True, norm=False)\n",
      "train time: 0.004s\n",
      "test time:  0.001s\n",
      "accuracy:   0.719\n",
      "dimensionality: 10874\n",
      "density: 1.000000\n",
      "confusion matrix:\n",
      "[[751 300]\n",
      " [299 783]]\n",
      "\n",
      "================================================================================\n",
      "LinearSVC with L1-based feature selection\n",
      "________________________________________________________________________________\n",
      "Training: \n",
      "Pipeline(memory=None,\n",
      "     steps=[('feature_selection', SelectFromModel(estimator=LinearSVC(C=1.0, class_weight=None, dual=False, fit_intercept=True,\n",
      "     intercept_scaling=1, loss='squared_hinge', max_iter=1000,\n",
      "     multi_class='ovr', penalty='l1', random_state=None, tol=0.001,\n",
      "     verbose=0),\n",
      "        max_features=None, no...ax_iter=1000,\n",
      "     multi_class='ovr', penalty='l2', random_state=None, tol=0.0001,\n",
      "     verbose=0))])\n",
      "train time: 0.087s\n",
      "test time:  0.003s\n",
      "accuracy:   0.729\n",
      "confusion matrix:\n",
      "[[761 290]\n",
      " [287 795]]\n",
      "\n"
     ]
    }
   ],
   "source": [
    "with parallel_backend('dask'):\n",
    "    # Train SGD with Elastic Net penalty\n",
    "    print('=' * 80)\n",
    "    print(\"Elastic-Net penalty\")\n",
    "    results.append(benchmark(SGDClassifier(alpha=.0001, max_iter=50,\n",
    "                                           penalty=\"elasticnet\")))\n",
    "    \n",
    "    # Train NearestCentroid without threshold\n",
    "    print('=' * 80)\n",
    "    print(\"NearestCentroid (aka Rocchio classifier)\")\n",
    "    results.append(benchmark(NearestCentroid()))\n",
    "    \n",
    "    # Train sparse Naive Bayes classifiers\n",
    "    print('=' * 80)\n",
    "    print(\"Naive Bayes\")\n",
    "    results.append(benchmark(MultinomialNB(alpha=.01)))\n",
    "    results.append(benchmark(BernoulliNB(alpha=.01)))\n",
    "    results.append(benchmark(ComplementNB(alpha=.1)))\n",
    "    \n",
    "    print('=' * 80)\n",
    "    print(\"LinearSVC with L1-based feature selection\")\n",
    "    # The smaller C, the stronger the regularization.\n",
    "    # The more regularization, the more sparsity.\n",
    "    results.append(benchmark(Pipeline([\n",
    "      ('feature_selection', SelectFromModel(LinearSVC(penalty=\"l1\", dual=False,\n",
    "                                                      tol=1e-3))),\n",
    "      ('classification', LinearSVC(penalty=\"l2\"))])))"
   ]
  },
  {
   "cell_type": "code",
   "execution_count": 62,
   "metadata": {},
   "outputs": [
    {
     "data": {
      "image/png": "[encoded data removed]",
      "text/plain": [
       "<Figure size 864x576 with 1 Axes>"
      ]
     },
     "metadata": {},
     "output_type": "display_data"
    }
   ],
   "source": [
    "# make some plots\n",
    "\n",
    "from copy import copy\n",
    "\n",
    "results_plt = copy(results)\n",
    "\n",
    "indices = np.arange(len(results_plt))\n",
    "\n",
    "results_plt = [[x[i] for x in results_plt] for i in range(4)]\n",
    "\n",
    "clf_names, score, training_time, test_time = results_plt\n",
    "training_time = np.array(training_time) / np.max(training_time)\n",
    "test_time = np.array(test_time) / np.max(test_time)\n",
    "\n",
    "plt.style.use('ggplot')\n",
    "\n",
    "plt.figure(figsize=(12, 8))\n",
    "plt.title(\"Score\")\n",
    "plt.barh(indices, score, .2, label=\"score\", color='navy')\n",
    "plt.barh(indices + .3, training_time, .2, label=\"training time\",\n",
    "         color='c')\n",
    "plt.barh(indices + .6, test_time, .2, label=\"test time\", color='darkorange')\n",
    "plt.yticks(())\n",
    "plt.legend(loc='best')\n",
    "plt.subplots_adjust(left=.25)\n",
    "plt.subplots_adjust(top=.95)\n",
    "plt.subplots_adjust(bottom=.05)\n",
    "\n",
    "for i, c in zip(indices, clf_names):\n",
    "    plt.text(-.3, i, c)\n",
    "\n",
    "\n",
    "plt.show()"
   ]
  },
  {
   "cell_type": "code",
   "execution_count": null,
   "metadata": {},
   "outputs": [],
   "source": []
  },
  {
   "cell_type": "code",
   "execution_count": null,
   "metadata": {},
   "outputs": [],
   "source": []
  },
  {
   "cell_type": "code",
   "execution_count": null,
   "metadata": {},
   "outputs": [],
   "source": []
  },
  {
   "cell_type": "markdown",
   "metadata": {},
   "source": [
    "# Ensemble"
   ]
  },
  {
   "cell_type": "code",
   "execution_count": 101,
   "metadata": {},
   "outputs": [],
   "source": [
    "import xgboost as xgb"
   ]
  },
  {
   "cell_type": "code",
   "execution_count": 106,
   "metadata": {},
   "outputs": [
    {
     "name": "stdout",
     "output_type": "stream",
     "text": [
      "0.7379588888890926\n",
      "Pipeline(memory=None,\n",
      "     steps=[('vect', TfidfVectorizer(analyzer='word', binary=False, decode_error='strict',\n",
      "        dtype=<class 'numpy.float64'>, encoding='utf-8', input='content',\n",
      "        lowercase=True, max_df=1.0, max_features=None, min_df=1,\n",
      "        ngram_range=(1, 1), norm='l2', preprocessor=None, smooth_idf=True,\n",
      "...eg_alpha=0,\n",
      "       reg_lambda=1, scale_pos_weight=1, seed=None, silent=True,\n",
      "       subsample=1.0))])\n"
     ]
    }
   ],
   "source": [
    "# Create full pipeline\n",
    "pipeline = Pipeline([\n",
    "    ('vect', TfidfVectorizer()),\n",
    "    ('tfidf', TfidfTransformer()),\n",
    "    ('clf', xgb.XGBClassifier(objective='binary:logistic')),\n",
    "])\n",
    "\n",
    "\n",
    "# Create the parameter grid\n",
    "xgb_param_grid = {\n",
    "    'clf__learning_rate': np.arange(.05, 1, .05),\n",
    "    'clf__max_depth': np.arange(3, 10, 1),\n",
    "    'clf__n_estimators': np.arange(50, 200, 50),\n",
    "    'clf__gamma': [0.5, 1, 1.5, 2, 5],\n",
    "    'clf__subsample': [0.6, 0.8, 1.0],\n",
    "    'clf__colsample_bytree': [0.6, 0.8, 1.0],\n",
    "}\n",
    "\n",
    "      #silent': ['1'],\n",
    "      #'colsample': [0.9],\n",
    "      #'colsample_bytree': [0.6, 0.8, 1.0],\n",
    "      #'eta': [0.1],\n",
    "      #'max_depth': [3, 4, 5, 8],\n",
    "      #'min_child_weight': [1, 5, 10],\n",
    "      #'subsample': [0.6, 0.8, 1.0],\n",
    "      #'gamma': [0.5, 1, 1.5, 2, 5],\n",
    "      #'n_estimators': [20, 50, 100],\n",
    "      #'reg_alpha': [0.3, 0.5, 0.8],\n",
    "      #'learning_rate': [0.05, 0.10, 0.15, 0.20, 0.25, 0.30 ],\n",
    "      #'scale_pos_weight': 1,\n",
    "\n",
    "\n",
    "# Perform RandomizedSearchCV\n",
    "randomized_roc_auc = RandomizedSearchCV(estimator=pipeline,\n",
    "                                        param_distributions=xgb_param_grid,\n",
    "                                        n_iter=20, n_jobs=-1, scoring='roc_auc', cv=5,random_state=42)\n",
    "\n",
    "# Fit the estimator\n",
    "randomized_roc_auc.fit(X_train, y_train)\n",
    "\n",
    "# Compute metrics\n",
    "print(randomized_roc_auc.best_score_)\n",
    "print(randomized_roc_auc.best_estimator_)"
   ]
  },
  {
   "cell_type": "code",
   "execution_count": 107,
   "metadata": {},
   "outputs": [
    {
     "name": "stdout",
     "output_type": "stream",
     "text": [
      "Best score: 0.738\n",
      "Best parameters set:\n",
      "\tclf__colsample_bytree: 0.6\n",
      "\tclf__gamma: 0.5\n",
      "\tclf__learning_rate: 0.7000000000000001\n",
      "\tclf__max_depth: 7\n",
      "\tclf__n_estimators: 100\n",
      "\tclf__subsample: 1.0\n",
      "accuracy: 0.6910454758556024\n",
      "\n",
      "F1-score: 0.6848397895743663\n"
     ]
    }
   ],
   "source": [
    "print(\"Best score: %0.3f\" % randomized_roc_auc.best_score_)\n",
    "print(\"Best parameters set:\")\n",
    "best_parameters = randomized_roc_auc.best_estimator_.get_params()\n",
    "for param_name in sorted(xgb_param_grid.keys()):\n",
    "    print(\"\\t%s: %r\" % (param_name, best_parameters[param_name]))\n",
    "print(f'accuracy: {metrics.accuracy_score(y_test, randomized_roc_auc.predict(X_test))}')\n",
    "print()\n",
    "print(f'F1-score: {metrics.f1_score(y_test, randomized_roc_auc.predict(X_test))}')"
   ]
  }
 ],
 "metadata": {
  "kernelspec": {
   "display_name": "Python 3",
   "language": "python",
   "name": "python3"
  },
  "language_info": {
   "codemirror_mode": {
    "name": "ipython",
    "version": 3
   },
   "file_extension": ".py",
   "mimetype": "text/x-python",
   "name": "python",
   "nbconvert_exporter": "python",
   "pygments_lexer": "ipython3",
   "version": "3.7.2"
  },
  "toc": {
   "base_numbering": 1,
   "nav_menu": {},
   "number_sections": true,
   "sideBar": true,
   "skip_h1_title": false,
   "title_cell": "Table of Contents",
   "title_sidebar": "Contents",
   "toc_cell": false,
   "toc_position": {},
   "toc_section_display": true,
   "toc_window_display": false
  }
 },
 "nbformat": 4,
 "nbformat_minor": 2
}
